{
 "cells": [
  {
   "cell_type": "markdown",
   "metadata": {},
   "source": [
    "## ETL"
   ]
  },
  {
   "cell_type": "code",
   "execution_count": 186,
   "metadata": {},
   "outputs": [],
   "source": [
    "import pandas as pd\n",
    "import numpy as np\n",
    "import ast\n",
    "import json\n",
    "from datetime import datetime as dt"
   ]
  },
  {
   "cell_type": "code",
   "execution_count": 187,
   "metadata": {},
   "outputs": [
    {
     "name": "stderr",
     "output_type": "stream",
     "text": [
      "C:\\Users\\jhnnc\\AppData\\Local\\Temp\\ipykernel_13660\\3173631191.py:1: DtypeWarning: Columns (10) have mixed types. Specify dtype option on import or set low_memory=False.\n",
      "  df_movies = pd.read_csv('D:\\HENRY REPO\\Proyecto Individual\\Movies-20241022T010521Z-001\\Movies\\movies_dataset.csv', sep = ',')\n"
     ]
    },
    {
     "data": {
      "text/html": [
       "<div>\n",
       "<style scoped>\n",
       "    .dataframe tbody tr th:only-of-type {\n",
       "        vertical-align: middle;\n",
       "    }\n",
       "\n",
       "    .dataframe tbody tr th {\n",
       "        vertical-align: top;\n",
       "    }\n",
       "\n",
       "    .dataframe thead th {\n",
       "        text-align: right;\n",
       "    }\n",
       "</style>\n",
       "<table border=\"1\" class=\"dataframe\">\n",
       "  <thead>\n",
       "    <tr style=\"text-align: right;\">\n",
       "      <th></th>\n",
       "      <th>adult</th>\n",
       "      <th>belongs_to_collection</th>\n",
       "      <th>budget</th>\n",
       "      <th>genres</th>\n",
       "      <th>homepage</th>\n",
       "      <th>id</th>\n",
       "      <th>imdb_id</th>\n",
       "      <th>original_language</th>\n",
       "      <th>original_title</th>\n",
       "      <th>overview</th>\n",
       "      <th>...</th>\n",
       "      <th>release_date</th>\n",
       "      <th>revenue</th>\n",
       "      <th>runtime</th>\n",
       "      <th>spoken_languages</th>\n",
       "      <th>status</th>\n",
       "      <th>tagline</th>\n",
       "      <th>title</th>\n",
       "      <th>video</th>\n",
       "      <th>vote_average</th>\n",
       "      <th>vote_count</th>\n",
       "    </tr>\n",
       "  </thead>\n",
       "  <tbody>\n",
       "    <tr>\n",
       "      <th>0</th>\n",
       "      <td>False</td>\n",
       "      <td>{'id': 10194, 'name': 'Toy Story Collection', ...</td>\n",
       "      <td>30000000</td>\n",
       "      <td>[{'id': 16, 'name': 'Animation'}, {'id': 35, '...</td>\n",
       "      <td>http://toystory.disney.com/toy-story</td>\n",
       "      <td>862</td>\n",
       "      <td>tt0114709</td>\n",
       "      <td>en</td>\n",
       "      <td>Toy Story</td>\n",
       "      <td>Led by Woody, Andy's toys live happily in his ...</td>\n",
       "      <td>...</td>\n",
       "      <td>1995-10-30</td>\n",
       "      <td>373554033.0</td>\n",
       "      <td>81.0</td>\n",
       "      <td>[{'iso_639_1': 'en', 'name': 'English'}]</td>\n",
       "      <td>Released</td>\n",
       "      <td>NaN</td>\n",
       "      <td>Toy Story</td>\n",
       "      <td>False</td>\n",
       "      <td>7.7</td>\n",
       "      <td>5415.0</td>\n",
       "    </tr>\n",
       "    <tr>\n",
       "      <th>1</th>\n",
       "      <td>False</td>\n",
       "      <td>NaN</td>\n",
       "      <td>65000000</td>\n",
       "      <td>[{'id': 12, 'name': 'Adventure'}, {'id': 14, '...</td>\n",
       "      <td>NaN</td>\n",
       "      <td>8844</td>\n",
       "      <td>tt0113497</td>\n",
       "      <td>en</td>\n",
       "      <td>Jumanji</td>\n",
       "      <td>When siblings Judy and Peter discover an encha...</td>\n",
       "      <td>...</td>\n",
       "      <td>1995-12-15</td>\n",
       "      <td>262797249.0</td>\n",
       "      <td>104.0</td>\n",
       "      <td>[{'iso_639_1': 'en', 'name': 'English'}, {'iso...</td>\n",
       "      <td>Released</td>\n",
       "      <td>Roll the dice and unleash the excitement!</td>\n",
       "      <td>Jumanji</td>\n",
       "      <td>False</td>\n",
       "      <td>6.9</td>\n",
       "      <td>2413.0</td>\n",
       "    </tr>\n",
       "    <tr>\n",
       "      <th>2</th>\n",
       "      <td>False</td>\n",
       "      <td>{'id': 119050, 'name': 'Grumpy Old Men Collect...</td>\n",
       "      <td>0</td>\n",
       "      <td>[{'id': 10749, 'name': 'Romance'}, {'id': 35, ...</td>\n",
       "      <td>NaN</td>\n",
       "      <td>15602</td>\n",
       "      <td>tt0113228</td>\n",
       "      <td>en</td>\n",
       "      <td>Grumpier Old Men</td>\n",
       "      <td>A family wedding reignites the ancient feud be...</td>\n",
       "      <td>...</td>\n",
       "      <td>1995-12-22</td>\n",
       "      <td>0.0</td>\n",
       "      <td>101.0</td>\n",
       "      <td>[{'iso_639_1': 'en', 'name': 'English'}]</td>\n",
       "      <td>Released</td>\n",
       "      <td>Still Yelling. Still Fighting. Still Ready for...</td>\n",
       "      <td>Grumpier Old Men</td>\n",
       "      <td>False</td>\n",
       "      <td>6.5</td>\n",
       "      <td>92.0</td>\n",
       "    </tr>\n",
       "    <tr>\n",
       "      <th>3</th>\n",
       "      <td>False</td>\n",
       "      <td>NaN</td>\n",
       "      <td>16000000</td>\n",
       "      <td>[{'id': 35, 'name': 'Comedy'}, {'id': 18, 'nam...</td>\n",
       "      <td>NaN</td>\n",
       "      <td>31357</td>\n",
       "      <td>tt0114885</td>\n",
       "      <td>en</td>\n",
       "      <td>Waiting to Exhale</td>\n",
       "      <td>Cheated on, mistreated and stepped on, the wom...</td>\n",
       "      <td>...</td>\n",
       "      <td>1995-12-22</td>\n",
       "      <td>81452156.0</td>\n",
       "      <td>127.0</td>\n",
       "      <td>[{'iso_639_1': 'en', 'name': 'English'}]</td>\n",
       "      <td>Released</td>\n",
       "      <td>Friends are the people who let you be yourself...</td>\n",
       "      <td>Waiting to Exhale</td>\n",
       "      <td>False</td>\n",
       "      <td>6.1</td>\n",
       "      <td>34.0</td>\n",
       "    </tr>\n",
       "    <tr>\n",
       "      <th>4</th>\n",
       "      <td>False</td>\n",
       "      <td>{'id': 96871, 'name': 'Father of the Bride Col...</td>\n",
       "      <td>0</td>\n",
       "      <td>[{'id': 35, 'name': 'Comedy'}]</td>\n",
       "      <td>NaN</td>\n",
       "      <td>11862</td>\n",
       "      <td>tt0113041</td>\n",
       "      <td>en</td>\n",
       "      <td>Father of the Bride Part II</td>\n",
       "      <td>Just when George Banks has recovered from his ...</td>\n",
       "      <td>...</td>\n",
       "      <td>1995-02-10</td>\n",
       "      <td>76578911.0</td>\n",
       "      <td>106.0</td>\n",
       "      <td>[{'iso_639_1': 'en', 'name': 'English'}]</td>\n",
       "      <td>Released</td>\n",
       "      <td>Just When His World Is Back To Normal... He's ...</td>\n",
       "      <td>Father of the Bride Part II</td>\n",
       "      <td>False</td>\n",
       "      <td>5.7</td>\n",
       "      <td>173.0</td>\n",
       "    </tr>\n",
       "  </tbody>\n",
       "</table>\n",
       "<p>5 rows × 24 columns</p>\n",
       "</div>"
      ],
      "text/plain": [
       "   adult                              belongs_to_collection    budget  \\\n",
       "0  False  {'id': 10194, 'name': 'Toy Story Collection', ...  30000000   \n",
       "1  False                                                NaN  65000000   \n",
       "2  False  {'id': 119050, 'name': 'Grumpy Old Men Collect...         0   \n",
       "3  False                                                NaN  16000000   \n",
       "4  False  {'id': 96871, 'name': 'Father of the Bride Col...         0   \n",
       "\n",
       "                                              genres  \\\n",
       "0  [{'id': 16, 'name': 'Animation'}, {'id': 35, '...   \n",
       "1  [{'id': 12, 'name': 'Adventure'}, {'id': 14, '...   \n",
       "2  [{'id': 10749, 'name': 'Romance'}, {'id': 35, ...   \n",
       "3  [{'id': 35, 'name': 'Comedy'}, {'id': 18, 'nam...   \n",
       "4                     [{'id': 35, 'name': 'Comedy'}]   \n",
       "\n",
       "                               homepage     id    imdb_id original_language  \\\n",
       "0  http://toystory.disney.com/toy-story    862  tt0114709                en   \n",
       "1                                   NaN   8844  tt0113497                en   \n",
       "2                                   NaN  15602  tt0113228                en   \n",
       "3                                   NaN  31357  tt0114885                en   \n",
       "4                                   NaN  11862  tt0113041                en   \n",
       "\n",
       "                original_title  \\\n",
       "0                    Toy Story   \n",
       "1                      Jumanji   \n",
       "2             Grumpier Old Men   \n",
       "3            Waiting to Exhale   \n",
       "4  Father of the Bride Part II   \n",
       "\n",
       "                                            overview  ... release_date  \\\n",
       "0  Led by Woody, Andy's toys live happily in his ...  ...   1995-10-30   \n",
       "1  When siblings Judy and Peter discover an encha...  ...   1995-12-15   \n",
       "2  A family wedding reignites the ancient feud be...  ...   1995-12-22   \n",
       "3  Cheated on, mistreated and stepped on, the wom...  ...   1995-12-22   \n",
       "4  Just when George Banks has recovered from his ...  ...   1995-02-10   \n",
       "\n",
       "       revenue runtime                                   spoken_languages  \\\n",
       "0  373554033.0    81.0           [{'iso_639_1': 'en', 'name': 'English'}]   \n",
       "1  262797249.0   104.0  [{'iso_639_1': 'en', 'name': 'English'}, {'iso...   \n",
       "2          0.0   101.0           [{'iso_639_1': 'en', 'name': 'English'}]   \n",
       "3   81452156.0   127.0           [{'iso_639_1': 'en', 'name': 'English'}]   \n",
       "4   76578911.0   106.0           [{'iso_639_1': 'en', 'name': 'English'}]   \n",
       "\n",
       "     status                                            tagline  \\\n",
       "0  Released                                                NaN   \n",
       "1  Released          Roll the dice and unleash the excitement!   \n",
       "2  Released  Still Yelling. Still Fighting. Still Ready for...   \n",
       "3  Released  Friends are the people who let you be yourself...   \n",
       "4  Released  Just When His World Is Back To Normal... He's ...   \n",
       "\n",
       "                         title  video vote_average vote_count  \n",
       "0                    Toy Story  False          7.7     5415.0  \n",
       "1                      Jumanji  False          6.9     2413.0  \n",
       "2             Grumpier Old Men  False          6.5       92.0  \n",
       "3            Waiting to Exhale  False          6.1       34.0  \n",
       "4  Father of the Bride Part II  False          5.7      173.0  \n",
       "\n",
       "[5 rows x 24 columns]"
      ]
     },
     "execution_count": 187,
     "metadata": {},
     "output_type": "execute_result"
    }
   ],
   "source": [
    "\n",
    "df_movies = pd.read_csv('D:\\HENRY REPO\\Proyecto Individual\\Movies-20241022T010521Z-001\\Movies\\movies_dataset.csv', sep = ',')\n",
    "df_movies.head()"
   ]
  },
  {
   "cell_type": "code",
   "execution_count": 188,
   "metadata": {},
   "outputs": [
    {
     "data": {
      "text/plain": [
       "(45466, 24)"
      ]
     },
     "execution_count": 188,
     "metadata": {},
     "output_type": "execute_result"
    }
   ],
   "source": [
    "df_movies.shape # dimensiones del dataset"
   ]
  },
  {
   "cell_type": "code",
   "execution_count": 189,
   "metadata": {},
   "outputs": [
    {
     "data": {
      "text/plain": [
       "Index(['adult', 'belongs_to_collection', 'budget', 'genres', 'homepage', 'id',\n",
       "       'imdb_id', 'original_language', 'original_title', 'overview',\n",
       "       'popularity', 'poster_path', 'production_companies',\n",
       "       'production_countries', 'release_date', 'revenue', 'runtime',\n",
       "       'spoken_languages', 'status', 'tagline', 'title', 'video',\n",
       "       'vote_average', 'vote_count'],\n",
       "      dtype='object')"
      ]
     },
     "execution_count": 189,
     "metadata": {},
     "output_type": "execute_result"
    }
   ],
   "source": [
    "df_movies.columns #observamos la columna"
   ]
  },
  {
   "cell_type": "markdown",
   "metadata": {},
   "source": [
    "(Punto 6 de henry) Eliminar las columnas que no serán utilizadas, video, imdb_id, adult, original_title, poster_path y homepage.\n",
    "\n",
    "También eliminares columnas como production_companies, production_countries, runtime, tagline y spoken_languages como parte de la reducción por cuestiones de limitación de recursos para Render, ademas estas columnas no aportaran información relevante mas allá de las que ya tenemos."
   ]
  },
  {
   "cell_type": "code",
   "execution_count": 190,
   "metadata": {},
   "outputs": [],
   "source": [
    "df_movies.drop(\n",
    "    labels=['video', 'imdb_id', 'adult', 'original_title', 'poster_path', 'homepage', 'production_companies', 'production_countries', 'runtime', 'tagline', 'spoken_languages'], \n",
    "    axis = 1, \n",
    "    inplace=True\n",
    "    )"
   ]
  },
  {
   "cell_type": "code",
   "execution_count": 191,
   "metadata": {},
   "outputs": [
    {
     "data": {
      "text/plain": [
       "belongs_to_collection     object\n",
       "budget                    object\n",
       "genres                    object\n",
       "id                        object\n",
       "original_language         object\n",
       "overview                  object\n",
       "popularity                object\n",
       "release_date              object\n",
       "revenue                  float64\n",
       "status                    object\n",
       "title                     object\n",
       "vote_average             float64\n",
       "vote_count               float64\n",
       "dtype: object"
      ]
     },
     "execution_count": 191,
     "metadata": {},
     "output_type": "execute_result"
    }
   ],
   "source": [
    "# Observamos los tipos de datos de cada columna\n",
    "df_movies.dtypes"
   ]
  },
  {
   "cell_type": "markdown",
   "metadata": {},
   "source": [
    "Las columnas budget, popularity, id y revenue que originalmente son de tipo 'object' las transformaremos al tipo numerico ya que son numeros pero se encuentran en string"
   ]
  },
  {
   "cell_type": "code",
   "execution_count": 192,
   "metadata": {},
   "outputs": [],
   "source": [
    "df_movies['budget'] = df_movies['budget'].apply(pd.to_numeric,errors='coerce')\n",
    "df_movies['popularity'] = df_movies['popularity'].apply(pd.to_numeric,errors='coerce')\n",
    "df_movies['revenue'] = df_movies['revenue'].apply(pd.to_numeric,errors='coerce')\n",
    "df_movies['id'] = df_movies['id'].apply(pd.to_numeric,errors='coerce')"
   ]
  },
  {
   "cell_type": "code",
   "execution_count": 193,
   "metadata": {},
   "outputs": [
    {
     "data": {
      "text/html": [
       "<div>\n",
       "<style scoped>\n",
       "    .dataframe tbody tr th:only-of-type {\n",
       "        vertical-align: middle;\n",
       "    }\n",
       "\n",
       "    .dataframe tbody tr th {\n",
       "        vertical-align: top;\n",
       "    }\n",
       "\n",
       "    .dataframe thead th {\n",
       "        text-align: right;\n",
       "    }\n",
       "</style>\n",
       "<table border=\"1\" class=\"dataframe\">\n",
       "  <thead>\n",
       "    <tr style=\"text-align: right;\">\n",
       "      <th></th>\n",
       "      <th>budget</th>\n",
       "      <th>id</th>\n",
       "      <th>popularity</th>\n",
       "      <th>revenue</th>\n",
       "      <th>vote_average</th>\n",
       "      <th>vote_count</th>\n",
       "    </tr>\n",
       "  </thead>\n",
       "  <tbody>\n",
       "    <tr>\n",
       "      <th>count</th>\n",
       "      <td>4.546300e+04</td>\n",
       "      <td>45463.000000</td>\n",
       "      <td>45460.000000</td>\n",
       "      <td>4.546000e+04</td>\n",
       "      <td>45460.000000</td>\n",
       "      <td>45460.000000</td>\n",
       "    </tr>\n",
       "    <tr>\n",
       "      <th>mean</th>\n",
       "      <td>4.224579e+06</td>\n",
       "      <td>108359.918813</td>\n",
       "      <td>2.921478</td>\n",
       "      <td>1.120935e+07</td>\n",
       "      <td>5.618207</td>\n",
       "      <td>109.897338</td>\n",
       "    </tr>\n",
       "    <tr>\n",
       "      <th>std</th>\n",
       "      <td>1.742413e+07</td>\n",
       "      <td>112460.749278</td>\n",
       "      <td>6.005414</td>\n",
       "      <td>6.433225e+07</td>\n",
       "      <td>1.924216</td>\n",
       "      <td>491.310374</td>\n",
       "    </tr>\n",
       "    <tr>\n",
       "      <th>min</th>\n",
       "      <td>0.000000e+00</td>\n",
       "      <td>2.000000</td>\n",
       "      <td>0.000000</td>\n",
       "      <td>0.000000e+00</td>\n",
       "      <td>0.000000</td>\n",
       "      <td>0.000000</td>\n",
       "    </tr>\n",
       "    <tr>\n",
       "      <th>25%</th>\n",
       "      <td>0.000000e+00</td>\n",
       "      <td>26449.500000</td>\n",
       "      <td>0.385948</td>\n",
       "      <td>0.000000e+00</td>\n",
       "      <td>5.000000</td>\n",
       "      <td>3.000000</td>\n",
       "    </tr>\n",
       "    <tr>\n",
       "      <th>50%</th>\n",
       "      <td>0.000000e+00</td>\n",
       "      <td>60003.000000</td>\n",
       "      <td>1.127685</td>\n",
       "      <td>0.000000e+00</td>\n",
       "      <td>6.000000</td>\n",
       "      <td>10.000000</td>\n",
       "    </tr>\n",
       "    <tr>\n",
       "      <th>75%</th>\n",
       "      <td>0.000000e+00</td>\n",
       "      <td>157328.000000</td>\n",
       "      <td>3.678902</td>\n",
       "      <td>0.000000e+00</td>\n",
       "      <td>6.800000</td>\n",
       "      <td>34.000000</td>\n",
       "    </tr>\n",
       "    <tr>\n",
       "      <th>max</th>\n",
       "      <td>3.800000e+08</td>\n",
       "      <td>469172.000000</td>\n",
       "      <td>547.488298</td>\n",
       "      <td>2.787965e+09</td>\n",
       "      <td>10.000000</td>\n",
       "      <td>14075.000000</td>\n",
       "    </tr>\n",
       "  </tbody>\n",
       "</table>\n",
       "</div>"
      ],
      "text/plain": [
       "             budget             id    popularity       revenue  vote_average  \\\n",
       "count  4.546300e+04   45463.000000  45460.000000  4.546000e+04  45460.000000   \n",
       "mean   4.224579e+06  108359.918813      2.921478  1.120935e+07      5.618207   \n",
       "std    1.742413e+07  112460.749278      6.005414  6.433225e+07      1.924216   \n",
       "min    0.000000e+00       2.000000      0.000000  0.000000e+00      0.000000   \n",
       "25%    0.000000e+00   26449.500000      0.385948  0.000000e+00      5.000000   \n",
       "50%    0.000000e+00   60003.000000      1.127685  0.000000e+00      6.000000   \n",
       "75%    0.000000e+00  157328.000000      3.678902  0.000000e+00      6.800000   \n",
       "max    3.800000e+08  469172.000000    547.488298  2.787965e+09     10.000000   \n",
       "\n",
       "         vote_count  \n",
       "count  45460.000000  \n",
       "mean     109.897338  \n",
       "std      491.310374  \n",
       "min        0.000000  \n",
       "25%        3.000000  \n",
       "50%       10.000000  \n",
       "75%       34.000000  \n",
       "max    14075.000000  "
      ]
     },
     "execution_count": 193,
     "metadata": {},
     "output_type": "execute_result"
    }
   ],
   "source": [
    "df_movies.describe()"
   ]
  },
  {
   "cell_type": "markdown",
   "metadata": {},
   "source": [
    "(Punto 1 de henry) Algunos campos, como belongs_to_collection, production_companies y otros (ver diccionario de datos) están anidados, esto es o bien tienen un diccionario o una lista como valores en cada fila, ¡deberán desanidarlos para poder y unirlos al dataset de nuevo hacer alguna de las consultas de la API! O bien buscar la manera de acceder a esos datos sin desanidarlos.\n",
    "\n",
    "\n",
    "Desanadiremos las columnas belongs_to_collection y genres, solo extraeremos los valores de nombres de la coleccion y nombres de los generos, estos valores estaran separados solo por espacioes en blanco y reemplazaran a las originales"
   ]
  },
  {
   "cell_type": "code",
   "execution_count": 194,
   "metadata": {},
   "outputs": [],
   "source": [
    "# desanidaremos la columna belongs_to_collection\n",
    "\n",
    "def desanidar_collection(fila):\n",
    "\n",
    "    try:\n",
    "        string = fila.replace(\"'\", '\"') # reemplazamos comillas simples por dobles de la cadena\n",
    "        dict_collection = json.loads(string) # obtenemos el diccionario de la cadena\n",
    "        coleccion = dict_collection['name'] # obtenemos el valor de la clave name\n",
    "        return coleccion\n",
    "    except:\n",
    "        \n",
    "        return np.nan # Si el campo esta vacio entonces devolvemos NaN\n",
    "\n",
    "df_movies['belongs_to_collection']=df_movies['belongs_to_collection'].apply(desanidar_collection) #aplicamos la funcion a cada fila"
   ]
  },
  {
   "cell_type": "code",
   "execution_count": 195,
   "metadata": {},
   "outputs": [],
   "source": [
    "# desanidaremos la columna genres\n",
    "\n",
    "def desanidar_genres(fila):\n",
    "\n",
    "    \n",
    "    string = fila.replace(\"'\", '\"') # reemplazamos comillas simples por dobles de la cadena\n",
    "    dict_collection = json.loads(string) # obtenemos el diccionario de la cadena\n",
    "    lista = [i['name'] for i in dict_collection if i['name'] ] # obtenemos el valor de la clave name y la guardamos en una lista\n",
    "    \n",
    "    # quitamos las comas que separan a cada elemento de la lista y las reemplazamos por espacios en blanco\n",
    "    if lista: \n",
    "\n",
    "        lista_desanidado = ' '.join(lista)\n",
    "        \n",
    "        return lista_desanidado\n",
    "    else:\n",
    "        return np.nan # Si el campo esta vacio entonces devolvemos NaN\n",
    "\n",
    "df_movies['genres']=df_movies['genres'].apply(desanidar_genres) #aplicamos la funcion a cada fila"
   ]
  },
  {
   "cell_type": "markdown",
   "metadata": {},
   "source": [
    "(de henry) Los valores nulos de los campos revenue, budget deben ser rellenados por el número 0."
   ]
  },
  {
   "cell_type": "code",
   "execution_count": 196,
   "metadata": {},
   "outputs": [],
   "source": [
    "columns = {'revenue':0, 'budget':0} \n",
    "df_movies.fillna(columns, inplace=True)"
   ]
  },
  {
   "cell_type": "markdown",
   "metadata": {},
   "source": [
    "(de henry) Crear la columna con el retorno de inversión, llamada return con los campos revenue y budget, dividiendo estas dos últimas revenue / budget, cuando no hay datos disponibles para calcularlo, deberá tomar el valor 0."
   ]
  },
  {
   "cell_type": "code",
   "execution_count": 197,
   "metadata": {},
   "outputs": [
    {
     "name": "stderr",
     "output_type": "stream",
     "text": [
      "C:\\Users\\jhnnc\\AppData\\Local\\Temp\\ipykernel_13660\\579685176.py:10: RuntimeWarning: invalid value encountered in scalar divide\n",
      "  result = a/b # devidimos los valores\n",
      "C:\\Users\\jhnnc\\AppData\\Local\\Temp\\ipykernel_13660\\579685176.py:10: RuntimeWarning: divide by zero encountered in scalar divide\n",
      "  result = a/b # devidimos los valores\n"
     ]
    }
   ],
   "source": [
    "# iteramos sobre la columna revenue para extraer valores\n",
    "\n",
    "lista_return = []\n",
    "\n",
    "for i in range(len(df_movies['revenue'])):\n",
    "    \n",
    "    try:\n",
    "        a=df_movies.loc[i,'revenue'] # extraemos el valor numerico revenue de cada fila\n",
    "        b=df_movies.loc[i, 'budget'] # extraemos el valor numerico budget de cada fila\n",
    "        result = a/b # devidimos los valores\n",
    "        if result == float(result) and b != 0: # evitamos una division por cero\n",
    "            lista_return.append(result)\n",
    "        else:\n",
    "            lista_return.append(0.0) # Si la division es por eso cero \n",
    "    except:\n",
    "        lista_return.append(0.0)# Cualquier otro error matematico "
   ]
  },
  {
   "cell_type": "markdown",
   "metadata": {},
   "source": [
    "Creamos un dataset 'data_return' con la lista lista_return, con la columna llamada return"
   ]
  },
  {
   "cell_type": "code",
   "execution_count": 198,
   "metadata": {},
   "outputs": [],
   "source": [
    "df_return  = pd.DataFrame(lista_return, columns=['return'])"
   ]
  },
  {
   "cell_type": "markdown",
   "metadata": {},
   "source": [
    "(de henry) De haber fechas, deberán tener el formato AAAA-mm-dd, además deberán crear la columna release_year donde extraerán el año de la fecha de estreno."
   ]
  },
  {
   "cell_type": "code",
   "execution_count": 199,
   "metadata": {},
   "outputs": [],
   "source": [
    "# La funcion convierte cada fila de la columna release_date que originalmente es una cadena en formato datetime\n",
    "\n",
    "list_year = []\n",
    "def convertir_fecha(fecha):  \n",
    "    try:\n",
    "        fecha_t = dt.strptime(fecha, '%Y-%m-%d') # convertimos la cadena en datetime en formato AAAA-mm-dd\n",
    "        list_year.append(fecha_t.year) # agregamos a la lista list_year\n",
    "        return fecha_t.date() # retornamos solo el la fecha\n",
    "    except:\n",
    "        list_year.append(np.nan) \n",
    "        return np.nan # en caso que el campo este vacio o no contenga el formato, returnamos NaN\n",
    "df_movies['release_date'] = df_movies['release_date'].apply(convertir_fecha) # aplicamos la funcion a cada fila de la columna release_date"
   ]
  },
  {
   "cell_type": "markdown",
   "metadata": {},
   "source": [
    "Creamos un dataset 'df_year' con la lista list_year, con la columna llamada release_year"
   ]
  },
  {
   "cell_type": "code",
   "execution_count": 200,
   "metadata": {},
   "outputs": [],
   "source": [
    "\n",
    "df_year = pd.DataFrame(list_year, columns=['release_year'])"
   ]
  },
  {
   "cell_type": "markdown",
   "metadata": {},
   "source": [
    "Concatenamos los datasets df_return y df_year con df_year"
   ]
  },
  {
   "cell_type": "code",
   "execution_count": 201,
   "metadata": {},
   "outputs": [
    {
     "data": {
      "text/html": [
       "<div>\n",
       "<style scoped>\n",
       "    .dataframe tbody tr th:only-of-type {\n",
       "        vertical-align: middle;\n",
       "    }\n",
       "\n",
       "    .dataframe tbody tr th {\n",
       "        vertical-align: top;\n",
       "    }\n",
       "\n",
       "    .dataframe thead th {\n",
       "        text-align: right;\n",
       "    }\n",
       "</style>\n",
       "<table border=\"1\" class=\"dataframe\">\n",
       "  <thead>\n",
       "    <tr style=\"text-align: right;\">\n",
       "      <th></th>\n",
       "      <th>belongs_to_collection</th>\n",
       "      <th>budget</th>\n",
       "      <th>genres</th>\n",
       "      <th>id</th>\n",
       "      <th>original_language</th>\n",
       "      <th>overview</th>\n",
       "      <th>popularity</th>\n",
       "      <th>release_date</th>\n",
       "      <th>revenue</th>\n",
       "      <th>status</th>\n",
       "      <th>title</th>\n",
       "      <th>vote_average</th>\n",
       "      <th>vote_count</th>\n",
       "      <th>return</th>\n",
       "      <th>release_year</th>\n",
       "    </tr>\n",
       "  </thead>\n",
       "  <tbody>\n",
       "    <tr>\n",
       "      <th>0</th>\n",
       "      <td>Toy Story Collection</td>\n",
       "      <td>30000000.0</td>\n",
       "      <td>Animation Comedy Family</td>\n",
       "      <td>862.0</td>\n",
       "      <td>en</td>\n",
       "      <td>Led by Woody, Andy's toys live happily in his ...</td>\n",
       "      <td>21.946943</td>\n",
       "      <td>1995-10-30</td>\n",
       "      <td>373554033.0</td>\n",
       "      <td>Released</td>\n",
       "      <td>Toy Story</td>\n",
       "      <td>7.7</td>\n",
       "      <td>5415.0</td>\n",
       "      <td>12.451801</td>\n",
       "      <td>1995.0</td>\n",
       "    </tr>\n",
       "    <tr>\n",
       "      <th>1</th>\n",
       "      <td>NaN</td>\n",
       "      <td>65000000.0</td>\n",
       "      <td>Adventure Fantasy Family</td>\n",
       "      <td>8844.0</td>\n",
       "      <td>en</td>\n",
       "      <td>When siblings Judy and Peter discover an encha...</td>\n",
       "      <td>17.015539</td>\n",
       "      <td>1995-12-15</td>\n",
       "      <td>262797249.0</td>\n",
       "      <td>Released</td>\n",
       "      <td>Jumanji</td>\n",
       "      <td>6.9</td>\n",
       "      <td>2413.0</td>\n",
       "      <td>4.043035</td>\n",
       "      <td>1995.0</td>\n",
       "    </tr>\n",
       "    <tr>\n",
       "      <th>2</th>\n",
       "      <td>Grumpy Old Men Collection</td>\n",
       "      <td>0.0</td>\n",
       "      <td>Romance Comedy</td>\n",
       "      <td>15602.0</td>\n",
       "      <td>en</td>\n",
       "      <td>A family wedding reignites the ancient feud be...</td>\n",
       "      <td>11.712900</td>\n",
       "      <td>1995-12-22</td>\n",
       "      <td>0.0</td>\n",
       "      <td>Released</td>\n",
       "      <td>Grumpier Old Men</td>\n",
       "      <td>6.5</td>\n",
       "      <td>92.0</td>\n",
       "      <td>0.000000</td>\n",
       "      <td>1995.0</td>\n",
       "    </tr>\n",
       "    <tr>\n",
       "      <th>3</th>\n",
       "      <td>NaN</td>\n",
       "      <td>16000000.0</td>\n",
       "      <td>Comedy Drama Romance</td>\n",
       "      <td>31357.0</td>\n",
       "      <td>en</td>\n",
       "      <td>Cheated on, mistreated and stepped on, the wom...</td>\n",
       "      <td>3.859495</td>\n",
       "      <td>1995-12-22</td>\n",
       "      <td>81452156.0</td>\n",
       "      <td>Released</td>\n",
       "      <td>Waiting to Exhale</td>\n",
       "      <td>6.1</td>\n",
       "      <td>34.0</td>\n",
       "      <td>5.090760</td>\n",
       "      <td>1995.0</td>\n",
       "    </tr>\n",
       "    <tr>\n",
       "      <th>4</th>\n",
       "      <td>Father of the Bride Collection</td>\n",
       "      <td>0.0</td>\n",
       "      <td>Comedy</td>\n",
       "      <td>11862.0</td>\n",
       "      <td>en</td>\n",
       "      <td>Just when George Banks has recovered from his ...</td>\n",
       "      <td>8.387519</td>\n",
       "      <td>1995-02-10</td>\n",
       "      <td>76578911.0</td>\n",
       "      <td>Released</td>\n",
       "      <td>Father of the Bride Part II</td>\n",
       "      <td>5.7</td>\n",
       "      <td>173.0</td>\n",
       "      <td>0.000000</td>\n",
       "      <td>1995.0</td>\n",
       "    </tr>\n",
       "  </tbody>\n",
       "</table>\n",
       "</div>"
      ],
      "text/plain": [
       "            belongs_to_collection      budget                    genres  \\\n",
       "0            Toy Story Collection  30000000.0   Animation Comedy Family   \n",
       "1                             NaN  65000000.0  Adventure Fantasy Family   \n",
       "2       Grumpy Old Men Collection         0.0            Romance Comedy   \n",
       "3                             NaN  16000000.0      Comedy Drama Romance   \n",
       "4  Father of the Bride Collection         0.0                    Comedy   \n",
       "\n",
       "        id original_language  \\\n",
       "0    862.0                en   \n",
       "1   8844.0                en   \n",
       "2  15602.0                en   \n",
       "3  31357.0                en   \n",
       "4  11862.0                en   \n",
       "\n",
       "                                            overview  popularity release_date  \\\n",
       "0  Led by Woody, Andy's toys live happily in his ...   21.946943   1995-10-30   \n",
       "1  When siblings Judy and Peter discover an encha...   17.015539   1995-12-15   \n",
       "2  A family wedding reignites the ancient feud be...   11.712900   1995-12-22   \n",
       "3  Cheated on, mistreated and stepped on, the wom...    3.859495   1995-12-22   \n",
       "4  Just when George Banks has recovered from his ...    8.387519   1995-02-10   \n",
       "\n",
       "       revenue    status                        title  vote_average  \\\n",
       "0  373554033.0  Released                    Toy Story           7.7   \n",
       "1  262797249.0  Released                      Jumanji           6.9   \n",
       "2          0.0  Released             Grumpier Old Men           6.5   \n",
       "3   81452156.0  Released            Waiting to Exhale           6.1   \n",
       "4   76578911.0  Released  Father of the Bride Part II           5.7   \n",
       "\n",
       "   vote_count     return  release_year  \n",
       "0      5415.0  12.451801        1995.0  \n",
       "1      2413.0   4.043035        1995.0  \n",
       "2        92.0   0.000000        1995.0  \n",
       "3        34.0   5.090760        1995.0  \n",
       "4       173.0   0.000000        1995.0  "
      ]
     },
     "execution_count": 201,
     "metadata": {},
     "output_type": "execute_result"
    }
   ],
   "source": [
    "df_movies = pd.concat([df_movies, df_return, df_year], axis=1)\n",
    "df_movies.head()"
   ]
  },
  {
   "cell_type": "code",
   "execution_count": 202,
   "metadata": {},
   "outputs": [
    {
     "data": {
      "text/plain": [
       "(45466, 15)"
      ]
     },
     "execution_count": 202,
     "metadata": {},
     "output_type": "execute_result"
    }
   ],
   "source": [
    "df_movies.shape # dimensiones del dataframe"
   ]
  },
  {
   "cell_type": "markdown",
   "metadata": {},
   "source": [
    "Eliminamos las columnas duplicadas en el dataset df_movies"
   ]
  },
  {
   "cell_type": "code",
   "execution_count": 203,
   "metadata": {},
   "outputs": [],
   "source": [
    "df_movies.drop_duplicates(inplace=True)"
   ]
  },
  {
   "cell_type": "markdown",
   "metadata": {},
   "source": [
    "(de henry) Los valores nulos del campo release_date deben eliminarse.\n",
    "\n",
    "Eliminaremos tambien los NaN de las columnas title, overview, genres. Los campos de todas estas columnas deben tener datos porque el algoritmo de recomendacion las necesitara para su funcionamiento, al mismo tiempo podremos reducir el dataset"
   ]
  },
  {
   "cell_type": "code",
   "execution_count": 204,
   "metadata": {},
   "outputs": [
    {
     "data": {
      "text/plain": [
       "belongs_to_collection    42281\n",
       "budget                       0\n",
       "genres                    2442\n",
       "id                           3\n",
       "original_language           11\n",
       "overview                   954\n",
       "popularity                   6\n",
       "release_date                90\n",
       "revenue                      0\n",
       "status                      87\n",
       "title                        6\n",
       "vote_average                 6\n",
       "vote_count                   6\n",
       "return                       0\n",
       "release_year                90\n",
       "dtype: int64"
      ]
     },
     "execution_count": 204,
     "metadata": {},
     "output_type": "execute_result"
    }
   ],
   "source": [
    "df_movies.isnull().sum()"
   ]
  },
  {
   "cell_type": "code",
   "execution_count": 205,
   "metadata": {},
   "outputs": [],
   "source": [
    "df_movies.dropna(\n",
    "    subset=['title', 'release_date', 'overview', 'genres'], \n",
    "    inplace=True\n",
    "    )"
   ]
  },
  {
   "cell_type": "markdown",
   "metadata": {},
   "source": [
    "Los datos faltantes de la columna belongs_to_collection seran reemplazados por el valor 'only' para indicar cuando una pelicula no tiene coleccion o es pelicula unica\n",
    "\n",
    "La columna release_year sera convertido de float a int"
   ]
  },
  {
   "cell_type": "code",
   "execution_count": 206,
   "metadata": {},
   "outputs": [],
   "source": [
    "df_movies['belongs_to_collection'].fillna('standar', inplace=True)\n",
    "df_movies['release_year']=df_movies['release_year'].astype(int)"
   ]
  },
  {
   "cell_type": "markdown",
   "metadata": {},
   "source": [
    "Solo nos quedaremos con las peliculas que su estado (status) sean 'Released' o estrenadas, posteriorme eliminares la misma columna (status) porque ya no nos sera util al tener todo de la misma categoria.\n",
    "\n",
    "Solo nos quedaremos con las peliculas con el lenguaje original en Ingles y Español, como parte de el recorte del dataset."
   ]
  },
  {
   "cell_type": "code",
   "execution_count": 207,
   "metadata": {},
   "outputs": [
    {
     "data": {
      "text/plain": [
       "array(['Released', nan, 'Rumored', 'Post Production', 'In Production',\n",
       "       'Planned'], dtype=object)"
      ]
     },
     "execution_count": 207,
     "metadata": {},
     "output_type": "execute_result"
    }
   ],
   "source": [
    "df_movies.status.unique()"
   ]
  },
  {
   "cell_type": "code",
   "execution_count": 208,
   "metadata": {},
   "outputs": [],
   "source": [
    "df_movies=df_movies[df_movies.status == 'Released'] # nos quedamos solo con las peliculas estrenadas\n",
    "df_movies=df_movies.query(\"original_language == 'en' or original_language == 'es'\") # solo nos quedaremos con las peliculas en español e ingles\n",
    "df_movies=df_movies.drop('status', axis=1) # eliminamos la columna status"
   ]
  },
  {
   "cell_type": "code",
   "execution_count": 209,
   "metadata": {},
   "outputs": [
    {
     "data": {
      "text/plain": [
       "belongs_to_collection    0\n",
       "budget                   0\n",
       "genres                   0\n",
       "id                       0\n",
       "original_language        0\n",
       "overview                 0\n",
       "popularity               0\n",
       "release_date             0\n",
       "revenue                  0\n",
       "title                    0\n",
       "vote_average             0\n",
       "vote_count               0\n",
       "return                   0\n",
       "release_year             0\n",
       "dtype: int64"
      ]
     },
     "execution_count": 209,
     "metadata": {},
     "output_type": "execute_result"
    }
   ],
   "source": [
    "df_movies.isnull().sum()"
   ]
  },
  {
   "cell_type": "markdown",
   "metadata": {},
   "source": [
    "### TRATAMIENDO DEL SEGUNDO DATASET 'CREDITS'"
   ]
  },
  {
   "cell_type": "code",
   "execution_count": 210,
   "metadata": {},
   "outputs": [
    {
     "data": {
      "text/html": [
       "<div>\n",
       "<style scoped>\n",
       "    .dataframe tbody tr th:only-of-type {\n",
       "        vertical-align: middle;\n",
       "    }\n",
       "\n",
       "    .dataframe tbody tr th {\n",
       "        vertical-align: top;\n",
       "    }\n",
       "\n",
       "    .dataframe thead th {\n",
       "        text-align: right;\n",
       "    }\n",
       "</style>\n",
       "<table border=\"1\" class=\"dataframe\">\n",
       "  <thead>\n",
       "    <tr style=\"text-align: right;\">\n",
       "      <th></th>\n",
       "      <th>cast</th>\n",
       "      <th>crew</th>\n",
       "      <th>id</th>\n",
       "    </tr>\n",
       "  </thead>\n",
       "  <tbody>\n",
       "    <tr>\n",
       "      <th>0</th>\n",
       "      <td>[{'cast_id': 14, 'character': 'Woody (voice)',...</td>\n",
       "      <td>[{'credit_id': '52fe4284c3a36847f8024f49', 'de...</td>\n",
       "      <td>862</td>\n",
       "    </tr>\n",
       "    <tr>\n",
       "      <th>1</th>\n",
       "      <td>[{'cast_id': 1, 'character': 'Alan Parrish', '...</td>\n",
       "      <td>[{'credit_id': '52fe44bfc3a36847f80a7cd1', 'de...</td>\n",
       "      <td>8844</td>\n",
       "    </tr>\n",
       "    <tr>\n",
       "      <th>2</th>\n",
       "      <td>[{'cast_id': 2, 'character': 'Max Goldman', 'c...</td>\n",
       "      <td>[{'credit_id': '52fe466a9251416c75077a89', 'de...</td>\n",
       "      <td>15602</td>\n",
       "    </tr>\n",
       "    <tr>\n",
       "      <th>3</th>\n",
       "      <td>[{'cast_id': 1, 'character': \"Savannah 'Vannah...</td>\n",
       "      <td>[{'credit_id': '52fe44779251416c91011acb', 'de...</td>\n",
       "      <td>31357</td>\n",
       "    </tr>\n",
       "    <tr>\n",
       "      <th>4</th>\n",
       "      <td>[{'cast_id': 1, 'character': 'George Banks', '...</td>\n",
       "      <td>[{'credit_id': '52fe44959251416c75039ed7', 'de...</td>\n",
       "      <td>11862</td>\n",
       "    </tr>\n",
       "  </tbody>\n",
       "</table>\n",
       "</div>"
      ],
      "text/plain": [
       "                                                cast  \\\n",
       "0  [{'cast_id': 14, 'character': 'Woody (voice)',...   \n",
       "1  [{'cast_id': 1, 'character': 'Alan Parrish', '...   \n",
       "2  [{'cast_id': 2, 'character': 'Max Goldman', 'c...   \n",
       "3  [{'cast_id': 1, 'character': \"Savannah 'Vannah...   \n",
       "4  [{'cast_id': 1, 'character': 'George Banks', '...   \n",
       "\n",
       "                                                crew     id  \n",
       "0  [{'credit_id': '52fe4284c3a36847f8024f49', 'de...    862  \n",
       "1  [{'credit_id': '52fe44bfc3a36847f80a7cd1', 'de...   8844  \n",
       "2  [{'credit_id': '52fe466a9251416c75077a89', 'de...  15602  \n",
       "3  [{'credit_id': '52fe44779251416c91011acb', 'de...  31357  \n",
       "4  [{'credit_id': '52fe44959251416c75039ed7', 'de...  11862  "
      ]
     },
     "execution_count": 210,
     "metadata": {},
     "output_type": "execute_result"
    }
   ],
   "source": [
    "# Leemos el dataset credits\n",
    "\n",
    "df_credits = pd.read_csv('D:\\HENRY REPO\\Proyecto Individual\\Movies-20241022T010521Z-001\\Movies\\credits.csv', sep = ',')\n",
    "df_credits.head()"
   ]
  },
  {
   "cell_type": "markdown",
   "metadata": {},
   "source": [
    "Comensamos a desanidar datos importantes de las columnas cast y crew\n",
    "\n",
    "Extraeremos solo los nombre de los actores de la columna cast, las guardamos en una lista (list_actors), y todo este conjunto de listas obtenido en las iteraciones sera guardado a su vez en otra lista (list_of_list_actors) y posteriormete le aplicaremos un join a los elementos de la lista list_of_list_actors para obtener una lista donde sus elementos sean separados por comas de tal manera que cuando creemos un dataset solo exista una columna y no varias como si sucede cuando tenemos una lista de listas. Lo mismo se hara con la columna crew."
   ]
  },
  {
   "cell_type": "code",
   "execution_count": 211,
   "metadata": {},
   "outputs": [
    {
     "data": {
      "text/plain": [
       "(45476, 3)"
      ]
     },
     "execution_count": 211,
     "metadata": {},
     "output_type": "execute_result"
    }
   ],
   "source": [
    "df_credits.shape # dimensiones del dataset"
   ]
  },
  {
   "cell_type": "code",
   "execution_count": 212,
   "metadata": {},
   "outputs": [
    {
     "data": {
      "text/plain": [
       "cast    0\n",
       "crew    0\n",
       "id      0\n",
       "dtype: int64"
      ]
     },
     "execution_count": 212,
     "metadata": {},
     "output_type": "execute_result"
    }
   ],
   "source": [
    "df_credits.isnull().sum() #vemos si hay valores nulos en el dataset"
   ]
  },
  {
   "cell_type": "code",
   "execution_count": 213,
   "metadata": {},
   "outputs": [
    {
     "name": "stdout",
     "output_type": "stream",
     "text": [
      "['Tom Hanks, Tim Allen, Don Rickles, Jim Varney, Wallace Shawn, John Ratzenberger, Annie Potts, John Morris, Erik von Detten, Laurie Metcalf, R. Lee Ermey, Sarah Freeman, Penn Jillette', 'Robin Williams, Jonathan Hyde, Kirsten Dunst, Bradley Pierce, Bonnie Hunt, Bebe Neuwirth, David Alan Grier, Patricia Clarkson, Adam Hann-Byrd, Laura Bell Bundy, James Handy, Gillian Barber, Brandon Obray, Cyrus Thiedeke, Gary Joseph Thorup, Leonard Zola, Lloyd Berry, Malcolm Stewart, Annabel Kershaw, Darryl Henriques, Robyn Driscoll, Peter Bryant, Sarah Gilson, Florica Vlad, June Lion, Brenda Lockmuller', 'Walter Matthau, Jack Lemmon, Ann-Margret, Sophia Loren, Daryl Hannah, Burgess Meredith, Kevin Pollak', 'Whitney Houston, Angela Bassett, Loretta Devine, Lela Rochon, Gregory Hines, Dennis Haysbert, Michael Beach, Mykelti Williamson, Lamont Johnson, Wesley Snipes', 'Steve Martin, Diane Keaton, Martin Short, Kimberly Williams-Paisley, George Newbern, Kieran Culkin, BD Wong, Peter Michael Goetz, Kate McGregor-Stewart, Jane Adams, Eugene Levy, Lori Alan']\n",
      "45476\n"
     ]
    }
   ],
   "source": [
    "list_of_list_actors=[]\n",
    "\n",
    "for element in df_credits.cast: # iteramos la columna cast\n",
    "    list_actors=[]\n",
    "\n",
    "    dict_cast = ast.literal_eval(element) # convertimos la fila (str con presencia de \\)a su forma literal\n",
    "    for key in dict_cast: \n",
    "        list_actors.append(key['name']) #guardamos el nombre del actor en la lista list_actors\n",
    "    \n",
    "    list_of_list_actors.append(list_actors) # guardamos la lista de actores obtenida en cada iteracion \n",
    "\n",
    "\n",
    "list_actors = [\", \".join(map(str, sublista)) for sublista in list_of_list_actors] # unimos cada sublista de la lista por ','\n",
    "print(list_actors[:5])\n",
    "print(len(list_actors))"
   ]
  },
  {
   "cell_type": "code",
   "execution_count": 214,
   "metadata": {},
   "outputs": [
    {
     "data": {
      "text/html": [
       "<div>\n",
       "<style scoped>\n",
       "    .dataframe tbody tr th:only-of-type {\n",
       "        vertical-align: middle;\n",
       "    }\n",
       "\n",
       "    .dataframe tbody tr th {\n",
       "        vertical-align: top;\n",
       "    }\n",
       "\n",
       "    .dataframe thead th {\n",
       "        text-align: right;\n",
       "    }\n",
       "</style>\n",
       "<table border=\"1\" class=\"dataframe\">\n",
       "  <thead>\n",
       "    <tr style=\"text-align: right;\">\n",
       "      <th></th>\n",
       "      <th>Actors</th>\n",
       "    </tr>\n",
       "  </thead>\n",
       "  <tbody>\n",
       "    <tr>\n",
       "      <th>0</th>\n",
       "      <td>Tom Hanks, Tim Allen, Don Rickles, Jim Varney,...</td>\n",
       "    </tr>\n",
       "    <tr>\n",
       "      <th>1</th>\n",
       "      <td>Robin Williams, Jonathan Hyde, Kirsten Dunst, ...</td>\n",
       "    </tr>\n",
       "    <tr>\n",
       "      <th>2</th>\n",
       "      <td>Walter Matthau, Jack Lemmon, Ann-Margret, Soph...</td>\n",
       "    </tr>\n",
       "    <tr>\n",
       "      <th>3</th>\n",
       "      <td>Whitney Houston, Angela Bassett, Loretta Devin...</td>\n",
       "    </tr>\n",
       "    <tr>\n",
       "      <th>4</th>\n",
       "      <td>Steve Martin, Diane Keaton, Martin Short, Kimb...</td>\n",
       "    </tr>\n",
       "  </tbody>\n",
       "</table>\n",
       "</div>"
      ],
      "text/plain": [
       "                                              Actors\n",
       "0  Tom Hanks, Tim Allen, Don Rickles, Jim Varney,...\n",
       "1  Robin Williams, Jonathan Hyde, Kirsten Dunst, ...\n",
       "2  Walter Matthau, Jack Lemmon, Ann-Margret, Soph...\n",
       "3  Whitney Houston, Angela Bassett, Loretta Devin...\n",
       "4  Steve Martin, Diane Keaton, Martin Short, Kimb..."
      ]
     },
     "execution_count": 214,
     "metadata": {},
     "output_type": "execute_result"
    }
   ],
   "source": [
    "#Creamos el dataset df_actors con la lista list_actors\n",
    "\n",
    "df_actors = pd.DataFrame(list_actors, columns=['Actors'])\n",
    "df_actors.head()"
   ]
  },
  {
   "cell_type": "code",
   "execution_count": 215,
   "metadata": {},
   "outputs": [
    {
     "name": "stdout",
     "output_type": "stream",
     "text": [
      "['John Lasseter', 'Joe Johnston', 'Howard Deutch', 'Forest Whitaker', 'Charles Shyer']\n",
      "45476\n"
     ]
    }
   ],
   "source": [
    "# Extraeremos solo los nombre de los directores de la columna crew, las guardamos en una lista y posteriormete crearemos un dataset con esa lista\n",
    "\n",
    "list_of_list_directors=[]\n",
    "\n",
    "\n",
    "for element in df_credits.crew: # iteramos la columna crew\n",
    "    \n",
    "    dict_crew = ast.literal_eval(element)# convertimos la fila (str con presencia de \\)a su forma literal\n",
    "    list_directors=[]\n",
    "    \n",
    "    for key in dict_crew:\n",
    "        if key['job']=='Director':\n",
    "            list_directors.append(key['name']) # guardamos el nombre del actor en la lista list_actors\n",
    "        \n",
    "\n",
    "    list_of_list_directors.append(list_directors)# guardamos la lista de actores obtenida en cada iteracion \n",
    "    \n",
    "list_directors = [\", \".join(map(str, sublista)) for sublista in list_of_list_directors] # unimos cada sublista de la lista por ','\n",
    "print(list_directors[:5])\n",
    "print(len(list_directors))"
   ]
  },
  {
   "cell_type": "code",
   "execution_count": 216,
   "metadata": {},
   "outputs": [
    {
     "data": {
      "text/html": [
       "<div>\n",
       "<style scoped>\n",
       "    .dataframe tbody tr th:only-of-type {\n",
       "        vertical-align: middle;\n",
       "    }\n",
       "\n",
       "    .dataframe tbody tr th {\n",
       "        vertical-align: top;\n",
       "    }\n",
       "\n",
       "    .dataframe thead th {\n",
       "        text-align: right;\n",
       "    }\n",
       "</style>\n",
       "<table border=\"1\" class=\"dataframe\">\n",
       "  <thead>\n",
       "    <tr style=\"text-align: right;\">\n",
       "      <th></th>\n",
       "      <th>Directores</th>\n",
       "    </tr>\n",
       "  </thead>\n",
       "  <tbody>\n",
       "    <tr>\n",
       "      <th>0</th>\n",
       "      <td>John Lasseter</td>\n",
       "    </tr>\n",
       "    <tr>\n",
       "      <th>1</th>\n",
       "      <td>Joe Johnston</td>\n",
       "    </tr>\n",
       "    <tr>\n",
       "      <th>2</th>\n",
       "      <td>Howard Deutch</td>\n",
       "    </tr>\n",
       "    <tr>\n",
       "      <th>3</th>\n",
       "      <td>Forest Whitaker</td>\n",
       "    </tr>\n",
       "    <tr>\n",
       "      <th>4</th>\n",
       "      <td>Charles Shyer</td>\n",
       "    </tr>\n",
       "  </tbody>\n",
       "</table>\n",
       "</div>"
      ],
      "text/plain": [
       "        Directores\n",
       "0    John Lasseter\n",
       "1     Joe Johnston\n",
       "2    Howard Deutch\n",
       "3  Forest Whitaker\n",
       "4    Charles Shyer"
      ]
     },
     "execution_count": 216,
     "metadata": {},
     "output_type": "execute_result"
    }
   ],
   "source": [
    "#Creamos el dataset df_directors con la lista list_directors\n",
    "\n",
    "df_directors = pd.DataFrame(list_directors, columns=['Directores'])\n",
    "df_directors.head()"
   ]
  },
  {
   "cell_type": "markdown",
   "metadata": {},
   "source": [
    "Concatenamos los dataframe: df_credits, df_actors y df_directors"
   ]
  },
  {
   "cell_type": "code",
   "execution_count": 217,
   "metadata": {},
   "outputs": [
    {
     "data": {
      "text/html": [
       "<div>\n",
       "<style scoped>\n",
       "    .dataframe tbody tr th:only-of-type {\n",
       "        vertical-align: middle;\n",
       "    }\n",
       "\n",
       "    .dataframe tbody tr th {\n",
       "        vertical-align: top;\n",
       "    }\n",
       "\n",
       "    .dataframe thead th {\n",
       "        text-align: right;\n",
       "    }\n",
       "</style>\n",
       "<table border=\"1\" class=\"dataframe\">\n",
       "  <thead>\n",
       "    <tr style=\"text-align: right;\">\n",
       "      <th></th>\n",
       "      <th>cast</th>\n",
       "      <th>crew</th>\n",
       "      <th>id</th>\n",
       "      <th>Actors</th>\n",
       "      <th>Directores</th>\n",
       "    </tr>\n",
       "  </thead>\n",
       "  <tbody>\n",
       "    <tr>\n",
       "      <th>0</th>\n",
       "      <td>[{'cast_id': 14, 'character': 'Woody (voice)',...</td>\n",
       "      <td>[{'credit_id': '52fe4284c3a36847f8024f49', 'de...</td>\n",
       "      <td>862</td>\n",
       "      <td>Tom Hanks, Tim Allen, Don Rickles, Jim Varney,...</td>\n",
       "      <td>John Lasseter</td>\n",
       "    </tr>\n",
       "    <tr>\n",
       "      <th>1</th>\n",
       "      <td>[{'cast_id': 1, 'character': 'Alan Parrish', '...</td>\n",
       "      <td>[{'credit_id': '52fe44bfc3a36847f80a7cd1', 'de...</td>\n",
       "      <td>8844</td>\n",
       "      <td>Robin Williams, Jonathan Hyde, Kirsten Dunst, ...</td>\n",
       "      <td>Joe Johnston</td>\n",
       "    </tr>\n",
       "    <tr>\n",
       "      <th>2</th>\n",
       "      <td>[{'cast_id': 2, 'character': 'Max Goldman', 'c...</td>\n",
       "      <td>[{'credit_id': '52fe466a9251416c75077a89', 'de...</td>\n",
       "      <td>15602</td>\n",
       "      <td>Walter Matthau, Jack Lemmon, Ann-Margret, Soph...</td>\n",
       "      <td>Howard Deutch</td>\n",
       "    </tr>\n",
       "    <tr>\n",
       "      <th>3</th>\n",
       "      <td>[{'cast_id': 1, 'character': \"Savannah 'Vannah...</td>\n",
       "      <td>[{'credit_id': '52fe44779251416c91011acb', 'de...</td>\n",
       "      <td>31357</td>\n",
       "      <td>Whitney Houston, Angela Bassett, Loretta Devin...</td>\n",
       "      <td>Forest Whitaker</td>\n",
       "    </tr>\n",
       "    <tr>\n",
       "      <th>4</th>\n",
       "      <td>[{'cast_id': 1, 'character': 'George Banks', '...</td>\n",
       "      <td>[{'credit_id': '52fe44959251416c75039ed7', 'de...</td>\n",
       "      <td>11862</td>\n",
       "      <td>Steve Martin, Diane Keaton, Martin Short, Kimb...</td>\n",
       "      <td>Charles Shyer</td>\n",
       "    </tr>\n",
       "  </tbody>\n",
       "</table>\n",
       "</div>"
      ],
      "text/plain": [
       "                                                cast  \\\n",
       "0  [{'cast_id': 14, 'character': 'Woody (voice)',...   \n",
       "1  [{'cast_id': 1, 'character': 'Alan Parrish', '...   \n",
       "2  [{'cast_id': 2, 'character': 'Max Goldman', 'c...   \n",
       "3  [{'cast_id': 1, 'character': \"Savannah 'Vannah...   \n",
       "4  [{'cast_id': 1, 'character': 'George Banks', '...   \n",
       "\n",
       "                                                crew     id  \\\n",
       "0  [{'credit_id': '52fe4284c3a36847f8024f49', 'de...    862   \n",
       "1  [{'credit_id': '52fe44bfc3a36847f80a7cd1', 'de...   8844   \n",
       "2  [{'credit_id': '52fe466a9251416c75077a89', 'de...  15602   \n",
       "3  [{'credit_id': '52fe44779251416c91011acb', 'de...  31357   \n",
       "4  [{'credit_id': '52fe44959251416c75039ed7', 'de...  11862   \n",
       "\n",
       "                                              Actors       Directores  \n",
       "0  Tom Hanks, Tim Allen, Don Rickles, Jim Varney,...    John Lasseter  \n",
       "1  Robin Williams, Jonathan Hyde, Kirsten Dunst, ...     Joe Johnston  \n",
       "2  Walter Matthau, Jack Lemmon, Ann-Margret, Soph...    Howard Deutch  \n",
       "3  Whitney Houston, Angela Bassett, Loretta Devin...  Forest Whitaker  \n",
       "4  Steve Martin, Diane Keaton, Martin Short, Kimb...    Charles Shyer  "
      ]
     },
     "execution_count": 217,
     "metadata": {},
     "output_type": "execute_result"
    }
   ],
   "source": [
    "df_credits = pd.concat([df_credits, df_actors, df_directors], axis=1)\n",
    "df_credits.head()"
   ]
  },
  {
   "cell_type": "markdown",
   "metadata": {},
   "source": [
    "Eliminamos las columnas sobrantes de cast y crew"
   ]
  },
  {
   "cell_type": "code",
   "execution_count": 218,
   "metadata": {},
   "outputs": [
    {
     "data": {
      "text/html": [
       "<div>\n",
       "<style scoped>\n",
       "    .dataframe tbody tr th:only-of-type {\n",
       "        vertical-align: middle;\n",
       "    }\n",
       "\n",
       "    .dataframe tbody tr th {\n",
       "        vertical-align: top;\n",
       "    }\n",
       "\n",
       "    .dataframe thead th {\n",
       "        text-align: right;\n",
       "    }\n",
       "</style>\n",
       "<table border=\"1\" class=\"dataframe\">\n",
       "  <thead>\n",
       "    <tr style=\"text-align: right;\">\n",
       "      <th></th>\n",
       "      <th>id</th>\n",
       "      <th>Actors</th>\n",
       "      <th>Directores</th>\n",
       "    </tr>\n",
       "  </thead>\n",
       "  <tbody>\n",
       "    <tr>\n",
       "      <th>0</th>\n",
       "      <td>862</td>\n",
       "      <td>Tom Hanks, Tim Allen, Don Rickles, Jim Varney,...</td>\n",
       "      <td>John Lasseter</td>\n",
       "    </tr>\n",
       "    <tr>\n",
       "      <th>1</th>\n",
       "      <td>8844</td>\n",
       "      <td>Robin Williams, Jonathan Hyde, Kirsten Dunst, ...</td>\n",
       "      <td>Joe Johnston</td>\n",
       "    </tr>\n",
       "    <tr>\n",
       "      <th>2</th>\n",
       "      <td>15602</td>\n",
       "      <td>Walter Matthau, Jack Lemmon, Ann-Margret, Soph...</td>\n",
       "      <td>Howard Deutch</td>\n",
       "    </tr>\n",
       "    <tr>\n",
       "      <th>3</th>\n",
       "      <td>31357</td>\n",
       "      <td>Whitney Houston, Angela Bassett, Loretta Devin...</td>\n",
       "      <td>Forest Whitaker</td>\n",
       "    </tr>\n",
       "    <tr>\n",
       "      <th>4</th>\n",
       "      <td>11862</td>\n",
       "      <td>Steve Martin, Diane Keaton, Martin Short, Kimb...</td>\n",
       "      <td>Charles Shyer</td>\n",
       "    </tr>\n",
       "  </tbody>\n",
       "</table>\n",
       "</div>"
      ],
      "text/plain": [
       "      id                                             Actors       Directores\n",
       "0    862  Tom Hanks, Tim Allen, Don Rickles, Jim Varney,...    John Lasseter\n",
       "1   8844  Robin Williams, Jonathan Hyde, Kirsten Dunst, ...     Joe Johnston\n",
       "2  15602  Walter Matthau, Jack Lemmon, Ann-Margret, Soph...    Howard Deutch\n",
       "3  31357  Whitney Houston, Angela Bassett, Loretta Devin...  Forest Whitaker\n",
       "4  11862  Steve Martin, Diane Keaton, Martin Short, Kimb...    Charles Shyer"
      ]
     },
     "execution_count": 218,
     "metadata": {},
     "output_type": "execute_result"
    }
   ],
   "source": [
    "df_credits.drop(labels=['cast', 'crew'], axis=1, inplace=True)\n",
    "df_credits.head()"
   ]
  },
  {
   "cell_type": "markdown",
   "metadata": {},
   "source": [
    "### TOMAMOS UNA MUESTRA DEL DATASET"
   ]
  },
  {
   "cell_type": "markdown",
   "metadata": {},
   "source": [
    "Por razones de rendimiento en Render, tomaremos una muestra de 1000 filas que hayan sido previamente ordenadas de mayor a menor por la cantidad de votos, asegurandonos de esta manera que la muestra sea con las peliculas mas votadas y populares"
   ]
  },
  {
   "cell_type": "code",
   "execution_count": 219,
   "metadata": {},
   "outputs": [
    {
     "data": {
      "text/html": [
       "<div>\n",
       "<style scoped>\n",
       "    .dataframe tbody tr th:only-of-type {\n",
       "        vertical-align: middle;\n",
       "    }\n",
       "\n",
       "    .dataframe tbody tr th {\n",
       "        vertical-align: top;\n",
       "    }\n",
       "\n",
       "    .dataframe thead th {\n",
       "        text-align: right;\n",
       "    }\n",
       "</style>\n",
       "<table border=\"1\" class=\"dataframe\">\n",
       "  <thead>\n",
       "    <tr style=\"text-align: right;\">\n",
       "      <th></th>\n",
       "      <th>belongs_to_collection</th>\n",
       "      <th>budget</th>\n",
       "      <th>genres</th>\n",
       "      <th>id</th>\n",
       "      <th>original_language</th>\n",
       "      <th>overview</th>\n",
       "      <th>popularity</th>\n",
       "      <th>release_date</th>\n",
       "      <th>revenue</th>\n",
       "      <th>title</th>\n",
       "      <th>vote_average</th>\n",
       "      <th>vote_count</th>\n",
       "      <th>return</th>\n",
       "      <th>release_year</th>\n",
       "    </tr>\n",
       "  </thead>\n",
       "  <tbody>\n",
       "    <tr>\n",
       "      <th>20829</th>\n",
       "      <td>standar</td>\n",
       "      <td>32000000.0</td>\n",
       "      <td>Action Comedy</td>\n",
       "      <td>109414.0</td>\n",
       "      <td>en</td>\n",
       "      <td>While attending a party at James Franco's hous...</td>\n",
       "      <td>11.414048</td>\n",
       "      <td>2013-06-12</td>\n",
       "      <td>126041322.0</td>\n",
       "      <td>This Is the End</td>\n",
       "      <td>6.2</td>\n",
       "      <td>2394.0</td>\n",
       "      <td>3.938791</td>\n",
       "      <td>2013</td>\n",
       "    </tr>\n",
       "    <tr>\n",
       "      <th>15776</th>\n",
       "      <td>Resident Evil Collection</td>\n",
       "      <td>60000000.0</td>\n",
       "      <td>Action Adventure Horror Science Fiction</td>\n",
       "      <td>35791.0</td>\n",
       "      <td>en</td>\n",
       "      <td>In a world ravaged by a virus infection, turni...</td>\n",
       "      <td>0.452934</td>\n",
       "      <td>2010-09-09</td>\n",
       "      <td>300228084.0</td>\n",
       "      <td>Resident Evil: Afterlife</td>\n",
       "      <td>5.8</td>\n",
       "      <td>1382.0</td>\n",
       "      <td>5.003801</td>\n",
       "      <td>2010</td>\n",
       "    </tr>\n",
       "    <tr>\n",
       "      <th>13133</th>\n",
       "      <td>The Twilight Collection</td>\n",
       "      <td>37000000.0</td>\n",
       "      <td>Adventure Fantasy Drama Romance</td>\n",
       "      <td>8966.0</td>\n",
       "      <td>en</td>\n",
       "      <td>When Bella Swan moves to a small town in the P...</td>\n",
       "      <td>31.282029</td>\n",
       "      <td>2008-11-20</td>\n",
       "      <td>392616625.0</td>\n",
       "      <td>Twilight</td>\n",
       "      <td>5.8</td>\n",
       "      <td>3688.0</td>\n",
       "      <td>10.611260</td>\n",
       "      <td>2008</td>\n",
       "    </tr>\n",
       "    <tr>\n",
       "      <th>21698</th>\n",
       "      <td>standar</td>\n",
       "      <td>6000000.0</td>\n",
       "      <td>Romance Comedy Drama</td>\n",
       "      <td>138697.0</td>\n",
       "      <td>en</td>\n",
       "      <td>A New Jersey guy dedicated to his family, frie...</td>\n",
       "      <td>10.948605</td>\n",
       "      <td>2013-07-26</td>\n",
       "      <td>0.0</td>\n",
       "      <td>Don Jon</td>\n",
       "      <td>5.9</td>\n",
       "      <td>1708.0</td>\n",
       "      <td>0.000000</td>\n",
       "      <td>2013</td>\n",
       "    </tr>\n",
       "    <tr>\n",
       "      <th>1567</th>\n",
       "      <td>standar</td>\n",
       "      <td>57000000.0</td>\n",
       "      <td>Drama Horror Mystery Thriller</td>\n",
       "      <td>1813.0</td>\n",
       "      <td>en</td>\n",
       "      <td>A hotshot lawyer gets more than he bargained f...</td>\n",
       "      <td>10.920124</td>\n",
       "      <td>1997-10-17</td>\n",
       "      <td>152944660.0</td>\n",
       "      <td>The Devil's Advocate</td>\n",
       "      <td>7.2</td>\n",
       "      <td>1414.0</td>\n",
       "      <td>2.683240</td>\n",
       "      <td>1997</td>\n",
       "    </tr>\n",
       "  </tbody>\n",
       "</table>\n",
       "</div>"
      ],
      "text/plain": [
       "          belongs_to_collection      budget  \\\n",
       "20829                   standar  32000000.0   \n",
       "15776  Resident Evil Collection  60000000.0   \n",
       "13133   The Twilight Collection  37000000.0   \n",
       "21698                   standar   6000000.0   \n",
       "1567                    standar  57000000.0   \n",
       "\n",
       "                                        genres        id original_language  \\\n",
       "20829                            Action Comedy  109414.0                en   \n",
       "15776  Action Adventure Horror Science Fiction   35791.0                en   \n",
       "13133          Adventure Fantasy Drama Romance    8966.0                en   \n",
       "21698                     Romance Comedy Drama  138697.0                en   \n",
       "1567             Drama Horror Mystery Thriller    1813.0                en   \n",
       "\n",
       "                                                overview  popularity  \\\n",
       "20829  While attending a party at James Franco's hous...   11.414048   \n",
       "15776  In a world ravaged by a virus infection, turni...    0.452934   \n",
       "13133  When Bella Swan moves to a small town in the P...   31.282029   \n",
       "21698  A New Jersey guy dedicated to his family, frie...   10.948605   \n",
       "1567   A hotshot lawyer gets more than he bargained f...   10.920124   \n",
       "\n",
       "      release_date      revenue                     title  vote_average  \\\n",
       "20829   2013-06-12  126041322.0           This Is the End           6.2   \n",
       "15776   2010-09-09  300228084.0  Resident Evil: Afterlife           5.8   \n",
       "13133   2008-11-20  392616625.0                  Twilight           5.8   \n",
       "21698   2013-07-26          0.0                   Don Jon           5.9   \n",
       "1567    1997-10-17  152944660.0      The Devil's Advocate           7.2   \n",
       "\n",
       "       vote_count     return  release_year  \n",
       "20829      2394.0   3.938791          2013  \n",
       "15776      1382.0   5.003801          2010  \n",
       "13133      3688.0  10.611260          2008  \n",
       "21698      1708.0   0.000000          2013  \n",
       "1567       1414.0   2.683240          1997  "
      ]
     },
     "execution_count": 219,
     "metadata": {},
     "output_type": "execute_result"
    }
   ],
   "source": [
    "df_movies=df_movies.sort_values(\n",
    "                        by='vote_count', \n",
    "                        ascending=False\n",
    "                        ) # ordenamos por la columna vote_count de forma descendente\n",
    "\n",
    "df_movies=df_movies.iloc[:1000,:] #tomaremos una muestra de 1000 filas\n",
    "\n",
    "df_movies=df_movies.sample(frac=1) #revolvemos el dataset\n",
    "\n",
    "df_movies.head()"
   ]
  },
  {
   "cell_type": "markdown",
   "metadata": {},
   "source": [
    "Eliminamos los valores duplicados que pudiera existir en el dataset df_credits"
   ]
  },
  {
   "cell_type": "code",
   "execution_count": 220,
   "metadata": {},
   "outputs": [],
   "source": [
    "df_credits.drop_duplicates(inplace=True)"
   ]
  },
  {
   "cell_type": "code",
   "execution_count": 221,
   "metadata": {},
   "outputs": [
    {
     "data": {
      "text/plain": [
       "(1000, 14)"
      ]
     },
     "execution_count": 221,
     "metadata": {},
     "output_type": "execute_result"
    }
   ],
   "source": [
    "df_movies.shape #dimensiones del dataset"
   ]
  },
  {
   "cell_type": "markdown",
   "metadata": {},
   "source": [
    "hacemos un merge o union entre los dataset resultantes de df_movies y df_credits usando la columna en comun para ambos de 'id' y tomaremos solo los valores de id que pertenezcan a ambos y al dataset resultante mantendra el nombre de df_movies"
   ]
  },
  {
   "cell_type": "code",
   "execution_count": 222,
   "metadata": {},
   "outputs": [
    {
     "data": {
      "text/html": [
       "<div>\n",
       "<style scoped>\n",
       "    .dataframe tbody tr th:only-of-type {\n",
       "        vertical-align: middle;\n",
       "    }\n",
       "\n",
       "    .dataframe tbody tr th {\n",
       "        vertical-align: top;\n",
       "    }\n",
       "\n",
       "    .dataframe thead th {\n",
       "        text-align: right;\n",
       "    }\n",
       "</style>\n",
       "<table border=\"1\" class=\"dataframe\">\n",
       "  <thead>\n",
       "    <tr style=\"text-align: right;\">\n",
       "      <th></th>\n",
       "      <th>belongs_to_collection</th>\n",
       "      <th>budget</th>\n",
       "      <th>genres</th>\n",
       "      <th>id</th>\n",
       "      <th>original_language</th>\n",
       "      <th>overview</th>\n",
       "      <th>popularity</th>\n",
       "      <th>release_date</th>\n",
       "      <th>revenue</th>\n",
       "      <th>title</th>\n",
       "      <th>vote_average</th>\n",
       "      <th>vote_count</th>\n",
       "      <th>return</th>\n",
       "      <th>release_year</th>\n",
       "      <th>Actors</th>\n",
       "      <th>Directores</th>\n",
       "    </tr>\n",
       "  </thead>\n",
       "  <tbody>\n",
       "    <tr>\n",
       "      <th>0</th>\n",
       "      <td>standar</td>\n",
       "      <td>32000000.0</td>\n",
       "      <td>Action Comedy</td>\n",
       "      <td>109414.0</td>\n",
       "      <td>en</td>\n",
       "      <td>While attending a party at James Franco's hous...</td>\n",
       "      <td>11.414048</td>\n",
       "      <td>2013-06-12</td>\n",
       "      <td>126041322.0</td>\n",
       "      <td>This Is the End</td>\n",
       "      <td>6.2</td>\n",
       "      <td>2394.0</td>\n",
       "      <td>3.938791</td>\n",
       "      <td>2013</td>\n",
       "      <td>James Franco, Jonah Hill, Seth Rogen, Jay Baru...</td>\n",
       "      <td>Seth Rogen, Evan Goldberg</td>\n",
       "    </tr>\n",
       "    <tr>\n",
       "      <th>1</th>\n",
       "      <td>Resident Evil Collection</td>\n",
       "      <td>60000000.0</td>\n",
       "      <td>Action Adventure Horror Science Fiction</td>\n",
       "      <td>35791.0</td>\n",
       "      <td>en</td>\n",
       "      <td>In a world ravaged by a virus infection, turni...</td>\n",
       "      <td>0.452934</td>\n",
       "      <td>2010-09-09</td>\n",
       "      <td>300228084.0</td>\n",
       "      <td>Resident Evil: Afterlife</td>\n",
       "      <td>5.8</td>\n",
       "      <td>1382.0</td>\n",
       "      <td>5.003801</td>\n",
       "      <td>2010</td>\n",
       "      <td>Milla Jovovich, Wentworth Miller, Ali Larter, ...</td>\n",
       "      <td>Paul W.S. Anderson</td>\n",
       "    </tr>\n",
       "    <tr>\n",
       "      <th>2</th>\n",
       "      <td>The Twilight Collection</td>\n",
       "      <td>37000000.0</td>\n",
       "      <td>Adventure Fantasy Drama Romance</td>\n",
       "      <td>8966.0</td>\n",
       "      <td>en</td>\n",
       "      <td>When Bella Swan moves to a small town in the P...</td>\n",
       "      <td>31.282029</td>\n",
       "      <td>2008-11-20</td>\n",
       "      <td>392616625.0</td>\n",
       "      <td>Twilight</td>\n",
       "      <td>5.8</td>\n",
       "      <td>3688.0</td>\n",
       "      <td>10.611260</td>\n",
       "      <td>2008</td>\n",
       "      <td>Kristen Stewart, Robert Pattinson, Billy Burke...</td>\n",
       "      <td>Catherine Hardwicke</td>\n",
       "    </tr>\n",
       "    <tr>\n",
       "      <th>3</th>\n",
       "      <td>standar</td>\n",
       "      <td>6000000.0</td>\n",
       "      <td>Romance Comedy Drama</td>\n",
       "      <td>138697.0</td>\n",
       "      <td>en</td>\n",
       "      <td>A New Jersey guy dedicated to his family, frie...</td>\n",
       "      <td>10.948605</td>\n",
       "      <td>2013-07-26</td>\n",
       "      <td>0.0</td>\n",
       "      <td>Don Jon</td>\n",
       "      <td>5.9</td>\n",
       "      <td>1708.0</td>\n",
       "      <td>0.000000</td>\n",
       "      <td>2013</td>\n",
       "      <td>Joseph Gordon-Levitt, Scarlett Johansson, Juli...</td>\n",
       "      <td>Joseph Gordon-Levitt</td>\n",
       "    </tr>\n",
       "    <tr>\n",
       "      <th>4</th>\n",
       "      <td>standar</td>\n",
       "      <td>57000000.0</td>\n",
       "      <td>Drama Horror Mystery Thriller</td>\n",
       "      <td>1813.0</td>\n",
       "      <td>en</td>\n",
       "      <td>A hotshot lawyer gets more than he bargained f...</td>\n",
       "      <td>10.920124</td>\n",
       "      <td>1997-10-17</td>\n",
       "      <td>152944660.0</td>\n",
       "      <td>The Devil's Advocate</td>\n",
       "      <td>7.2</td>\n",
       "      <td>1414.0</td>\n",
       "      <td>2.683240</td>\n",
       "      <td>1997</td>\n",
       "      <td>Keanu Reeves, Al Pacino, Charlize Theron, Jeff...</td>\n",
       "      <td>Taylor Hackford</td>\n",
       "    </tr>\n",
       "  </tbody>\n",
       "</table>\n",
       "</div>"
      ],
      "text/plain": [
       "      belongs_to_collection      budget  \\\n",
       "0                   standar  32000000.0   \n",
       "1  Resident Evil Collection  60000000.0   \n",
       "2   The Twilight Collection  37000000.0   \n",
       "3                   standar   6000000.0   \n",
       "4                   standar  57000000.0   \n",
       "\n",
       "                                    genres        id original_language  \\\n",
       "0                            Action Comedy  109414.0                en   \n",
       "1  Action Adventure Horror Science Fiction   35791.0                en   \n",
       "2          Adventure Fantasy Drama Romance    8966.0                en   \n",
       "3                     Romance Comedy Drama  138697.0                en   \n",
       "4            Drama Horror Mystery Thriller    1813.0                en   \n",
       "\n",
       "                                            overview  popularity release_date  \\\n",
       "0  While attending a party at James Franco's hous...   11.414048   2013-06-12   \n",
       "1  In a world ravaged by a virus infection, turni...    0.452934   2010-09-09   \n",
       "2  When Bella Swan moves to a small town in the P...   31.282029   2008-11-20   \n",
       "3  A New Jersey guy dedicated to his family, frie...   10.948605   2013-07-26   \n",
       "4  A hotshot lawyer gets more than he bargained f...   10.920124   1997-10-17   \n",
       "\n",
       "       revenue                     title  vote_average  vote_count     return  \\\n",
       "0  126041322.0           This Is the End           6.2      2394.0   3.938791   \n",
       "1  300228084.0  Resident Evil: Afterlife           5.8      1382.0   5.003801   \n",
       "2  392616625.0                  Twilight           5.8      3688.0  10.611260   \n",
       "3          0.0                   Don Jon           5.9      1708.0   0.000000   \n",
       "4  152944660.0      The Devil's Advocate           7.2      1414.0   2.683240   \n",
       "\n",
       "   release_year                                             Actors  \\\n",
       "0          2013  James Franco, Jonah Hill, Seth Rogen, Jay Baru...   \n",
       "1          2010  Milla Jovovich, Wentworth Miller, Ali Larter, ...   \n",
       "2          2008  Kristen Stewart, Robert Pattinson, Billy Burke...   \n",
       "3          2013  Joseph Gordon-Levitt, Scarlett Johansson, Juli...   \n",
       "4          1997  Keanu Reeves, Al Pacino, Charlize Theron, Jeff...   \n",
       "\n",
       "                  Directores  \n",
       "0  Seth Rogen, Evan Goldberg  \n",
       "1         Paul W.S. Anderson  \n",
       "2        Catherine Hardwicke  \n",
       "3       Joseph Gordon-Levitt  \n",
       "4            Taylor Hackford  "
      ]
     },
     "execution_count": 222,
     "metadata": {},
     "output_type": "execute_result"
    }
   ],
   "source": [
    "df_movies = pd.merge(df_movies, df_credits, on='id', how='inner')\n",
    "df_movies.head()"
   ]
  },
  {
   "cell_type": "code",
   "execution_count": 223,
   "metadata": {},
   "outputs": [
    {
     "data": {
      "text/plain": [
       "(1000, 16)"
      ]
     },
     "execution_count": 223,
     "metadata": {},
     "output_type": "execute_result"
    }
   ],
   "source": [
    "df_movies.shape #dimensiones del dataset"
   ]
  },
  {
   "cell_type": "code",
   "execution_count": 224,
   "metadata": {},
   "outputs": [
    {
     "data": {
      "text/plain": [
       "belongs_to_collection    0\n",
       "budget                   0\n",
       "genres                   0\n",
       "id                       0\n",
       "original_language        0\n",
       "overview                 0\n",
       "popularity               0\n",
       "release_date             0\n",
       "revenue                  0\n",
       "title                    0\n",
       "vote_average             0\n",
       "vote_count               0\n",
       "return                   0\n",
       "release_year             0\n",
       "Actors                   0\n",
       "Directores               0\n",
       "dtype: int64"
      ]
     },
     "execution_count": 224,
     "metadata": {},
     "output_type": "execute_result"
    }
   ],
   "source": [
    "df_movies.isnull().sum() # verificamos si existen valores faltantes"
   ]
  },
  {
   "cell_type": "code",
   "execution_count": 225,
   "metadata": {},
   "outputs": [
    {
     "data": {
      "text/plain": [
       "belongs_to_collection     object\n",
       "budget                   float64\n",
       "genres                    object\n",
       "id                       float64\n",
       "original_language         object\n",
       "overview                  object\n",
       "popularity               float64\n",
       "release_date              object\n",
       "revenue                  float64\n",
       "title                     object\n",
       "vote_average             float64\n",
       "vote_count               float64\n",
       "return                   float64\n",
       "release_year               int32\n",
       "Actors                    object\n",
       "Directores                object\n",
       "dtype: object"
      ]
     },
     "execution_count": 225,
     "metadata": {},
     "output_type": "execute_result"
    }
   ],
   "source": [
    "df_movies.dtypes # observamos los tipos de datos de cada columna"
   ]
  },
  {
   "cell_type": "markdown",
   "metadata": {},
   "source": [
    "EXPORTAMOS EL DATASET df_movies"
   ]
  },
  {
   "cell_type": "code",
   "execution_count": 226,
   "metadata": {},
   "outputs": [],
   "source": [
    "df_movies.to_csv('df_movies.csv', index = False)"
   ]
  },
  {
   "cell_type": "markdown",
   "metadata": {},
   "source": [
    "# EDA"
   ]
  },
  {
   "cell_type": "code",
   "execution_count": 227,
   "metadata": {},
   "outputs": [],
   "source": [
    "import re\n",
    "import matplotlib.pyplot as plt\n",
    "import seaborn as sns\n",
    "from sklearn.feature_extraction.text import TfidfVectorizer \n",
    "from sklearn.metrics.pairwise import cosine_similarity\n",
    "from nltk.stem.porter import PorterStemmer "
   ]
  },
  {
   "cell_type": "markdown",
   "metadata": {},
   "source": [
    "### VISUALIZACION DE DATOS"
   ]
  },
  {
   "cell_type": "markdown",
   "metadata": {},
   "source": [
    "Visualizamos los datos del dataset con la ayuda de una grafica de seaborn"
   ]
  },
  {
   "cell_type": "code",
   "execution_count": 228,
   "metadata": {},
   "outputs": [
    {
     "data": {
      "image/png": "[encoded data removed]",
      "text/plain": [
       "<Figure size 750x500 with 1 Axes>"
      ]
     },
     "metadata": {},
     "output_type": "display_data"
    }
   ],
   "source": [
    "sns.catplot(df_movies, height=5, aspect=1.5)\n",
    "plt.ylabel('Cantidad')\n",
    "plt.show()"
   ]
  },
  {
   "cell_type": "markdown",
   "metadata": {},
   "source": [
    "Se puede observar que los datos se distribuyen de manera congruente, sin mostrar a la vista valores atipicos a excepcion de la columna revenue, donde existen algunos valores que salen del valor promedio, sin embargo estos valores no parecen ser muy exagerados y se podrian considerar casos reales\n"
   ]
  },
  {
   "cell_type": "markdown",
   "metadata": {},
   "source": [
    "### VISUALIZAMOS LOS GENEROS MAS COMUNES"
   ]
  },
  {
   "cell_type": "markdown",
   "metadata": {},
   "source": [
    "Usaremos la libreria TfidfVectorizer para extraer los generos, posteriormente filtraremos por frecuencia, asi obtendremos los generos mas frecuentes, considerando que el dataset movies fue ordenado por cantidad de votos, el resultado mostrara los generos mas frecuentes por cantidad de votos."
   ]
  },
  {
   "cell_type": "code",
   "execution_count": 229,
   "metadata": {},
   "outputs": [],
   "source": [
    "\n",
    "corpus_genres = []\n",
    "for i in range(0, df_movies.shape[0]):\n",
    "  review = re.sub('[^a-zA-Z]', ' ', df_movies['genres'][i]) # solo toma todas las palabras que contengan de A a la Z tanto en mayusculas como minuculas\n",
    "  review = review.lower() # transformamos a minusculas\n",
    "  review = review.split() # cada palabra estara separada por comas y seran almacenadas en una lista\n",
    "\n",
    "   \n",
    "  review = [word for word in review] # guardamos en una lista todas las palabras\n",
    "  review = ' '.join(review) # unimos las palabras de la lista por un espacio en blanco\n",
    "  corpus_genres.append(review)"
   ]
  },
  {
   "cell_type": "code",
   "execution_count": 230,
   "metadata": {},
   "outputs": [],
   "source": [
    "vectorizer = TfidfVectorizer(stop_words='english') # Paso necesario por si existen palabras poco relevantes en las lista, posteriormente vectorizamos las palabras"
   ]
  },
  {
   "cell_type": "code",
   "execution_count": 231,
   "metadata": {},
   "outputs": [],
   "source": [
    "overview_matrix = vectorizer.fit_transform(corpus_genres) #aplicamos la transformacion de la vectorizacion"
   ]
  },
  {
   "cell_type": "code",
   "execution_count": 232,
   "metadata": {},
   "outputs": [
    {
     "name": "stdout",
     "output_type": "stream",
     "text": [
      "['action' 'adventure' 'animation' 'comedy' 'crime' 'drama' 'family'\n",
      " 'fantasy' 'fiction' 'history' 'horror' 'music' 'mystery' 'romance'\n",
      " 'science' 'thriller' 'war' 'western']\n"
     ]
    }
   ],
   "source": [
    "#Obtenemos la lista de generos extraidos en cada fila de la columna genres\n",
    "\n",
    "terminos_overview = vectorizer.get_feature_names_out()\n",
    "print(terminos_overview)"
   ]
  },
  {
   "cell_type": "code",
   "execution_count": 233,
   "metadata": {},
   "outputs": [
    {
     "name": "stdout",
     "output_type": "stream",
     "text": [
      "[[0.63926134 0.         0.         ... 0.         0.         0.        ]\n",
      " [0.33596481 0.36726442 0.         ... 0.         0.         0.        ]\n",
      " [0.         0.41885358 0.         ... 0.         0.         0.        ]\n",
      " ...\n",
      " [0.         0.         0.         ... 0.42999163 0.         0.        ]\n",
      " [0.         0.         0.         ... 0.39425003 0.         0.        ]\n",
      " [0.         0.         0.         ... 0.40176229 0.         0.        ]]\n"
     ]
    }
   ],
   "source": [
    "#obtenemos el valor de la frecuencia TF-IDF de cada palabra\n",
    "\n",
    "tfidf_valores = overview_matrix.toarray()\n",
    "print(tfidf_valores)"
   ]
  },
  {
   "cell_type": "code",
   "execution_count": 234,
   "metadata": {},
   "outputs": [],
   "source": [
    "# sumamos las frecuencias TF-IDF de cada palabra a lo largo de todas las columnas (generos)\n",
    "\n",
    "frecuencias = np.sum(tfidf_valores, axis=0)"
   ]
  },
  {
   "cell_type": "code",
   "execution_count": 235,
   "metadata": {},
   "outputs": [
    {
     "data": {
      "image/png": "[encoded data removed]",
      "text/plain": [
       "<Figure size 1000x600 with 1 Axes>"
      ]
     },
     "metadata": {},
     "output_type": "display_data"
    }
   ],
   "source": [
    "indices_ordenados = np.argsort(frecuencias)[::-1]  # Índices en orden descendente\n",
    "palabras_ordenadas = terminos_overview[indices_ordenados]\n",
    "frecuencias_ordenadas = frecuencias[indices_ordenados]\n",
    "\n",
    "# Seleccionamos las 10 palabras más frecuentes\n",
    "top_n = 10\n",
    "palabras_top = palabras_ordenadas[:top_n]\n",
    "frecuencias_top = frecuencias_ordenadas[:top_n]\n",
    "\n",
    "# Creamos un gráfico de barras\n",
    "plt.figure(figsize=(10, 6))\n",
    "plt.bar(palabras_top, frecuencias_top, color='skyblue')\n",
    "plt.xlabel('Generos')\n",
    "plt.ylabel('Frecuencia (TF-IDF)')\n",
    "plt.title('Generos más frecuentes según TF-IDF')\n",
    "plt.xticks(rotation=45)\n",
    "plt.tight_layout()\n",
    "\n",
    "# Mostrar el gráfico\n",
    "plt.show()"
   ]
  },
  {
   "cell_type": "markdown",
   "metadata": {},
   "source": [
    "Observamos que los 10 generos mas comúnes en esta muestra de 1000 filas ordenadas por la columna vote_count son: Drama, Action, Thriller, Comedy, Adventure, etc"
   ]
  },
  {
   "cell_type": "markdown",
   "metadata": {},
   "source": [
    "### VISUALIZAMOS LAS PALABRAS MAS COMUNES EN LOS TITULOS DE PELICULAS"
   ]
  },
  {
   "cell_type": "markdown",
   "metadata": {},
   "source": [
    "Usaremos el mismo metodo para visualizar las palabras mas comunes en los titulos de las peliculas"
   ]
  },
  {
   "cell_type": "code",
   "execution_count": 236,
   "metadata": {},
   "outputs": [],
   "source": [
    "corpus_title = []\n",
    "for i in range(0, df_movies.shape[0]):\n",
    "  review = re.sub('[^a-zA-Z]', ' ', df_movies['title'][i]) # solo toma todas las palabras que contengan de A a la Z tanto en mayusculas como minuculas\n",
    "  review = review.lower() # transformamos a minusculas\n",
    "  review = review.split() # cada palabra estara separada por comas y seran almacenadas en una lista\n",
    "\n",
    "   \n",
    "  review = [word for word in review] # guardamos en una lista todas las palabras\n",
    "  review = ' '.join(review) # unimos las palabras de la lista por un espacio en blanco\n",
    "  corpus_title.append(review)"
   ]
  },
  {
   "cell_type": "code",
   "execution_count": 237,
   "metadata": {},
   "outputs": [],
   "source": [
    "vectorizer = TfidfVectorizer(stop_words='english')"
   ]
  },
  {
   "cell_type": "code",
   "execution_count": 238,
   "metadata": {},
   "outputs": [],
   "source": [
    "overview_matrix = vectorizer.fit_transform(corpus_title)"
   ]
  },
  {
   "cell_type": "code",
   "execution_count": 239,
   "metadata": {},
   "outputs": [
    {
     "name": "stdout",
     "output_type": "stream",
     "text": [
      "['abiding' 'abraham' 'accountant' ... 'zoolander' 'zootopia' 'zorro']\n"
     ]
    }
   ],
   "source": [
    "terminos_overview = vectorizer.get_feature_names_out()\n",
    "print(terminos_overview)"
   ]
  },
  {
   "cell_type": "code",
   "execution_count": 240,
   "metadata": {},
   "outputs": [
    {
     "name": "stdout",
     "output_type": "stream",
     "text": [
      "[[0. 0. 0. ... 0. 0. 0.]\n",
      " [0. 0. 0. ... 0. 0. 0.]\n",
      " [0. 0. 0. ... 0. 0. 0.]\n",
      " ...\n",
      " [0. 0. 0. ... 0. 0. 0.]\n",
      " [0. 0. 0. ... 0. 0. 0.]\n",
      " [0. 0. 0. ... 0. 0. 0.]]\n"
     ]
    }
   ],
   "source": [
    "tfidf_valores = overview_matrix.toarray()\n",
    "print(tfidf_valores)"
   ]
  },
  {
   "cell_type": "code",
   "execution_count": 241,
   "metadata": {},
   "outputs": [
    {
     "name": "stdout",
     "output_type": "stream",
     "text": [
      "['abiding' 'abraham' 'accountant' ... 'zoolander' 'zootopia' 'zorro']\n"
     ]
    }
   ],
   "source": [
    "terminos_overview = vectorizer.get_feature_names_out()\n",
    "print(terminos_overview)"
   ]
  },
  {
   "cell_type": "code",
   "execution_count": 242,
   "metadata": {},
   "outputs": [],
   "source": [
    "frecuencias = np.sum(tfidf_valores, axis=0)"
   ]
  },
  {
   "cell_type": "code",
   "execution_count": 243,
   "metadata": {},
   "outputs": [
    {
     "data": {
      "image/png": "[encoded data removed]",
      "text/plain": [
       "<Figure size 1000x600 with 1 Axes>"
      ]
     },
     "metadata": {},
     "output_type": "display_data"
    }
   ],
   "source": [
    "indices_ordenados = np.argsort(frecuencias)[::-1]  # Índices en orden descendente\n",
    "palabras_ordenadas = terminos_overview[indices_ordenados]\n",
    "frecuencias_ordenadas = frecuencias[indices_ordenados]\n",
    "\n",
    "# Seleccionar las 30 palabras más frecuentes\n",
    "top_n = 30\n",
    "palabras_top = palabras_ordenadas[:top_n]\n",
    "frecuencias_top = frecuencias_ordenadas[:top_n]\n",
    "\n",
    "# Creamos un gráfico de puntos\n",
    "plt.figure(figsize=(10, 6))\n",
    "plt.plot(palabras_top, frecuencias_top, color='skyblue', marker = \"*\", ms = 15, mfc = \"r\")\n",
    "plt.xlabel('Palabras')\n",
    "plt.ylabel('Frecuencia (TF-IDF)')\n",
    "plt.title('Palabras más frecuentes según TF-IDF')\n",
    "plt.xticks(rotation=90)\n",
    "plt.tight_layout()\n",
    "\n",
    "# Mostrar el gráfico\n",
    "plt.show()"
   ]
  },
  {
   "cell_type": "markdown",
   "metadata": {},
   "source": [
    "Podemos observar en este grafico las 30 palabras mas comúnes presentes en los titulos de las peliculas, siendo la mas popular la palabra \"Man\""
   ]
  },
  {
   "cell_type": "markdown",
   "metadata": {},
   "source": [
    "## ELAVORANDO EL ALGORITMO DE RECOMENDACION"
   ]
  },
  {
   "cell_type": "code",
   "execution_count": 244,
   "metadata": {},
   "outputs": [
    {
     "name": "stdout",
     "output_type": "stream",
     "text": [
      "Requirement already satisfied: nltk in c:\\users\\jhnnc\\appdata\\local\\packages\\pythonsoftwarefoundation.python.3.10_qbz5n2kfra8p0\\localcache\\local-packages\\python310\\site-packages (3.9.1)\n",
      "Requirement already satisfied: click in c:\\users\\jhnnc\\appdata\\local\\packages\\pythonsoftwarefoundation.python.3.10_qbz5n2kfra8p0\\localcache\\local-packages\\python310\\site-packages (from nltk) (8.1.3)\n",
      "Requirement already satisfied: joblib in c:\\users\\jhnnc\\appdata\\local\\packages\\pythonsoftwarefoundation.python.3.10_qbz5n2kfra8p0\\localcache\\local-packages\\python310\\site-packages (from nltk) (1.2.0)\n",
      "Requirement already satisfied: regex>=2021.8.3 in c:\\users\\jhnnc\\appdata\\local\\packages\\pythonsoftwarefoundation.python.3.10_qbz5n2kfra8p0\\localcache\\local-packages\\python310\\site-packages (from nltk) (2023.12.25)\n",
      "Requirement already satisfied: tqdm in c:\\users\\jhnnc\\appdata\\local\\packages\\pythonsoftwarefoundation.python.3.10_qbz5n2kfra8p0\\localcache\\local-packages\\python310\\site-packages (from nltk) (4.65.0)\n",
      "Requirement already satisfied: colorama in c:\\users\\jhnnc\\appdata\\local\\packages\\pythonsoftwarefoundation.python.3.10_qbz5n2kfra8p0\\localcache\\local-packages\\python310\\site-packages (from click->nltk) (0.4.6)\n"
     ]
    },
    {
     "name": "stderr",
     "output_type": "stream",
     "text": [
      "\n",
      "[notice] A new release of pip is available: 23.1.2 -> 24.3.1\n",
      "[notice] To update, run: C:\\Users\\jhnnc\\AppData\\Local\\Microsoft\\WindowsApps\\PythonSoftwareFoundation.Python.3.10_qbz5n2kfra8p0\\python.exe -m pip install --upgrade pip\n"
     ]
    }
   ],
   "source": [
    "!pip install nltk"
   ]
  },
  {
   "cell_type": "markdown",
   "metadata": {},
   "source": [
    "LIMPIEZA DE TEXTO"
   ]
  },
  {
   "cell_type": "markdown",
   "metadata": {},
   "source": [
    "Haremos una limpieza de texto de las columnas overview, genres y belongs_to_collection que son las columnas tienen importancia para el sistema de recomendación, el algoritmo tomara la descripcion general (overview), los generos de cada pelicula (genres) y si la pelicula tiene o no colecciones (belongs_to_collection) para buscar las mejores recomendaciones para una pelicula, dejaremos de lado columnas que podria alterar el sistema de recomendacion como vote_count, popularity y vote_average con el que el algoritmo podria terminar recomendando por popularidad o votaciones antes que por similitud contextual.\n",
    "\n",
    "\n",
    "El proceso sera el siguiente: Nos quedaremos solo con las palabras de mayor relevancia, estas palabras solo seran letras y seran reducidas a su forma base si no lo estuvieran, posteriormente las convertiremos a minusculas y para finalizar las transformaremos a valores numericos (vectorizacion)"
   ]
  },
  {
   "cell_type": "code",
   "execution_count": 245,
   "metadata": {},
   "outputs": [],
   "source": [
    "# Proceso para la columna overview\n",
    "\n",
    "corpus_overview = []\n",
    "for i in range(0, df_movies.shape[0]):\n",
    "  review = re.sub('[^a-zA-Z]', ' ', df_movies['overview'][i]) # solo toma todas las palabras que contengan de A a la Z tanto en mayusculas como minuculas\n",
    "  review = review.lower() # transformamos a minusculas\n",
    "  review = review.split() # cada palabra estara separada por comas y seran almacenadas en una lista\n",
    "  ps = PorterStemmer() #para quedarnos solo con las palabras raiz ejemplo loved -> love\n",
    "   \n",
    "  review = [ps.stem(word) for word in review] # guardamos en una lista todas las palabras ya stemizadas(convertidas a su raiz)\n",
    "  review = ' '.join(review) # unimos las palabras de la lista por un espacio en blanco\n",
    "  corpus_overview.append(review)"
   ]
  },
  {
   "cell_type": "code",
   "execution_count": 246,
   "metadata": {},
   "outputs": [],
   "source": [
    "# preparamos la funcion que quitara todas las palabras sin relevancia (stopwords)\n",
    "\n",
    "vectorizer = TfidfVectorizer(stop_words='english')"
   ]
  },
  {
   "cell_type": "code",
   "execution_count": 247,
   "metadata": {},
   "outputs": [],
   "source": [
    "# convertimos nuestra lista de palabras en vectores\n",
    "\n",
    "overview_matrix = vectorizer.fit_transform(corpus_overview)"
   ]
  },
  {
   "cell_type": "code",
   "execution_count": 248,
   "metadata": {},
   "outputs": [
    {
     "name": "stdout",
     "output_type": "stream",
     "text": [
      "['aam' 'aang' 'aaron' ... 'zootopia' 'zorro' 'zuckerberg']\n"
     ]
    }
   ],
   "source": [
    "# podemos observar la lista de palabras\n",
    "\n",
    "terminos_overview = vectorizer.get_feature_names_out()\n",
    "print(terminos_overview)"
   ]
  },
  {
   "cell_type": "code",
   "execution_count": 249,
   "metadata": {},
   "outputs": [],
   "source": [
    "# Proceso para la columna genres\n",
    "\n",
    "corpus_genres = []\n",
    "for i in range(0, df_movies.shape[0]):\n",
    "  review = re.sub('[^a-zA-Z]', ' ', df_movies['genres'][i]) # solo toma todas las palabras que contengan de A a la Z tanto en mayusculas como minuculas\n",
    "  review = review.lower() # transformamos a minusculas\n",
    "  review = review.split() # cada palabra estara separada por comas y seran almacenadas en una lista\n",
    "  #ps = PorterStemmer() No stemizamos porque no haria ninguna diferencia para este caso\n",
    "\n",
    "  review = [word for word in review] # guardamos en una lista todas las palabras que no sean stopwords\n",
    "  review = ' '.join(review) # unimos las palabras de la lista por un espacio en blanco\n",
    "  corpus_genres.append(review)"
   ]
  },
  {
   "cell_type": "code",
   "execution_count": 250,
   "metadata": {},
   "outputs": [],
   "source": [
    "# convertimos nuestra lista de palabras en vectores\n",
    "\n",
    "genres_matrix = vectorizer.fit_transform(corpus_genres)"
   ]
  },
  {
   "cell_type": "code",
   "execution_count": 251,
   "metadata": {},
   "outputs": [
    {
     "name": "stdout",
     "output_type": "stream",
     "text": [
      "['action' 'adventure' 'animation' 'comedy' 'crime' 'drama' 'family'\n",
      " 'fantasy' 'fiction' 'history' 'horror' 'music' 'mystery' 'romance'\n",
      " 'science' 'thriller' 'war' 'western']\n"
     ]
    }
   ],
   "source": [
    "# podemos observar la lista de palabras\n",
    "\n",
    "terminos_genres = vectorizer.get_feature_names_out()\n",
    "print(terminos_genres)"
   ]
  },
  {
   "cell_type": "code",
   "execution_count": 252,
   "metadata": {},
   "outputs": [],
   "source": [
    "corpus_collection = []\n",
    "for i in range(0, df_movies.shape[0]): # iteramos las 5000 filas de la columna belongs_to_collection\n",
    "    review = re.sub('[^a-zA-Z]', ' ', df_movies['belongs_to_collection'][i]) #solo toma los valores de A a la Z tanto en mayusculas como minuculas\n",
    "    review = review.lower() # transformamos a minusculas\n",
    "    review = review.split() # cada palabra estara separada por comas y seran almacenadas en una lista\n",
    "    #ps = PorterStemmer() No stemizamos porque no haria ninguna diferencia para este caso\n",
    "    review = [word for word in review] # guardamos en una lista todas las palabras que no sean stopwords\n",
    "    review = ' '.join(review) # unimos las palabras de la lista por un espacio en blanco\n",
    "    corpus_collection.append(review)"
   ]
  },
  {
   "cell_type": "code",
   "execution_count": 253,
   "metadata": {},
   "outputs": [],
   "source": [
    "# convertimos nuestra lista de palabras en vectores\n",
    "collection_matrix = vectorizer.fit_transform(corpus_collection)"
   ]
  },
  {
   "cell_type": "code",
   "execution_count": 254,
   "metadata": {},
   "outputs": [
    {
     "name": "stdout",
     "output_type": "stream",
     "text": [
      "['ace' 'action' 'activity' 'age' 'airplane' 'aladdin' 'alice' 'alien'\n",
      " 'almighty' 'alternate' 'alvin' 'amazing' 'america' 'american' 'anchorman'\n",
      " 'animated' 'animation' 'annabelle' 'ant' 'anthology' 'apes' 'ass'\n",
      " 'atlantis' 'avatar' 'avengers' 'avp' 'bad' 'bambi' 'batman' 'bear'\n",
      " 'beast' 'beasts' 'beauty' 'black' 'blade' 'bond' 'book' 'bosses' 'bourne'\n",
      " 'boys' 'bridget' 'brother' 'butterfly' 'captain' 'caribbean' 'cars'\n",
      " 'chance' 'chipmunks' 'chronicles' 'cinderella' 'city' 'clash' 'cloudy'\n",
      " 'collection' 'conjuring' 'crank' 'cube' 'dalmatians' 'dame' 'dancing'\n",
      " 'dark' 'darko' 'dawn' 'day' 'days' 'deadpool' 'death' 'despicable'\n",
      " 'destination' 'die' 'dirty' 'divergent' 'dragon' 'dumb' 'dumber' 'dusk'\n",
      " 'effect' 'elm' 'evil' 'exorcist' 'expendables' 'fallen' 'fantastic'\n",
      " 'fast' 'feet' 'final' 'finding' 'frozen' 'fu' 'fugitive' 'furious'\n",
      " 'future' 'galaxy' 'games' 'ghost' 'ghostbusters' 'godfather' 'grease'\n",
      " 'gremlins' 'grindhouse' 'grown' 'guardians' 'hangover' 'hannibal' 'happy'\n",
      " 'hard' 'harry' 'hellboy' 'helsing' 'hitman' 'hobbit' 'holmes' 'home'\n",
      " 'horrible' 'hotel' 'hour' 'hunchback' 'hunger' 'huntsman' 'ice'\n",
      " 'impossible' 'incredibles' 'independence' 'indiana' 'insidious' 'iron'\n",
      " 'jack' 'jackson' 'james' 'jaws' 'joe' 'john' 'jones' 'journey' 'jump'\n",
      " 'jungle' 'jurassic' 'kick' 'kill' 'king' 'kingsman' 'knight' 'kung'\n",
      " 'lady' 'langdon' 'later' 'lecter' 'lego' 'lethal' 'lilo' 'lion' 'little'\n",
      " 'live' 'lord' 'machete' 'mad' 'madagascar' 'man' 'marley' 'marshals'\n",
      " 'mask' 'matrix' 'max' 'maze' 'meatballs' 'mechanic' 'meet' 'men'\n",
      " 'mermaid' 'mission' 'monsters' 'movie' 'mulan' 'mummy' 'museum' 'mutant'\n",
      " 'narnia' 'national' 'neighbors' 'nemo' 'night' 'nightmare' 'ninja'\n",
      " 'notre' 'odyssey' 'pacific' 'pan' 'panda' 'paranormal' 'parents' 'park'\n",
      " 'percy' 'perfect' 'peter' 'pie' 'pirates' 'pitch' 'planet' 'pocahontas'\n",
      " 'potter' 'predator' 'prometheus' 'psycho' 'purge' 'race' 'raider' 'ralph'\n",
      " 'rambo' 'reacher' 'reality' 'reboot' 'red' 'remake' 'resident' 'riddick'\n",
      " 'rider' 'rim' 'ring' 'rings' 'rio' 'robert' 'robocop' 'rocky' 'runner'\n",
      " 'rush' 'ryan' 'saw' 'scary' 'scream' 'series' 'shades' 'sherlock' 'shrek'\n",
      " 'sin' 'sinister' 'smurfs' 'space' 'speed' 'spider' 'standar' 'star'\n",
      " 'starship' 'steel' 'stitch' 'story' 'street' 'superman' 'taken' 'tangled'\n",
      " 'tarzan' 'ted' 'teenage' 'terminator' 'theatrical' 'thing' 'thor' 'till'\n",
      " 'titans' 'tomb' 'toy' 'train' 'trainspotting' 'tramp' 'transformers'\n",
      " 'transporter' 'transylvania' 'treasure' 'trek' 'tron' 'troopers'\n",
      " 'turtles' 'twilight' 'underworld' 'ups' 'vampire' 'van' 'ventura' 'wars'\n",
      " 'weapon' 'weeks' 'wick' 'wolverine' 'woman' 'wonder' 'wonderland' 'wreck'\n",
      " 'xxx' 'zoolander' 'zorro']\n"
     ]
    }
   ],
   "source": [
    "# podemos observar la lista de palabras\n",
    "terminos_collection = vectorizer.get_feature_names_out()\n",
    "print(terminos_collection)"
   ]
  },
  {
   "cell_type": "markdown",
   "metadata": {},
   "source": [
    "\n",
    "\n",
    "Convertimos los vectores generados a arrays y las unimos con column_stack"
   ]
  },
  {
   "cell_type": "code",
   "execution_count": 255,
   "metadata": {},
   "outputs": [],
   "source": [
    "features = np.column_stack([collection_matrix.toarray(), genres_matrix.toarray(), overview_matrix.toarray()])"
   ]
  },
  {
   "cell_type": "code",
   "execution_count": 256,
   "metadata": {},
   "outputs": [
    {
     "data": {
      "text/plain": [
       "(1000, 6752)"
      ]
     },
     "execution_count": 256,
     "metadata": {},
     "output_type": "execute_result"
    }
   ],
   "source": [
    "features.shape"
   ]
  },
  {
   "cell_type": "code",
   "execution_count": 257,
   "metadata": {},
   "outputs": [],
   "source": [
    "# Ahora, calculamos la matriz de similitud de coseno\n",
    "similarity_matrix = cosine_similarity(features)"
   ]
  },
  {
   "cell_type": "markdown",
   "metadata": {},
   "source": [
    "#### Guardamos similarity_matrix en un Dataframe y posteriormente lo exportamos como similarity_matrix_df.csv\n",
    "De esta forma evitamos la iteracion en Render lo que nos puede consumir ram, este es un paso excepcional unicamente por temas de rendimiento"
   ]
  },
  {
   "cell_type": "code",
   "execution_count": 258,
   "metadata": {},
   "outputs": [],
   "source": [
    "similarity_matrix_df=pd.DataFrame(similarity_matrix)\n",
    "similarity_matrix_df.to_csv('similarity_matrix_df.csv', index=False)"
   ]
  },
  {
   "cell_type": "code",
   "execution_count": 259,
   "metadata": {},
   "outputs": [
    {
     "data": {
      "text/plain": [
       "(1000, 1000)"
      ]
     },
     "execution_count": 259,
     "metadata": {},
     "output_type": "execute_result"
    }
   ],
   "source": [
    "similarity_matrix_df.shape"
   ]
  },
  {
   "cell_type": "code",
   "execution_count": 260,
   "metadata": {},
   "outputs": [],
   "source": [
    "def recomendacion(titulo: str):\n",
    "\n",
    "    \n",
    "    movie = df_movies[df_movies['title'].str.lower() == titulo.lower()]\n",
    "\n",
    "    if not movie.empty:\n",
    "        movie_index = movie.index[0] #obtenemos el indice\n",
    "        movie_similarities = similarity_matrix_df.iloc[movie_index,:] # obtenemos la fila que contiene los valores de similitud entre todas las peliculas y la pelicula especificada \n",
    "        most_similar_movie_indices = np.argsort(-movie_similarities) # ordenamos los indices de forma descendente\n",
    "        most_similar_movie = df_movies.loc[most_similar_movie_indices, 'title'] # buscamos todas las peliculas similares con respecto a los indices de las peliculas en el dataset original\n",
    "        print(\"Las peliculas más similares al titulo\", titulo, \"son:\\n\")\n",
    "        print(most_similar_movie[:10])\n",
    "    else:\n",
    "        print(\"Pelicula no encontrado\")"
   ]
  },
  {
   "cell_type": "markdown",
   "metadata": {},
   "source": [
    "Algunos ejemplos..."
   ]
  },
  {
   "cell_type": "code",
   "execution_count": 262,
   "metadata": {},
   "outputs": [
    {
     "name": "stdout",
     "output_type": "stream",
     "text": [
      "Las peliculas más similares al titulo Iron Man son:\n",
      "\n",
      "704                                     Iron Man\n",
      "910                                   Iron Man 2\n",
      "666                                   Iron Man 3\n",
      "992                                      Ant-Man\n",
      "815                                 Man of Steel\n",
      "681                      Avengers: Age of Ultron\n",
      "795                                    Star Wars\n",
      "596                                 Transformers\n",
      "898    Star Wars: Episode I - The Phantom Menace\n",
      "853                                 TRON: Legacy\n",
      "Name: title, dtype: object\n"
     ]
    }
   ],
   "source": [
    "recomendacion('Iron Man')"
   ]
  }
 ],
 "metadata": {
  "kernelspec": {
   "display_name": "Python 3",
   "language": "python",
   "name": "python3"
  },
  "language_info": {
   "codemirror_mode": {
    "name": "ipython",
    "version": 3
   },
   "file_extension": ".py",
   "mimetype": "text/x-python",
   "name": "python",
   "nbconvert_exporter": "python",
   "pygments_lexer": "ipython3",
   "version": "3.10.11"
  }
 },
 "nbformat": 4,
 "nbformat_minor": 2
}
