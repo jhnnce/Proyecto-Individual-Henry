{
 "cells": [
  {
   "cell_type": "code",
   "execution_count": null,
   "metadata": {},
   "outputs": [
    {
     "name": "stderr",
     "output_type": "stream",
     "text": [
      "C:\\Users\\jhnnc\\AppData\\Local\\Temp\\ipykernel_15900\\1886751633.py:6: DtypeWarning: Columns (10) have mixed types. Specify dtype option on import or set low_memory=False.\n",
      "  df_movies = pd.read_csv('D:\\HENRY REPO\\Proyecto Individual\\Movies-20241022T010521Z-001\\Movies\\movies_dataset.csv', sep = ',')\n"
     ]
    },
    {
     "data": {
      "text/html": [
       "<div>\n",
       "<style scoped>\n",
       "    .dataframe tbody tr th:only-of-type {\n",
       "        vertical-align: middle;\n",
       "    }\n",
       "\n",
       "    .dataframe tbody tr th {\n",
       "        vertical-align: top;\n",
       "    }\n",
       "\n",
       "    .dataframe thead th {\n",
       "        text-align: right;\n",
       "    }\n",
       "</style>\n",
       "<table border=\"1\" class=\"dataframe\">\n",
       "  <thead>\n",
       "    <tr style=\"text-align: right;\">\n",
       "      <th></th>\n",
       "      <th>adult</th>\n",
       "      <th>belongs_to_collection</th>\n",
       "      <th>budget</th>\n",
       "      <th>genres</th>\n",
       "      <th>homepage</th>\n",
       "      <th>id</th>\n",
       "      <th>imdb_id</th>\n",
       "      <th>original_language</th>\n",
       "      <th>original_title</th>\n",
       "      <th>overview</th>\n",
       "      <th>...</th>\n",
       "      <th>release_date</th>\n",
       "      <th>revenue</th>\n",
       "      <th>runtime</th>\n",
       "      <th>spoken_languages</th>\n",
       "      <th>status</th>\n",
       "      <th>tagline</th>\n",
       "      <th>title</th>\n",
       "      <th>video</th>\n",
       "      <th>vote_average</th>\n",
       "      <th>vote_count</th>\n",
       "    </tr>\n",
       "  </thead>\n",
       "  <tbody>\n",
       "    <tr>\n",
       "      <th>0</th>\n",
       "      <td>False</td>\n",
       "      <td>{'id': 10194, 'name': 'Toy Story Collection', ...</td>\n",
       "      <td>30000000</td>\n",
       "      <td>[{'id': 16, 'name': 'Animation'}, {'id': 35, '...</td>\n",
       "      <td>http://toystory.disney.com/toy-story</td>\n",
       "      <td>862</td>\n",
       "      <td>tt0114709</td>\n",
       "      <td>en</td>\n",
       "      <td>Toy Story</td>\n",
       "      <td>Led by Woody, Andy's toys live happily in his ...</td>\n",
       "      <td>...</td>\n",
       "      <td>1995-10-30</td>\n",
       "      <td>373554033.0</td>\n",
       "      <td>81.0</td>\n",
       "      <td>[{'iso_639_1': 'en', 'name': 'English'}]</td>\n",
       "      <td>Released</td>\n",
       "      <td>NaN</td>\n",
       "      <td>Toy Story</td>\n",
       "      <td>False</td>\n",
       "      <td>7.7</td>\n",
       "      <td>5415.0</td>\n",
       "    </tr>\n",
       "    <tr>\n",
       "      <th>1</th>\n",
       "      <td>False</td>\n",
       "      <td>NaN</td>\n",
       "      <td>65000000</td>\n",
       "      <td>[{'id': 12, 'name': 'Adventure'}, {'id': 14, '...</td>\n",
       "      <td>NaN</td>\n",
       "      <td>8844</td>\n",
       "      <td>tt0113497</td>\n",
       "      <td>en</td>\n",
       "      <td>Jumanji</td>\n",
       "      <td>When siblings Judy and Peter discover an encha...</td>\n",
       "      <td>...</td>\n",
       "      <td>1995-12-15</td>\n",
       "      <td>262797249.0</td>\n",
       "      <td>104.0</td>\n",
       "      <td>[{'iso_639_1': 'en', 'name': 'English'}, {'iso...</td>\n",
       "      <td>Released</td>\n",
       "      <td>Roll the dice and unleash the excitement!</td>\n",
       "      <td>Jumanji</td>\n",
       "      <td>False</td>\n",
       "      <td>6.9</td>\n",
       "      <td>2413.0</td>\n",
       "    </tr>\n",
       "    <tr>\n",
       "      <th>2</th>\n",
       "      <td>False</td>\n",
       "      <td>{'id': 119050, 'name': 'Grumpy Old Men Collect...</td>\n",
       "      <td>0</td>\n",
       "      <td>[{'id': 10749, 'name': 'Romance'}, {'id': 35, ...</td>\n",
       "      <td>NaN</td>\n",
       "      <td>15602</td>\n",
       "      <td>tt0113228</td>\n",
       "      <td>en</td>\n",
       "      <td>Grumpier Old Men</td>\n",
       "      <td>A family wedding reignites the ancient feud be...</td>\n",
       "      <td>...</td>\n",
       "      <td>1995-12-22</td>\n",
       "      <td>0.0</td>\n",
       "      <td>101.0</td>\n",
       "      <td>[{'iso_639_1': 'en', 'name': 'English'}]</td>\n",
       "      <td>Released</td>\n",
       "      <td>Still Yelling. Still Fighting. Still Ready for...</td>\n",
       "      <td>Grumpier Old Men</td>\n",
       "      <td>False</td>\n",
       "      <td>6.5</td>\n",
       "      <td>92.0</td>\n",
       "    </tr>\n",
       "    <tr>\n",
       "      <th>3</th>\n",
       "      <td>False</td>\n",
       "      <td>NaN</td>\n",
       "      <td>16000000</td>\n",
       "      <td>[{'id': 35, 'name': 'Comedy'}, {'id': 18, 'nam...</td>\n",
       "      <td>NaN</td>\n",
       "      <td>31357</td>\n",
       "      <td>tt0114885</td>\n",
       "      <td>en</td>\n",
       "      <td>Waiting to Exhale</td>\n",
       "      <td>Cheated on, mistreated and stepped on, the wom...</td>\n",
       "      <td>...</td>\n",
       "      <td>1995-12-22</td>\n",
       "      <td>81452156.0</td>\n",
       "      <td>127.0</td>\n",
       "      <td>[{'iso_639_1': 'en', 'name': 'English'}]</td>\n",
       "      <td>Released</td>\n",
       "      <td>Friends are the people who let you be yourself...</td>\n",
       "      <td>Waiting to Exhale</td>\n",
       "      <td>False</td>\n",
       "      <td>6.1</td>\n",
       "      <td>34.0</td>\n",
       "    </tr>\n",
       "    <tr>\n",
       "      <th>4</th>\n",
       "      <td>False</td>\n",
       "      <td>{'id': 96871, 'name': 'Father of the Bride Col...</td>\n",
       "      <td>0</td>\n",
       "      <td>[{'id': 35, 'name': 'Comedy'}]</td>\n",
       "      <td>NaN</td>\n",
       "      <td>11862</td>\n",
       "      <td>tt0113041</td>\n",
       "      <td>en</td>\n",
       "      <td>Father of the Bride Part II</td>\n",
       "      <td>Just when George Banks has recovered from his ...</td>\n",
       "      <td>...</td>\n",
       "      <td>1995-02-10</td>\n",
       "      <td>76578911.0</td>\n",
       "      <td>106.0</td>\n",
       "      <td>[{'iso_639_1': 'en', 'name': 'English'}]</td>\n",
       "      <td>Released</td>\n",
       "      <td>Just When His World Is Back To Normal... He's ...</td>\n",
       "      <td>Father of the Bride Part II</td>\n",
       "      <td>False</td>\n",
       "      <td>5.7</td>\n",
       "      <td>173.0</td>\n",
       "    </tr>\n",
       "  </tbody>\n",
       "</table>\n",
       "<p>5 rows × 24 columns</p>\n",
       "</div>"
      ],
      "text/plain": [
       "   adult                              belongs_to_collection    budget  \\\n",
       "0  False  {'id': 10194, 'name': 'Toy Story Collection', ...  30000000   \n",
       "1  False                                                NaN  65000000   \n",
       "2  False  {'id': 119050, 'name': 'Grumpy Old Men Collect...         0   \n",
       "3  False                                                NaN  16000000   \n",
       "4  False  {'id': 96871, 'name': 'Father of the Bride Col...         0   \n",
       "\n",
       "                                              genres  \\\n",
       "0  [{'id': 16, 'name': 'Animation'}, {'id': 35, '...   \n",
       "1  [{'id': 12, 'name': 'Adventure'}, {'id': 14, '...   \n",
       "2  [{'id': 10749, 'name': 'Romance'}, {'id': 35, ...   \n",
       "3  [{'id': 35, 'name': 'Comedy'}, {'id': 18, 'nam...   \n",
       "4                     [{'id': 35, 'name': 'Comedy'}]   \n",
       "\n",
       "                               homepage     id    imdb_id original_language  \\\n",
       "0  http://toystory.disney.com/toy-story    862  tt0114709                en   \n",
       "1                                   NaN   8844  tt0113497                en   \n",
       "2                                   NaN  15602  tt0113228                en   \n",
       "3                                   NaN  31357  tt0114885                en   \n",
       "4                                   NaN  11862  tt0113041                en   \n",
       "\n",
       "                original_title  \\\n",
       "0                    Toy Story   \n",
       "1                      Jumanji   \n",
       "2             Grumpier Old Men   \n",
       "3            Waiting to Exhale   \n",
       "4  Father of the Bride Part II   \n",
       "\n",
       "                                            overview  ... release_date  \\\n",
       "0  Led by Woody, Andy's toys live happily in his ...  ...   1995-10-30   \n",
       "1  When siblings Judy and Peter discover an encha...  ...   1995-12-15   \n",
       "2  A family wedding reignites the ancient feud be...  ...   1995-12-22   \n",
       "3  Cheated on, mistreated and stepped on, the wom...  ...   1995-12-22   \n",
       "4  Just when George Banks has recovered from his ...  ...   1995-02-10   \n",
       "\n",
       "       revenue runtime                                   spoken_languages  \\\n",
       "0  373554033.0    81.0           [{'iso_639_1': 'en', 'name': 'English'}]   \n",
       "1  262797249.0   104.0  [{'iso_639_1': 'en', 'name': 'English'}, {'iso...   \n",
       "2          0.0   101.0           [{'iso_639_1': 'en', 'name': 'English'}]   \n",
       "3   81452156.0   127.0           [{'iso_639_1': 'en', 'name': 'English'}]   \n",
       "4   76578911.0   106.0           [{'iso_639_1': 'en', 'name': 'English'}]   \n",
       "\n",
       "     status                                            tagline  \\\n",
       "0  Released                                                NaN   \n",
       "1  Released          Roll the dice and unleash the excitement!   \n",
       "2  Released  Still Yelling. Still Fighting. Still Ready for...   \n",
       "3  Released  Friends are the people who let you be yourself...   \n",
       "4  Released  Just When His World Is Back To Normal... He's ...   \n",
       "\n",
       "                         title  video vote_average vote_count  \n",
       "0                    Toy Story  False          7.7     5415.0  \n",
       "1                      Jumanji  False          6.9     2413.0  \n",
       "2             Grumpier Old Men  False          6.5       92.0  \n",
       "3            Waiting to Exhale  False          6.1       34.0  \n",
       "4  Father of the Bride Part II  False          5.7      173.0  \n",
       "\n",
       "[5 rows x 24 columns]"
      ]
     },
     "execution_count": 66,
     "metadata": {},
     "output_type": "execute_result"
    }
   ],
   "source": [
    "#Importamos las librerias necesarias para abrir el archivo csv\n",
    "\n",
    "import pandas as pd\n",
    "import numpy as np\n",
    "\n",
    "df_movies = pd.read_csv('movies_dataset.csv', sep = ',')\n",
    "df_movies.head()"
   ]
  },
  {
   "cell_type": "markdown",
   "metadata": {},
   "source": [
    "## ETL"
   ]
  },
  {
   "cell_type": "code",
   "execution_count": 67,
   "metadata": {},
   "outputs": [
    {
     "data": {
      "text/plain": [
       "(45466, 24)"
      ]
     },
     "execution_count": 67,
     "metadata": {},
     "output_type": "execute_result"
    }
   ],
   "source": [
    "df_movies.shape # dimensiones del dataset"
   ]
  },
  {
   "cell_type": "markdown",
   "metadata": {},
   "source": [
    "(Punto 6 de henry) Eliminar las columnas que no serán utilizadas, video, imdb_id, adult, original_title, poster_path y homepage.\n",
    "\n",
    "También eliminares columnas como production_companies, production_countries, runtime, tagline y spoken_languages como parte de la reducción por cuestiones de limitación de recursos para Render, ademas estas columnas no aportaran información relevante mas allá de las que ya tenemos."
   ]
  },
  {
   "cell_type": "code",
   "execution_count": 68,
   "metadata": {},
   "outputs": [],
   "source": [
    "df_movies.drop(\n",
    "    labels=['video', 'imdb_id', 'adult', 'original_title', 'poster_path', 'homepage', 'production_companies', 'production_countries', 'runtime', 'tagline', 'spoken_languages'], \n",
    "    axis = 1, \n",
    "    inplace=True\n",
    "    )"
   ]
  },
  {
   "cell_type": "code",
   "execution_count": 69,
   "metadata": {},
   "outputs": [
    {
     "data": {
      "text/plain": [
       "belongs_to_collection     object\n",
       "budget                    object\n",
       "genres                    object\n",
       "id                        object\n",
       "original_language         object\n",
       "overview                  object\n",
       "popularity                object\n",
       "release_date              object\n",
       "revenue                  float64\n",
       "status                    object\n",
       "title                     object\n",
       "vote_average             float64\n",
       "vote_count               float64\n",
       "dtype: object"
      ]
     },
     "execution_count": 69,
     "metadata": {},
     "output_type": "execute_result"
    }
   ],
   "source": [
    "# Observamos los tipos de datos de cada columna\n",
    "df_movies.dtypes"
   ]
  },
  {
   "cell_type": "markdown",
   "metadata": {},
   "source": [
    "Las columnas budget, popularity, id y revenue que originalmente son de tipo 'object' las transformaremos al tipo numerico ya que son numeros pero pero se encuentran en string"
   ]
  },
  {
   "cell_type": "code",
   "execution_count": 70,
   "metadata": {},
   "outputs": [],
   "source": [
    "df_movies['budget'] = df_movies['budget'].apply(pd.to_numeric,errors='coerce')\n",
    "df_movies['popularity'] = df_movies['popularity'].apply(pd.to_numeric,errors='coerce')\n",
    "df_movies['revenue'] = df_movies['revenue'].apply(pd.to_numeric,errors='coerce')\n",
    "df_movies['id'] = df_movies['id'].apply(pd.to_numeric,errors='coerce')"
   ]
  },
  {
   "cell_type": "code",
   "execution_count": 71,
   "metadata": {},
   "outputs": [
    {
     "data": {
      "text/plain": [
       "belongs_to_collection     object\n",
       "budget                   float64\n",
       "genres                    object\n",
       "id                       float64\n",
       "original_language         object\n",
       "overview                  object\n",
       "popularity               float64\n",
       "release_date              object\n",
       "revenue                  float64\n",
       "status                    object\n",
       "title                     object\n",
       "vote_average             float64\n",
       "vote_count               float64\n",
       "dtype: object"
      ]
     },
     "execution_count": 71,
     "metadata": {},
     "output_type": "execute_result"
    }
   ],
   "source": [
    "df_movies.dtypes"
   ]
  },
  {
   "cell_type": "code",
   "execution_count": 72,
   "metadata": {},
   "outputs": [
    {
     "data": {
      "text/html": [
       "<div>\n",
       "<style scoped>\n",
       "    .dataframe tbody tr th:only-of-type {\n",
       "        vertical-align: middle;\n",
       "    }\n",
       "\n",
       "    .dataframe tbody tr th {\n",
       "        vertical-align: top;\n",
       "    }\n",
       "\n",
       "    .dataframe thead th {\n",
       "        text-align: right;\n",
       "    }\n",
       "</style>\n",
       "<table border=\"1\" class=\"dataframe\">\n",
       "  <thead>\n",
       "    <tr style=\"text-align: right;\">\n",
       "      <th></th>\n",
       "      <th>budget</th>\n",
       "      <th>id</th>\n",
       "      <th>popularity</th>\n",
       "      <th>revenue</th>\n",
       "      <th>vote_average</th>\n",
       "      <th>vote_count</th>\n",
       "    </tr>\n",
       "  </thead>\n",
       "  <tbody>\n",
       "    <tr>\n",
       "      <th>count</th>\n",
       "      <td>4.546300e+04</td>\n",
       "      <td>45463.000000</td>\n",
       "      <td>45460.000000</td>\n",
       "      <td>4.546000e+04</td>\n",
       "      <td>45460.000000</td>\n",
       "      <td>45460.000000</td>\n",
       "    </tr>\n",
       "    <tr>\n",
       "      <th>mean</th>\n",
       "      <td>4.224579e+06</td>\n",
       "      <td>108359.918813</td>\n",
       "      <td>2.921478</td>\n",
       "      <td>1.120935e+07</td>\n",
       "      <td>5.618207</td>\n",
       "      <td>109.897338</td>\n",
       "    </tr>\n",
       "    <tr>\n",
       "      <th>std</th>\n",
       "      <td>1.742413e+07</td>\n",
       "      <td>112460.749278</td>\n",
       "      <td>6.005414</td>\n",
       "      <td>6.433225e+07</td>\n",
       "      <td>1.924216</td>\n",
       "      <td>491.310374</td>\n",
       "    </tr>\n",
       "    <tr>\n",
       "      <th>min</th>\n",
       "      <td>0.000000e+00</td>\n",
       "      <td>2.000000</td>\n",
       "      <td>0.000000</td>\n",
       "      <td>0.000000e+00</td>\n",
       "      <td>0.000000</td>\n",
       "      <td>0.000000</td>\n",
       "    </tr>\n",
       "    <tr>\n",
       "      <th>25%</th>\n",
       "      <td>0.000000e+00</td>\n",
       "      <td>26449.500000</td>\n",
       "      <td>0.385948</td>\n",
       "      <td>0.000000e+00</td>\n",
       "      <td>5.000000</td>\n",
       "      <td>3.000000</td>\n",
       "    </tr>\n",
       "    <tr>\n",
       "      <th>50%</th>\n",
       "      <td>0.000000e+00</td>\n",
       "      <td>60003.000000</td>\n",
       "      <td>1.127685</td>\n",
       "      <td>0.000000e+00</td>\n",
       "      <td>6.000000</td>\n",
       "      <td>10.000000</td>\n",
       "    </tr>\n",
       "    <tr>\n",
       "      <th>75%</th>\n",
       "      <td>0.000000e+00</td>\n",
       "      <td>157328.000000</td>\n",
       "      <td>3.678902</td>\n",
       "      <td>0.000000e+00</td>\n",
       "      <td>6.800000</td>\n",
       "      <td>34.000000</td>\n",
       "    </tr>\n",
       "    <tr>\n",
       "      <th>max</th>\n",
       "      <td>3.800000e+08</td>\n",
       "      <td>469172.000000</td>\n",
       "      <td>547.488298</td>\n",
       "      <td>2.787965e+09</td>\n",
       "      <td>10.000000</td>\n",
       "      <td>14075.000000</td>\n",
       "    </tr>\n",
       "  </tbody>\n",
       "</table>\n",
       "</div>"
      ],
      "text/plain": [
       "             budget             id    popularity       revenue  vote_average  \\\n",
       "count  4.546300e+04   45463.000000  45460.000000  4.546000e+04  45460.000000   \n",
       "mean   4.224579e+06  108359.918813      2.921478  1.120935e+07      5.618207   \n",
       "std    1.742413e+07  112460.749278      6.005414  6.433225e+07      1.924216   \n",
       "min    0.000000e+00       2.000000      0.000000  0.000000e+00      0.000000   \n",
       "25%    0.000000e+00   26449.500000      0.385948  0.000000e+00      5.000000   \n",
       "50%    0.000000e+00   60003.000000      1.127685  0.000000e+00      6.000000   \n",
       "75%    0.000000e+00  157328.000000      3.678902  0.000000e+00      6.800000   \n",
       "max    3.800000e+08  469172.000000    547.488298  2.787965e+09     10.000000   \n",
       "\n",
       "         vote_count  \n",
       "count  45460.000000  \n",
       "mean     109.897338  \n",
       "std      491.310374  \n",
       "min        0.000000  \n",
       "25%        3.000000  \n",
       "50%       10.000000  \n",
       "75%       34.000000  \n",
       "max    14075.000000  "
      ]
     },
     "execution_count": 72,
     "metadata": {},
     "output_type": "execute_result"
    }
   ],
   "source": [
    "df_movies.describe()"
   ]
  },
  {
   "cell_type": "markdown",
   "metadata": {},
   "source": [
    "(Punto 1 de henry) Algunos campos, como belongs_to_collection, production_companies y otros (ver diccionario de datos) están anidados, esto es o bien tienen un diccionario o una lista como valores en cada fila, ¡deberán desanidarlos para poder y unirlos al dataset de nuevo hacer alguna de las consultas de la API! O bien buscar la manera de acceder a esos datos sin desanidarlos.\n",
    "\n",
    "\n",
    "Desanadiremos las columnas belongs_to_collection y genres, solo extraeremos los valores de nombres de la coleccion y nombres de los generos, estos valores estaran separados solo por espacioes en blanco y reemplazaran a las originales"
   ]
  },
  {
   "cell_type": "code",
   "execution_count": 73,
   "metadata": {},
   "outputs": [],
   "source": [
    "import json"
   ]
  },
  {
   "cell_type": "code",
   "execution_count": 74,
   "metadata": {},
   "outputs": [],
   "source": [
    "# desanidaremos la columna belongs_to_collection\n",
    "\n",
    "def desanidar_collection(fila):\n",
    "\n",
    "    try:\n",
    "        string = fila.replace(\"'\", '\"') # reemplazamos comillas simples por dobles de la cadena\n",
    "        dict_collection = json.loads(string) # obtenemos el diccionario de la cadena\n",
    "        coleccion = dict_collection['name'] # obtenemos el valor de la clave name\n",
    "        return coleccion\n",
    "    except:\n",
    "        \n",
    "        return np.nan # Si el campo esta vacio entonces devolvemos NaN\n",
    "\n",
    "df_movies['belongs_to_collection']=df_movies['belongs_to_collection'].apply(desanidar_collection) #aplicamos la funcion a cada fila"
   ]
  },
  {
   "cell_type": "code",
   "execution_count": 75,
   "metadata": {},
   "outputs": [],
   "source": [
    "# desanidaremos la columna genres\n",
    "\n",
    "def desanidar_genres(fila):\n",
    "\n",
    "    \n",
    "    string = fila.replace(\"'\", '\"') # reemplazamos comillas simples por dobles de la cadena\n",
    "    dict_collection = json.loads(string) # obtenemos el diccionario de la cadena\n",
    "    lista = [i['name'] for i in dict_collection if i['name'] ] # obtenemos el valor de la clave name y la guardamos en una lista\n",
    "    \n",
    "    # quitamos las comas que separan a cada elemento de la lista y las reemplazamos por espacios en blanco\n",
    "    if lista: \n",
    "\n",
    "        lista_desanidado = ' '.join(lista)\n",
    "        \n",
    "        return lista_desanidado\n",
    "    else:\n",
    "        return np.nan # Si el campo esta vacio entonces devolvemos NaN\n",
    "\n",
    "df_movies['genres']=df_movies['genres'].apply(desanidar_genres) #aplicamos la funcion a cada fila"
   ]
  },
  {
   "cell_type": "code",
   "execution_count": 76,
   "metadata": {},
   "outputs": [
    {
     "data": {
      "text/html": [
       "<div>\n",
       "<style scoped>\n",
       "    .dataframe tbody tr th:only-of-type {\n",
       "        vertical-align: middle;\n",
       "    }\n",
       "\n",
       "    .dataframe tbody tr th {\n",
       "        vertical-align: top;\n",
       "    }\n",
       "\n",
       "    .dataframe thead th {\n",
       "        text-align: right;\n",
       "    }\n",
       "</style>\n",
       "<table border=\"1\" class=\"dataframe\">\n",
       "  <thead>\n",
       "    <tr style=\"text-align: right;\">\n",
       "      <th></th>\n",
       "      <th>belongs_to_collection</th>\n",
       "      <th>budget</th>\n",
       "      <th>genres</th>\n",
       "      <th>id</th>\n",
       "      <th>original_language</th>\n",
       "      <th>overview</th>\n",
       "      <th>popularity</th>\n",
       "      <th>release_date</th>\n",
       "      <th>revenue</th>\n",
       "      <th>status</th>\n",
       "      <th>title</th>\n",
       "      <th>vote_average</th>\n",
       "      <th>vote_count</th>\n",
       "    </tr>\n",
       "  </thead>\n",
       "  <tbody>\n",
       "    <tr>\n",
       "      <th>0</th>\n",
       "      <td>Toy Story Collection</td>\n",
       "      <td>30000000.0</td>\n",
       "      <td>Animation Comedy Family</td>\n",
       "      <td>862.0</td>\n",
       "      <td>en</td>\n",
       "      <td>Led by Woody, Andy's toys live happily in his ...</td>\n",
       "      <td>21.946943</td>\n",
       "      <td>1995-10-30</td>\n",
       "      <td>373554033.0</td>\n",
       "      <td>Released</td>\n",
       "      <td>Toy Story</td>\n",
       "      <td>7.7</td>\n",
       "      <td>5415.0</td>\n",
       "    </tr>\n",
       "    <tr>\n",
       "      <th>1</th>\n",
       "      <td>NaN</td>\n",
       "      <td>65000000.0</td>\n",
       "      <td>Adventure Fantasy Family</td>\n",
       "      <td>8844.0</td>\n",
       "      <td>en</td>\n",
       "      <td>When siblings Judy and Peter discover an encha...</td>\n",
       "      <td>17.015539</td>\n",
       "      <td>1995-12-15</td>\n",
       "      <td>262797249.0</td>\n",
       "      <td>Released</td>\n",
       "      <td>Jumanji</td>\n",
       "      <td>6.9</td>\n",
       "      <td>2413.0</td>\n",
       "    </tr>\n",
       "    <tr>\n",
       "      <th>2</th>\n",
       "      <td>Grumpy Old Men Collection</td>\n",
       "      <td>0.0</td>\n",
       "      <td>Romance Comedy</td>\n",
       "      <td>15602.0</td>\n",
       "      <td>en</td>\n",
       "      <td>A family wedding reignites the ancient feud be...</td>\n",
       "      <td>11.712900</td>\n",
       "      <td>1995-12-22</td>\n",
       "      <td>0.0</td>\n",
       "      <td>Released</td>\n",
       "      <td>Grumpier Old Men</td>\n",
       "      <td>6.5</td>\n",
       "      <td>92.0</td>\n",
       "    </tr>\n",
       "    <tr>\n",
       "      <th>3</th>\n",
       "      <td>NaN</td>\n",
       "      <td>16000000.0</td>\n",
       "      <td>Comedy Drama Romance</td>\n",
       "      <td>31357.0</td>\n",
       "      <td>en</td>\n",
       "      <td>Cheated on, mistreated and stepped on, the wom...</td>\n",
       "      <td>3.859495</td>\n",
       "      <td>1995-12-22</td>\n",
       "      <td>81452156.0</td>\n",
       "      <td>Released</td>\n",
       "      <td>Waiting to Exhale</td>\n",
       "      <td>6.1</td>\n",
       "      <td>34.0</td>\n",
       "    </tr>\n",
       "    <tr>\n",
       "      <th>4</th>\n",
       "      <td>Father of the Bride Collection</td>\n",
       "      <td>0.0</td>\n",
       "      <td>Comedy</td>\n",
       "      <td>11862.0</td>\n",
       "      <td>en</td>\n",
       "      <td>Just when George Banks has recovered from his ...</td>\n",
       "      <td>8.387519</td>\n",
       "      <td>1995-02-10</td>\n",
       "      <td>76578911.0</td>\n",
       "      <td>Released</td>\n",
       "      <td>Father of the Bride Part II</td>\n",
       "      <td>5.7</td>\n",
       "      <td>173.0</td>\n",
       "    </tr>\n",
       "  </tbody>\n",
       "</table>\n",
       "</div>"
      ],
      "text/plain": [
       "            belongs_to_collection      budget                    genres  \\\n",
       "0            Toy Story Collection  30000000.0   Animation Comedy Family   \n",
       "1                             NaN  65000000.0  Adventure Fantasy Family   \n",
       "2       Grumpy Old Men Collection         0.0            Romance Comedy   \n",
       "3                             NaN  16000000.0      Comedy Drama Romance   \n",
       "4  Father of the Bride Collection         0.0                    Comedy   \n",
       "\n",
       "        id original_language  \\\n",
       "0    862.0                en   \n",
       "1   8844.0                en   \n",
       "2  15602.0                en   \n",
       "3  31357.0                en   \n",
       "4  11862.0                en   \n",
       "\n",
       "                                            overview  popularity release_date  \\\n",
       "0  Led by Woody, Andy's toys live happily in his ...   21.946943   1995-10-30   \n",
       "1  When siblings Judy and Peter discover an encha...   17.015539   1995-12-15   \n",
       "2  A family wedding reignites the ancient feud be...   11.712900   1995-12-22   \n",
       "3  Cheated on, mistreated and stepped on, the wom...    3.859495   1995-12-22   \n",
       "4  Just when George Banks has recovered from his ...    8.387519   1995-02-10   \n",
       "\n",
       "       revenue    status                        title  vote_average  \\\n",
       "0  373554033.0  Released                    Toy Story           7.7   \n",
       "1  262797249.0  Released                      Jumanji           6.9   \n",
       "2          0.0  Released             Grumpier Old Men           6.5   \n",
       "3   81452156.0  Released            Waiting to Exhale           6.1   \n",
       "4   76578911.0  Released  Father of the Bride Part II           5.7   \n",
       "\n",
       "   vote_count  \n",
       "0      5415.0  \n",
       "1      2413.0  \n",
       "2        92.0  \n",
       "3        34.0  \n",
       "4       173.0  "
      ]
     },
     "execution_count": 76,
     "metadata": {},
     "output_type": "execute_result"
    }
   ],
   "source": [
    "df_movies.head()"
   ]
  },
  {
   "cell_type": "markdown",
   "metadata": {},
   "source": [
    "(de henry) Los valores nulos de los campos revenue, budget deben ser rellenados por el número 0."
   ]
  },
  {
   "cell_type": "code",
   "execution_count": 77,
   "metadata": {},
   "outputs": [],
   "source": [
    "columns = {'revenue':0, 'budget':0} \n",
    "df_movies.fillna(columns, inplace=True)"
   ]
  },
  {
   "cell_type": "markdown",
   "metadata": {},
   "source": [
    "(de henry) Crear la columna con el retorno de inversión, llamada return con los campos revenue y budget, dividiendo estas dos últimas revenue / budget, cuando no hay datos disponibles para calcularlo, deberá tomar el valor 0."
   ]
  },
  {
   "cell_type": "code",
   "execution_count": 78,
   "metadata": {},
   "outputs": [
    {
     "name": "stderr",
     "output_type": "stream",
     "text": [
      "C:\\Users\\jhnnc\\AppData\\Local\\Temp\\ipykernel_15900\\579685176.py:10: RuntimeWarning: invalid value encountered in scalar divide\n",
      "  result = a/b # devidimos los valores\n",
      "C:\\Users\\jhnnc\\AppData\\Local\\Temp\\ipykernel_15900\\579685176.py:10: RuntimeWarning: divide by zero encountered in scalar divide\n",
      "  result = a/b # devidimos los valores\n"
     ]
    }
   ],
   "source": [
    "# iteramos sobre la columna revenue para extraer valores\n",
    "\n",
    "lista_return = []\n",
    "\n",
    "for i in range(len(df_movies['revenue'])):\n",
    "    \n",
    "    try:\n",
    "        a=df_movies.loc[i,'revenue'] # extraemos el valor numerico revenue de cada fila\n",
    "        b=df_movies.loc[i, 'budget'] # extraemos el valor numerico budget de cada fila\n",
    "        result = a/b # devidimos los valores\n",
    "        if result == float(result) and b != 0: # evitamos una division por cero\n",
    "            lista_return.append(result)\n",
    "        else:\n",
    "            lista_return.append(0.0) # Si la division es por eso cero \n",
    "    except:\n",
    "        lista_return.append(0.0)# Cualquier otro error matematico "
   ]
  },
  {
   "cell_type": "markdown",
   "metadata": {},
   "source": [
    "Creamos un dataset 'data_return' con la lista lista_return, con la columna llamada return"
   ]
  },
  {
   "cell_type": "code",
   "execution_count": 79,
   "metadata": {},
   "outputs": [],
   "source": [
    "df_return  = pd.DataFrame(lista_return, columns=['return'])"
   ]
  },
  {
   "cell_type": "markdown",
   "metadata": {},
   "source": [
    "(de henry) De haber fechas, deberán tener el formato AAAA-mm-dd, además deberán crear la columna release_year donde extraerán el año de la fecha de estreno."
   ]
  },
  {
   "cell_type": "code",
   "execution_count": 80,
   "metadata": {},
   "outputs": [],
   "source": [
    "from datetime import datetime as dt"
   ]
  },
  {
   "cell_type": "code",
   "execution_count": 81,
   "metadata": {},
   "outputs": [],
   "source": [
    "# La funcion convierte cada fila de la columna release_date que originalmente es una cadena en formato datetime\n",
    "\n",
    "list_year = []\n",
    "def convertir_fecha(fecha):  \n",
    "    try:\n",
    "        fecha_t = dt.strptime(fecha, '%Y-%m-%d') # convertimos la cadena en datetime en formato AAAA-mm-dd\n",
    "        list_year.append(fecha_t.year) # agregamos a la lista list_year\n",
    "        return fecha_t.date() # retornamos solo el la fecha\n",
    "    except:\n",
    "        list_year.append(np.nan) \n",
    "        return np.nan # en caso que el campo este vacio o no contenga el formato, returnamos NaN\n",
    "df_movies['release_date'] = df_movies['release_date'].apply(convertir_fecha) # aplicamos la funcion a cada fila de la columna release_date"
   ]
  },
  {
   "cell_type": "markdown",
   "metadata": {},
   "source": [
    "Creamos un dataset 'df_year' con la lista list_year, con la columna llamada release_year"
   ]
  },
  {
   "cell_type": "code",
   "execution_count": 82,
   "metadata": {},
   "outputs": [],
   "source": [
    "\n",
    "df_year = pd.DataFrame(list_year, columns=['release_year'])"
   ]
  },
  {
   "cell_type": "markdown",
   "metadata": {},
   "source": [
    "Concatenamos los datasets df_return y df_year con df_year"
   ]
  },
  {
   "cell_type": "code",
   "execution_count": 83,
   "metadata": {},
   "outputs": [
    {
     "data": {
      "text/html": [
       "<div>\n",
       "<style scoped>\n",
       "    .dataframe tbody tr th:only-of-type {\n",
       "        vertical-align: middle;\n",
       "    }\n",
       "\n",
       "    .dataframe tbody tr th {\n",
       "        vertical-align: top;\n",
       "    }\n",
       "\n",
       "    .dataframe thead th {\n",
       "        text-align: right;\n",
       "    }\n",
       "</style>\n",
       "<table border=\"1\" class=\"dataframe\">\n",
       "  <thead>\n",
       "    <tr style=\"text-align: right;\">\n",
       "      <th></th>\n",
       "      <th>belongs_to_collection</th>\n",
       "      <th>budget</th>\n",
       "      <th>genres</th>\n",
       "      <th>id</th>\n",
       "      <th>original_language</th>\n",
       "      <th>overview</th>\n",
       "      <th>popularity</th>\n",
       "      <th>release_date</th>\n",
       "      <th>revenue</th>\n",
       "      <th>status</th>\n",
       "      <th>title</th>\n",
       "      <th>vote_average</th>\n",
       "      <th>vote_count</th>\n",
       "      <th>return</th>\n",
       "      <th>release_year</th>\n",
       "    </tr>\n",
       "  </thead>\n",
       "  <tbody>\n",
       "    <tr>\n",
       "      <th>0</th>\n",
       "      <td>Toy Story Collection</td>\n",
       "      <td>30000000.0</td>\n",
       "      <td>Animation Comedy Family</td>\n",
       "      <td>862.0</td>\n",
       "      <td>en</td>\n",
       "      <td>Led by Woody, Andy's toys live happily in his ...</td>\n",
       "      <td>21.946943</td>\n",
       "      <td>1995-10-30</td>\n",
       "      <td>373554033.0</td>\n",
       "      <td>Released</td>\n",
       "      <td>Toy Story</td>\n",
       "      <td>7.7</td>\n",
       "      <td>5415.0</td>\n",
       "      <td>12.451801</td>\n",
       "      <td>1995.0</td>\n",
       "    </tr>\n",
       "    <tr>\n",
       "      <th>1</th>\n",
       "      <td>NaN</td>\n",
       "      <td>65000000.0</td>\n",
       "      <td>Adventure Fantasy Family</td>\n",
       "      <td>8844.0</td>\n",
       "      <td>en</td>\n",
       "      <td>When siblings Judy and Peter discover an encha...</td>\n",
       "      <td>17.015539</td>\n",
       "      <td>1995-12-15</td>\n",
       "      <td>262797249.0</td>\n",
       "      <td>Released</td>\n",
       "      <td>Jumanji</td>\n",
       "      <td>6.9</td>\n",
       "      <td>2413.0</td>\n",
       "      <td>4.043035</td>\n",
       "      <td>1995.0</td>\n",
       "    </tr>\n",
       "    <tr>\n",
       "      <th>2</th>\n",
       "      <td>Grumpy Old Men Collection</td>\n",
       "      <td>0.0</td>\n",
       "      <td>Romance Comedy</td>\n",
       "      <td>15602.0</td>\n",
       "      <td>en</td>\n",
       "      <td>A family wedding reignites the ancient feud be...</td>\n",
       "      <td>11.712900</td>\n",
       "      <td>1995-12-22</td>\n",
       "      <td>0.0</td>\n",
       "      <td>Released</td>\n",
       "      <td>Grumpier Old Men</td>\n",
       "      <td>6.5</td>\n",
       "      <td>92.0</td>\n",
       "      <td>0.000000</td>\n",
       "      <td>1995.0</td>\n",
       "    </tr>\n",
       "    <tr>\n",
       "      <th>3</th>\n",
       "      <td>NaN</td>\n",
       "      <td>16000000.0</td>\n",
       "      <td>Comedy Drama Romance</td>\n",
       "      <td>31357.0</td>\n",
       "      <td>en</td>\n",
       "      <td>Cheated on, mistreated and stepped on, the wom...</td>\n",
       "      <td>3.859495</td>\n",
       "      <td>1995-12-22</td>\n",
       "      <td>81452156.0</td>\n",
       "      <td>Released</td>\n",
       "      <td>Waiting to Exhale</td>\n",
       "      <td>6.1</td>\n",
       "      <td>34.0</td>\n",
       "      <td>5.090760</td>\n",
       "      <td>1995.0</td>\n",
       "    </tr>\n",
       "    <tr>\n",
       "      <th>4</th>\n",
       "      <td>Father of the Bride Collection</td>\n",
       "      <td>0.0</td>\n",
       "      <td>Comedy</td>\n",
       "      <td>11862.0</td>\n",
       "      <td>en</td>\n",
       "      <td>Just when George Banks has recovered from his ...</td>\n",
       "      <td>8.387519</td>\n",
       "      <td>1995-02-10</td>\n",
       "      <td>76578911.0</td>\n",
       "      <td>Released</td>\n",
       "      <td>Father of the Bride Part II</td>\n",
       "      <td>5.7</td>\n",
       "      <td>173.0</td>\n",
       "      <td>0.000000</td>\n",
       "      <td>1995.0</td>\n",
       "    </tr>\n",
       "  </tbody>\n",
       "</table>\n",
       "</div>"
      ],
      "text/plain": [
       "            belongs_to_collection      budget                    genres  \\\n",
       "0            Toy Story Collection  30000000.0   Animation Comedy Family   \n",
       "1                             NaN  65000000.0  Adventure Fantasy Family   \n",
       "2       Grumpy Old Men Collection         0.0            Romance Comedy   \n",
       "3                             NaN  16000000.0      Comedy Drama Romance   \n",
       "4  Father of the Bride Collection         0.0                    Comedy   \n",
       "\n",
       "        id original_language  \\\n",
       "0    862.0                en   \n",
       "1   8844.0                en   \n",
       "2  15602.0                en   \n",
       "3  31357.0                en   \n",
       "4  11862.0                en   \n",
       "\n",
       "                                            overview  popularity release_date  \\\n",
       "0  Led by Woody, Andy's toys live happily in his ...   21.946943   1995-10-30   \n",
       "1  When siblings Judy and Peter discover an encha...   17.015539   1995-12-15   \n",
       "2  A family wedding reignites the ancient feud be...   11.712900   1995-12-22   \n",
       "3  Cheated on, mistreated and stepped on, the wom...    3.859495   1995-12-22   \n",
       "4  Just when George Banks has recovered from his ...    8.387519   1995-02-10   \n",
       "\n",
       "       revenue    status                        title  vote_average  \\\n",
       "0  373554033.0  Released                    Toy Story           7.7   \n",
       "1  262797249.0  Released                      Jumanji           6.9   \n",
       "2          0.0  Released             Grumpier Old Men           6.5   \n",
       "3   81452156.0  Released            Waiting to Exhale           6.1   \n",
       "4   76578911.0  Released  Father of the Bride Part II           5.7   \n",
       "\n",
       "   vote_count     return  release_year  \n",
       "0      5415.0  12.451801        1995.0  \n",
       "1      2413.0   4.043035        1995.0  \n",
       "2        92.0   0.000000        1995.0  \n",
       "3        34.0   5.090760        1995.0  \n",
       "4       173.0   0.000000        1995.0  "
      ]
     },
     "execution_count": 83,
     "metadata": {},
     "output_type": "execute_result"
    }
   ],
   "source": [
    "df_movies = pd.concat([df_movies, df_return, df_year], axis=1)\n",
    "df_movies.head()"
   ]
  },
  {
   "cell_type": "code",
   "execution_count": 84,
   "metadata": {},
   "outputs": [
    {
     "data": {
      "text/plain": [
       "(45466, 15)"
      ]
     },
     "execution_count": 84,
     "metadata": {},
     "output_type": "execute_result"
    }
   ],
   "source": [
    "df_movies.shape # dimensiones del dataframe"
   ]
  },
  {
   "cell_type": "markdown",
   "metadata": {},
   "source": [
    "Eliminamos las columnas duplicadas en el dataset df_movies"
   ]
  },
  {
   "cell_type": "code",
   "execution_count": 85,
   "metadata": {},
   "outputs": [],
   "source": [
    "df_movies.drop_duplicates(inplace=True)"
   ]
  },
  {
   "cell_type": "markdown",
   "metadata": {},
   "source": [
    "(de henry) Los valores nulos del campo release_date deben eliminarse.\n",
    "\n",
    "Eliminaremos tambien los NaN de las columnas title, overview, genres. Los campos de todas estas columnas deben tener datos porque el algoritmo de recomendacion las necesitara para su funcionamiento, al mismo tiempo podremos reducir el dataset"
   ]
  },
  {
   "cell_type": "code",
   "execution_count": 86,
   "metadata": {},
   "outputs": [
    {
     "data": {
      "text/plain": [
       "belongs_to_collection    42281\n",
       "budget                       0\n",
       "genres                    2442\n",
       "id                           3\n",
       "original_language           11\n",
       "overview                   954\n",
       "popularity                   6\n",
       "release_date                90\n",
       "revenue                      0\n",
       "status                      87\n",
       "title                        6\n",
       "vote_average                 6\n",
       "vote_count                   6\n",
       "return                       0\n",
       "release_year                90\n",
       "dtype: int64"
      ]
     },
     "execution_count": 86,
     "metadata": {},
     "output_type": "execute_result"
    }
   ],
   "source": [
    "df_movies.isnull().sum()"
   ]
  },
  {
   "cell_type": "code",
   "execution_count": 87,
   "metadata": {},
   "outputs": [],
   "source": [
    "df_movies.dropna(\n",
    "    subset=['title', 'release_date', 'overview', 'genres'], \n",
    "    inplace=True\n",
    "    )"
   ]
  },
  {
   "cell_type": "markdown",
   "metadata": {},
   "source": [
    "Los datos faltantes de la columna belongs_to_collection seran reemplazados por el valor 'only' para indicar cuando una pelicula no tiene coleccion o es pelicula unica\n",
    "\n",
    "La columna release_year sera convertido de float a int"
   ]
  },
  {
   "cell_type": "code",
   "execution_count": 88,
   "metadata": {},
   "outputs": [],
   "source": [
    "df_movies['belongs_to_collection'].fillna('standar', inplace=True)\n",
    "df_movies['release_year']=df_movies['release_year'].astype(int)"
   ]
  },
  {
   "cell_type": "markdown",
   "metadata": {},
   "source": [
    "Solo nos quedaremos con las peliculas que su estado (status) sean 'Released' o estrenadas, posteriorme eliminares la misma columna (status) porque ya no nos sera util al tener todo de la misma categoria.\n",
    "\n",
    "Solo nos quedaremos con las peliculas con el lenguaje original en Ingles y Español, como parte de el recorte del dataset."
   ]
  },
  {
   "cell_type": "code",
   "execution_count": 89,
   "metadata": {},
   "outputs": [
    {
     "data": {
      "text/plain": [
       "array(['Released', nan, 'Rumored', 'Post Production', 'In Production',\n",
       "       'Planned'], dtype=object)"
      ]
     },
     "execution_count": 89,
     "metadata": {},
     "output_type": "execute_result"
    }
   ],
   "source": [
    "df_movies.status.unique()"
   ]
  },
  {
   "cell_type": "code",
   "execution_count": 90,
   "metadata": {},
   "outputs": [],
   "source": [
    "df_movies=df_movies[df_movies.status == 'Released'] # nos quedamos solo con las peliculas estrenadas\n",
    "df_movies=df_movies.query(\"original_language == 'en' or original_language == 'es'\") # solo nos quedaremos con las peliculas en español e ingles\n",
    "df_movies=df_movies.drop('status', axis=1) # eliminamos la columna status"
   ]
  },
  {
   "cell_type": "code",
   "execution_count": 91,
   "metadata": {},
   "outputs": [
    {
     "data": {
      "text/plain": [
       "belongs_to_collection    0\n",
       "budget                   0\n",
       "genres                   0\n",
       "id                       0\n",
       "original_language        0\n",
       "overview                 0\n",
       "popularity               0\n",
       "release_date             0\n",
       "revenue                  0\n",
       "title                    0\n",
       "vote_average             0\n",
       "vote_count               0\n",
       "return                   0\n",
       "release_year             0\n",
       "dtype: int64"
      ]
     },
     "execution_count": 91,
     "metadata": {},
     "output_type": "execute_result"
    }
   ],
   "source": [
    "df_movies.isnull().sum()"
   ]
  },
  {
   "cell_type": "markdown",
   "metadata": {},
   "source": [
    "### VISUALIZACION DE DATOS"
   ]
  },
  {
   "cell_type": "markdown",
   "metadata": {},
   "source": [
    "Visualizamos los datos del dataset con la ayuda de una grafica de seaborn"
   ]
  },
  {
   "cell_type": "code",
   "execution_count": 92,
   "metadata": {},
   "outputs": [
    {
     "data": {
      "image/png": "[encoded data removed]",
      "text/plain": [
       "<Figure size 750x500 with 1 Axes>"
      ]
     },
     "metadata": {},
     "output_type": "display_data"
    }
   ],
   "source": [
    "import matplotlib.pyplot as plt\n",
    "import seaborn as sns\n",
    "\n",
    "sns.catplot(df_movies, height=5, aspect=1.5)\n",
    "plt.ylabel('Cantidad')\n",
    "plt.show()"
   ]
  },
  {
   "cell_type": "markdown",
   "metadata": {},
   "source": [
    "Se puede observar que los datos se distribuyen de manera congruente, sin mostrar a la vista valores atipicos a excepcion de la columna revenue, donde existen algunos valores que salen del valor promedio, sin embargo estos valores no parecen ser muy exagerados y se podrian considerar casos reales\n"
   ]
  },
  {
   "cell_type": "markdown",
   "metadata": {},
   "source": [
    "### TOMAMOS UNA MUESTRA DEL DATASET"
   ]
  },
  {
   "cell_type": "markdown",
   "metadata": {},
   "source": [
    "Por razones de rendimiento, tomaremos una muestra de 5000 filas que hayan sido previamente ordenadas de mayor a menor por la cantidad de votos, asegurandonos de esta manera que la muestra sea con las peliculas mas votadas y populares"
   ]
  },
  {
   "cell_type": "code",
   "execution_count": 93,
   "metadata": {},
   "outputs": [
    {
     "data": {
      "text/html": [
       "<div>\n",
       "<style scoped>\n",
       "    .dataframe tbody tr th:only-of-type {\n",
       "        vertical-align: middle;\n",
       "    }\n",
       "\n",
       "    .dataframe tbody tr th {\n",
       "        vertical-align: top;\n",
       "    }\n",
       "\n",
       "    .dataframe thead th {\n",
       "        text-align: right;\n",
       "    }\n",
       "</style>\n",
       "<table border=\"1\" class=\"dataframe\">\n",
       "  <thead>\n",
       "    <tr style=\"text-align: right;\">\n",
       "      <th></th>\n",
       "      <th>belongs_to_collection</th>\n",
       "      <th>budget</th>\n",
       "      <th>genres</th>\n",
       "      <th>id</th>\n",
       "      <th>original_language</th>\n",
       "      <th>overview</th>\n",
       "      <th>popularity</th>\n",
       "      <th>release_date</th>\n",
       "      <th>revenue</th>\n",
       "      <th>title</th>\n",
       "      <th>vote_average</th>\n",
       "      <th>vote_count</th>\n",
       "      <th>return</th>\n",
       "      <th>release_year</th>\n",
       "    </tr>\n",
       "  </thead>\n",
       "  <tbody>\n",
       "    <tr>\n",
       "      <th>11329</th>\n",
       "      <td>The Grudge Collection</td>\n",
       "      <td>20000000.0</td>\n",
       "      <td>Horror Thriller</td>\n",
       "      <td>1975.0</td>\n",
       "      <td>en</td>\n",
       "      <td>In Tokyo, a young woman is exposed to the same...</td>\n",
       "      <td>6.768804</td>\n",
       "      <td>2006-10-13</td>\n",
       "      <td>39143839.0</td>\n",
       "      <td>The Grudge 2</td>\n",
       "      <td>5.3</td>\n",
       "      <td>288.0</td>\n",
       "      <td>1.957192</td>\n",
       "      <td>2006</td>\n",
       "    </tr>\n",
       "    <tr>\n",
       "      <th>1258</th>\n",
       "      <td>standar</td>\n",
       "      <td>6000000.0</td>\n",
       "      <td>History Drama Western Crime</td>\n",
       "      <td>642.0</td>\n",
       "      <td>en</td>\n",
       "      <td>In late 1890s Wyoming, Butch Cassidy is the af...</td>\n",
       "      <td>6.714577</td>\n",
       "      <td>1969-09-23</td>\n",
       "      <td>102308889.0</td>\n",
       "      <td>Butch Cassidy and the Sundance Kid</td>\n",
       "      <td>7.4</td>\n",
       "      <td>659.0</td>\n",
       "      <td>17.051482</td>\n",
       "      <td>1969</td>\n",
       "    </tr>\n",
       "    <tr>\n",
       "      <th>75</th>\n",
       "      <td>standar</td>\n",
       "      <td>20000000.0</td>\n",
       "      <td>Horror Science Fiction</td>\n",
       "      <td>9102.0</td>\n",
       "      <td>en</td>\n",
       "      <td>(SIRIUS 6B, Year 2078) On a distant mining pla...</td>\n",
       "      <td>12.758848</td>\n",
       "      <td>1995-09-08</td>\n",
       "      <td>5781885.0</td>\n",
       "      <td>Screamers</td>\n",
       "      <td>6.1</td>\n",
       "      <td>154.0</td>\n",
       "      <td>0.289094</td>\n",
       "      <td>1995</td>\n",
       "    </tr>\n",
       "    <tr>\n",
       "      <th>15973</th>\n",
       "      <td>Korengal Valley Documentaries</td>\n",
       "      <td>0.0</td>\n",
       "      <td>Documentary War</td>\n",
       "      <td>39312.0</td>\n",
       "      <td>en</td>\n",
       "      <td>Winner of the 2010 Sundance Film Festival Gran...</td>\n",
       "      <td>4.577881</td>\n",
       "      <td>2010-06-25</td>\n",
       "      <td>1422910.0</td>\n",
       "      <td>Restrepo</td>\n",
       "      <td>7.3</td>\n",
       "      <td>117.0</td>\n",
       "      <td>0.000000</td>\n",
       "      <td>2010</td>\n",
       "    </tr>\n",
       "    <tr>\n",
       "      <th>19259</th>\n",
       "      <td>The Little Mermaid Collection</td>\n",
       "      <td>0.0</td>\n",
       "      <td>Family Animation</td>\n",
       "      <td>13676.0</td>\n",
       "      <td>en</td>\n",
       "      <td>Follow Ariel's adventures before she gave up h...</td>\n",
       "      <td>0.415606</td>\n",
       "      <td>2008-08-26</td>\n",
       "      <td>0.0</td>\n",
       "      <td>The Little Mermaid: Ariel's Beginning</td>\n",
       "      <td>6.3</td>\n",
       "      <td>187.0</td>\n",
       "      <td>0.000000</td>\n",
       "      <td>2008</td>\n",
       "    </tr>\n",
       "  </tbody>\n",
       "</table>\n",
       "</div>"
      ],
      "text/plain": [
       "               belongs_to_collection      budget                       genres  \\\n",
       "11329          The Grudge Collection  20000000.0              Horror Thriller   \n",
       "1258                         standar   6000000.0  History Drama Western Crime   \n",
       "75                           standar  20000000.0       Horror Science Fiction   \n",
       "15973  Korengal Valley Documentaries         0.0              Documentary War   \n",
       "19259  The Little Mermaid Collection         0.0             Family Animation   \n",
       "\n",
       "            id original_language  \\\n",
       "11329   1975.0                en   \n",
       "1258     642.0                en   \n",
       "75      9102.0                en   \n",
       "15973  39312.0                en   \n",
       "19259  13676.0                en   \n",
       "\n",
       "                                                overview  popularity  \\\n",
       "11329  In Tokyo, a young woman is exposed to the same...    6.768804   \n",
       "1258   In late 1890s Wyoming, Butch Cassidy is the af...    6.714577   \n",
       "75     (SIRIUS 6B, Year 2078) On a distant mining pla...   12.758848   \n",
       "15973  Winner of the 2010 Sundance Film Festival Gran...    4.577881   \n",
       "19259  Follow Ariel's adventures before she gave up h...    0.415606   \n",
       "\n",
       "      release_date      revenue                                  title  \\\n",
       "11329   2006-10-13   39143839.0                           The Grudge 2   \n",
       "1258    1969-09-23  102308889.0     Butch Cassidy and the Sundance Kid   \n",
       "75      1995-09-08    5781885.0                              Screamers   \n",
       "15973   2010-06-25    1422910.0                               Restrepo   \n",
       "19259   2008-08-26          0.0  The Little Mermaid: Ariel's Beginning   \n",
       "\n",
       "       vote_average  vote_count     return  release_year  \n",
       "11329           5.3       288.0   1.957192          2006  \n",
       "1258            7.4       659.0  17.051482          1969  \n",
       "75              6.1       154.0   0.289094          1995  \n",
       "15973           7.3       117.0   0.000000          2010  \n",
       "19259           6.3       187.0   0.000000          2008  "
      ]
     },
     "execution_count": 93,
     "metadata": {},
     "output_type": "execute_result"
    }
   ],
   "source": [
    "df_movies=df_movies.sort_values(\n",
    "                        by='vote_count', \n",
    "                        ascending=False\n",
    "                        ) # ordenamos por la columna vote_count de forma descendente\n",
    "\n",
    "df_movies=df_movies.iloc[:5000,:] #tomaremos una muestra de 5000 filas\n",
    "\n",
    "df_movies=df_movies.sample(frac=1) #revolvemos el dataset\n",
    "\n",
    "df_movies.head()"
   ]
  },
  {
   "cell_type": "markdown",
   "metadata": {},
   "source": [
    "### TRATAMIENDO DEL SEGUNDO DATASET 'CREDITS'"
   ]
  },
  {
   "cell_type": "code",
   "execution_count": null,
   "metadata": {},
   "outputs": [
    {
     "data": {
      "text/html": [
       "<div>\n",
       "<style scoped>\n",
       "    .dataframe tbody tr th:only-of-type {\n",
       "        vertical-align: middle;\n",
       "    }\n",
       "\n",
       "    .dataframe tbody tr th {\n",
       "        vertical-align: top;\n",
       "    }\n",
       "\n",
       "    .dataframe thead th {\n",
       "        text-align: right;\n",
       "    }\n",
       "</style>\n",
       "<table border=\"1\" class=\"dataframe\">\n",
       "  <thead>\n",
       "    <tr style=\"text-align: right;\">\n",
       "      <th></th>\n",
       "      <th>cast</th>\n",
       "      <th>crew</th>\n",
       "      <th>id</th>\n",
       "    </tr>\n",
       "  </thead>\n",
       "  <tbody>\n",
       "    <tr>\n",
       "      <th>0</th>\n",
       "      <td>[{'cast_id': 14, 'character': 'Woody (voice)',...</td>\n",
       "      <td>[{'credit_id': '52fe4284c3a36847f8024f49', 'de...</td>\n",
       "      <td>862</td>\n",
       "    </tr>\n",
       "    <tr>\n",
       "      <th>1</th>\n",
       "      <td>[{'cast_id': 1, 'character': 'Alan Parrish', '...</td>\n",
       "      <td>[{'credit_id': '52fe44bfc3a36847f80a7cd1', 'de...</td>\n",
       "      <td>8844</td>\n",
       "    </tr>\n",
       "    <tr>\n",
       "      <th>2</th>\n",
       "      <td>[{'cast_id': 2, 'character': 'Max Goldman', 'c...</td>\n",
       "      <td>[{'credit_id': '52fe466a9251416c75077a89', 'de...</td>\n",
       "      <td>15602</td>\n",
       "    </tr>\n",
       "    <tr>\n",
       "      <th>3</th>\n",
       "      <td>[{'cast_id': 1, 'character': \"Savannah 'Vannah...</td>\n",
       "      <td>[{'credit_id': '52fe44779251416c91011acb', 'de...</td>\n",
       "      <td>31357</td>\n",
       "    </tr>\n",
       "    <tr>\n",
       "      <th>4</th>\n",
       "      <td>[{'cast_id': 1, 'character': 'George Banks', '...</td>\n",
       "      <td>[{'credit_id': '52fe44959251416c75039ed7', 'de...</td>\n",
       "      <td>11862</td>\n",
       "    </tr>\n",
       "  </tbody>\n",
       "</table>\n",
       "</div>"
      ],
      "text/plain": [
       "                                                cast  \\\n",
       "0  [{'cast_id': 14, 'character': 'Woody (voice)',...   \n",
       "1  [{'cast_id': 1, 'character': 'Alan Parrish', '...   \n",
       "2  [{'cast_id': 2, 'character': 'Max Goldman', 'c...   \n",
       "3  [{'cast_id': 1, 'character': \"Savannah 'Vannah...   \n",
       "4  [{'cast_id': 1, 'character': 'George Banks', '...   \n",
       "\n",
       "                                                crew     id  \n",
       "0  [{'credit_id': '52fe4284c3a36847f8024f49', 'de...    862  \n",
       "1  [{'credit_id': '52fe44bfc3a36847f80a7cd1', 'de...   8844  \n",
       "2  [{'credit_id': '52fe466a9251416c75077a89', 'de...  15602  \n",
       "3  [{'credit_id': '52fe44779251416c91011acb', 'de...  31357  \n",
       "4  [{'credit_id': '52fe44959251416c75039ed7', 'de...  11862  "
      ]
     },
     "execution_count": 98,
     "metadata": {},
     "output_type": "execute_result"
    }
   ],
   "source": [
    "# Leemos el dataset credits\n",
    "\n",
    "df_credits = pd.read_csv('credits.csv', sep = ',')\n",
    "df_credits.head()"
   ]
  },
  {
   "cell_type": "code",
   "execution_count": 99,
   "metadata": {},
   "outputs": [
    {
     "data": {
      "text/plain": [
       "(45476, 3)"
      ]
     },
     "execution_count": 99,
     "metadata": {},
     "output_type": "execute_result"
    }
   ],
   "source": [
    "df_credits.shape # dimensiones del dataset"
   ]
  },
  {
   "cell_type": "code",
   "execution_count": 100,
   "metadata": {},
   "outputs": [
    {
     "data": {
      "text/plain": [
       "cast    0\n",
       "crew    0\n",
       "id      0\n",
       "dtype: int64"
      ]
     },
     "execution_count": 100,
     "metadata": {},
     "output_type": "execute_result"
    }
   ],
   "source": [
    "df_credits.isnull().sum() #vemos si hay valores nulos en el dataset"
   ]
  },
  {
   "cell_type": "markdown",
   "metadata": {},
   "source": [
    "Comensamos a desanidar datos importantes de las columnas cast y crew\n",
    "\n",
    "Extraeremos solo los nombre de los actores de la columna cast, las guardamos en una lista (list_actors), y todo este conjunto de listas obtenido en las iteraciones sera guardado a su vez en otra lista (list_of_list_actors) y posteriormete le aplicaremos un join a los elementos de la lista list_of_list_actors para obtener una lista donde sus elementos sean separados por comas de tal manera que cuando creemos un dataset solo exista una columna y no varias como si sucede cuando tenemos una lista de listas. Lo mismo se hara con la columna crew.\n"
   ]
  },
  {
   "cell_type": "code",
   "execution_count": 101,
   "metadata": {},
   "outputs": [
    {
     "name": "stdout",
     "output_type": "stream",
     "text": [
      "['Tom Hanks, Tim Allen, Don Rickles, Jim Varney, Wallace Shawn, John Ratzenberger, Annie Potts, John Morris, Erik von Detten, Laurie Metcalf, R. Lee Ermey, Sarah Freeman, Penn Jillette', 'Robin Williams, Jonathan Hyde, Kirsten Dunst, Bradley Pierce, Bonnie Hunt, Bebe Neuwirth, David Alan Grier, Patricia Clarkson, Adam Hann-Byrd, Laura Bell Bundy, James Handy, Gillian Barber, Brandon Obray, Cyrus Thiedeke, Gary Joseph Thorup, Leonard Zola, Lloyd Berry, Malcolm Stewart, Annabel Kershaw, Darryl Henriques, Robyn Driscoll, Peter Bryant, Sarah Gilson, Florica Vlad, June Lion, Brenda Lockmuller', 'Walter Matthau, Jack Lemmon, Ann-Margret, Sophia Loren, Daryl Hannah, Burgess Meredith, Kevin Pollak', 'Whitney Houston, Angela Bassett, Loretta Devine, Lela Rochon, Gregory Hines, Dennis Haysbert, Michael Beach, Mykelti Williamson, Lamont Johnson, Wesley Snipes', 'Steve Martin, Diane Keaton, Martin Short, Kimberly Williams-Paisley, George Newbern, Kieran Culkin, BD Wong, Peter Michael Goetz, Kate McGregor-Stewart, Jane Adams, Eugene Levy, Lori Alan']\n",
      "45476\n"
     ]
    }
   ],
   "source": [
    "import ast\n",
    "\n",
    "list_of_list_actors=[]\n",
    "\n",
    "for element in df_credits.cast: # iteramos la columna cast\n",
    "    list_actors=[]\n",
    "\n",
    "    dict_cast = ast.literal_eval(element) # convertimos la fila (str con presencia de \\)a su forma literal\n",
    "    for key in dict_cast: \n",
    "        list_actors.append(key['name']) #guardamos el nombre del actor en la lista list_actors\n",
    "    \n",
    "    list_of_list_actors.append(list_actors) # guardamos la lista de actores obtenida en cada iteracion \n",
    "\n",
    "\n",
    "list_actors = [\", \".join(map(str, sublista)) for sublista in list_of_list_actors] # unimos cada sublista de la lista por ','\n",
    "print(list_actors[:5])\n",
    "print(len(list_actors))"
   ]
  },
  {
   "cell_type": "code",
   "execution_count": 102,
   "metadata": {},
   "outputs": [
    {
     "data": {
      "text/html": [
       "<div>\n",
       "<style scoped>\n",
       "    .dataframe tbody tr th:only-of-type {\n",
       "        vertical-align: middle;\n",
       "    }\n",
       "\n",
       "    .dataframe tbody tr th {\n",
       "        vertical-align: top;\n",
       "    }\n",
       "\n",
       "    .dataframe thead th {\n",
       "        text-align: right;\n",
       "    }\n",
       "</style>\n",
       "<table border=\"1\" class=\"dataframe\">\n",
       "  <thead>\n",
       "    <tr style=\"text-align: right;\">\n",
       "      <th></th>\n",
       "      <th>Actors</th>\n",
       "    </tr>\n",
       "  </thead>\n",
       "  <tbody>\n",
       "    <tr>\n",
       "      <th>0</th>\n",
       "      <td>Tom Hanks, Tim Allen, Don Rickles, Jim Varney,...</td>\n",
       "    </tr>\n",
       "    <tr>\n",
       "      <th>1</th>\n",
       "      <td>Robin Williams, Jonathan Hyde, Kirsten Dunst, ...</td>\n",
       "    </tr>\n",
       "    <tr>\n",
       "      <th>2</th>\n",
       "      <td>Walter Matthau, Jack Lemmon, Ann-Margret, Soph...</td>\n",
       "    </tr>\n",
       "    <tr>\n",
       "      <th>3</th>\n",
       "      <td>Whitney Houston, Angela Bassett, Loretta Devin...</td>\n",
       "    </tr>\n",
       "    <tr>\n",
       "      <th>4</th>\n",
       "      <td>Steve Martin, Diane Keaton, Martin Short, Kimb...</td>\n",
       "    </tr>\n",
       "  </tbody>\n",
       "</table>\n",
       "</div>"
      ],
      "text/plain": [
       "                                              Actors\n",
       "0  Tom Hanks, Tim Allen, Don Rickles, Jim Varney,...\n",
       "1  Robin Williams, Jonathan Hyde, Kirsten Dunst, ...\n",
       "2  Walter Matthau, Jack Lemmon, Ann-Margret, Soph...\n",
       "3  Whitney Houston, Angela Bassett, Loretta Devin...\n",
       "4  Steve Martin, Diane Keaton, Martin Short, Kimb..."
      ]
     },
     "execution_count": 102,
     "metadata": {},
     "output_type": "execute_result"
    }
   ],
   "source": [
    "#Creamos el dataset df_actors con la lista list_actors\n",
    "\n",
    "df_actors = pd.DataFrame(list_actors, columns=['Actors'])\n",
    "df_actors.head()"
   ]
  },
  {
   "cell_type": "code",
   "execution_count": 103,
   "metadata": {},
   "outputs": [
    {
     "name": "stdout",
     "output_type": "stream",
     "text": [
      "['John Lasseter', 'Joe Johnston', 'Howard Deutch', 'Forest Whitaker', 'Charles Shyer']\n",
      "45476\n"
     ]
    }
   ],
   "source": [
    "# Extraeremos solo los nombre de los directores de la columna crew, las guardamos en una lista y posteriormete crearemos un dataset con esa lista\n",
    "\n",
    "list_of_list_directors=[]\n",
    "\n",
    "\n",
    "for element in df_credits.crew: # iteramos la columna crew\n",
    "    \n",
    "    dict_crew = ast.literal_eval(element)# convertimos la fila (str con presencia de \\)a su forma literal\n",
    "    list_directors=[]\n",
    "    \n",
    "    for key in dict_crew:\n",
    "        if key['job']=='Director':\n",
    "            list_directors.append(key['name']) # guardamos el nombre del actor en la lista list_actors\n",
    "        \n",
    "\n",
    "    list_of_list_directors.append(list_directors)# guardamos la lista de actores obtenida en cada iteracion \n",
    "    \n",
    "list_directors = [\", \".join(map(str, sublista)) for sublista in list_of_list_directors] # unimos cada sublista de la lista por ','\n",
    "print(list_directors[:5])\n",
    "print(len(list_directors))"
   ]
  },
  {
   "cell_type": "code",
   "execution_count": 104,
   "metadata": {},
   "outputs": [
    {
     "data": {
      "text/html": [
       "<div>\n",
       "<style scoped>\n",
       "    .dataframe tbody tr th:only-of-type {\n",
       "        vertical-align: middle;\n",
       "    }\n",
       "\n",
       "    .dataframe tbody tr th {\n",
       "        vertical-align: top;\n",
       "    }\n",
       "\n",
       "    .dataframe thead th {\n",
       "        text-align: right;\n",
       "    }\n",
       "</style>\n",
       "<table border=\"1\" class=\"dataframe\">\n",
       "  <thead>\n",
       "    <tr style=\"text-align: right;\">\n",
       "      <th></th>\n",
       "      <th>Directores</th>\n",
       "    </tr>\n",
       "  </thead>\n",
       "  <tbody>\n",
       "    <tr>\n",
       "      <th>0</th>\n",
       "      <td>John Lasseter</td>\n",
       "    </tr>\n",
       "    <tr>\n",
       "      <th>1</th>\n",
       "      <td>Joe Johnston</td>\n",
       "    </tr>\n",
       "    <tr>\n",
       "      <th>2</th>\n",
       "      <td>Howard Deutch</td>\n",
       "    </tr>\n",
       "    <tr>\n",
       "      <th>3</th>\n",
       "      <td>Forest Whitaker</td>\n",
       "    </tr>\n",
       "    <tr>\n",
       "      <th>4</th>\n",
       "      <td>Charles Shyer</td>\n",
       "    </tr>\n",
       "  </tbody>\n",
       "</table>\n",
       "</div>"
      ],
      "text/plain": [
       "        Directores\n",
       "0    John Lasseter\n",
       "1     Joe Johnston\n",
       "2    Howard Deutch\n",
       "3  Forest Whitaker\n",
       "4    Charles Shyer"
      ]
     },
     "execution_count": 104,
     "metadata": {},
     "output_type": "execute_result"
    }
   ],
   "source": [
    "#Creamos el dataset df_directors con la lista list_directors\n",
    "\n",
    "df_directors = pd.DataFrame(list_directors, columns=['Directores'])\n",
    "df_directors.head()"
   ]
  },
  {
   "cell_type": "markdown",
   "metadata": {},
   "source": [
    "Concatenamos los dataframe: df_credits, df_actors y df_directors"
   ]
  },
  {
   "cell_type": "code",
   "execution_count": 105,
   "metadata": {},
   "outputs": [
    {
     "data": {
      "text/html": [
       "<div>\n",
       "<style scoped>\n",
       "    .dataframe tbody tr th:only-of-type {\n",
       "        vertical-align: middle;\n",
       "    }\n",
       "\n",
       "    .dataframe tbody tr th {\n",
       "        vertical-align: top;\n",
       "    }\n",
       "\n",
       "    .dataframe thead th {\n",
       "        text-align: right;\n",
       "    }\n",
       "</style>\n",
       "<table border=\"1\" class=\"dataframe\">\n",
       "  <thead>\n",
       "    <tr style=\"text-align: right;\">\n",
       "      <th></th>\n",
       "      <th>cast</th>\n",
       "      <th>crew</th>\n",
       "      <th>id</th>\n",
       "      <th>Actors</th>\n",
       "      <th>Directores</th>\n",
       "    </tr>\n",
       "  </thead>\n",
       "  <tbody>\n",
       "    <tr>\n",
       "      <th>0</th>\n",
       "      <td>[{'cast_id': 14, 'character': 'Woody (voice)',...</td>\n",
       "      <td>[{'credit_id': '52fe4284c3a36847f8024f49', 'de...</td>\n",
       "      <td>862</td>\n",
       "      <td>Tom Hanks, Tim Allen, Don Rickles, Jim Varney,...</td>\n",
       "      <td>John Lasseter</td>\n",
       "    </tr>\n",
       "    <tr>\n",
       "      <th>1</th>\n",
       "      <td>[{'cast_id': 1, 'character': 'Alan Parrish', '...</td>\n",
       "      <td>[{'credit_id': '52fe44bfc3a36847f80a7cd1', 'de...</td>\n",
       "      <td>8844</td>\n",
       "      <td>Robin Williams, Jonathan Hyde, Kirsten Dunst, ...</td>\n",
       "      <td>Joe Johnston</td>\n",
       "    </tr>\n",
       "    <tr>\n",
       "      <th>2</th>\n",
       "      <td>[{'cast_id': 2, 'character': 'Max Goldman', 'c...</td>\n",
       "      <td>[{'credit_id': '52fe466a9251416c75077a89', 'de...</td>\n",
       "      <td>15602</td>\n",
       "      <td>Walter Matthau, Jack Lemmon, Ann-Margret, Soph...</td>\n",
       "      <td>Howard Deutch</td>\n",
       "    </tr>\n",
       "    <tr>\n",
       "      <th>3</th>\n",
       "      <td>[{'cast_id': 1, 'character': \"Savannah 'Vannah...</td>\n",
       "      <td>[{'credit_id': '52fe44779251416c91011acb', 'de...</td>\n",
       "      <td>31357</td>\n",
       "      <td>Whitney Houston, Angela Bassett, Loretta Devin...</td>\n",
       "      <td>Forest Whitaker</td>\n",
       "    </tr>\n",
       "    <tr>\n",
       "      <th>4</th>\n",
       "      <td>[{'cast_id': 1, 'character': 'George Banks', '...</td>\n",
       "      <td>[{'credit_id': '52fe44959251416c75039ed7', 'de...</td>\n",
       "      <td>11862</td>\n",
       "      <td>Steve Martin, Diane Keaton, Martin Short, Kimb...</td>\n",
       "      <td>Charles Shyer</td>\n",
       "    </tr>\n",
       "  </tbody>\n",
       "</table>\n",
       "</div>"
      ],
      "text/plain": [
       "                                                cast  \\\n",
       "0  [{'cast_id': 14, 'character': 'Woody (voice)',...   \n",
       "1  [{'cast_id': 1, 'character': 'Alan Parrish', '...   \n",
       "2  [{'cast_id': 2, 'character': 'Max Goldman', 'c...   \n",
       "3  [{'cast_id': 1, 'character': \"Savannah 'Vannah...   \n",
       "4  [{'cast_id': 1, 'character': 'George Banks', '...   \n",
       "\n",
       "                                                crew     id  \\\n",
       "0  [{'credit_id': '52fe4284c3a36847f8024f49', 'de...    862   \n",
       "1  [{'credit_id': '52fe44bfc3a36847f80a7cd1', 'de...   8844   \n",
       "2  [{'credit_id': '52fe466a9251416c75077a89', 'de...  15602   \n",
       "3  [{'credit_id': '52fe44779251416c91011acb', 'de...  31357   \n",
       "4  [{'credit_id': '52fe44959251416c75039ed7', 'de...  11862   \n",
       "\n",
       "                                              Actors       Directores  \n",
       "0  Tom Hanks, Tim Allen, Don Rickles, Jim Varney,...    John Lasseter  \n",
       "1  Robin Williams, Jonathan Hyde, Kirsten Dunst, ...     Joe Johnston  \n",
       "2  Walter Matthau, Jack Lemmon, Ann-Margret, Soph...    Howard Deutch  \n",
       "3  Whitney Houston, Angela Bassett, Loretta Devin...  Forest Whitaker  \n",
       "4  Steve Martin, Diane Keaton, Martin Short, Kimb...    Charles Shyer  "
      ]
     },
     "execution_count": 105,
     "metadata": {},
     "output_type": "execute_result"
    }
   ],
   "source": [
    "df_credits = pd.concat([df_credits, df_actors, df_directors], axis=1)\n",
    "df_credits.head()"
   ]
  },
  {
   "cell_type": "markdown",
   "metadata": {},
   "source": [
    "Eliminamos las columnas sobrantes de cast y crew"
   ]
  },
  {
   "cell_type": "code",
   "execution_count": 106,
   "metadata": {},
   "outputs": [
    {
     "data": {
      "text/html": [
       "<div>\n",
       "<style scoped>\n",
       "    .dataframe tbody tr th:only-of-type {\n",
       "        vertical-align: middle;\n",
       "    }\n",
       "\n",
       "    .dataframe tbody tr th {\n",
       "        vertical-align: top;\n",
       "    }\n",
       "\n",
       "    .dataframe thead th {\n",
       "        text-align: right;\n",
       "    }\n",
       "</style>\n",
       "<table border=\"1\" class=\"dataframe\">\n",
       "  <thead>\n",
       "    <tr style=\"text-align: right;\">\n",
       "      <th></th>\n",
       "      <th>id</th>\n",
       "      <th>Actors</th>\n",
       "      <th>Directores</th>\n",
       "    </tr>\n",
       "  </thead>\n",
       "  <tbody>\n",
       "    <tr>\n",
       "      <th>0</th>\n",
       "      <td>862</td>\n",
       "      <td>Tom Hanks, Tim Allen, Don Rickles, Jim Varney,...</td>\n",
       "      <td>John Lasseter</td>\n",
       "    </tr>\n",
       "    <tr>\n",
       "      <th>1</th>\n",
       "      <td>8844</td>\n",
       "      <td>Robin Williams, Jonathan Hyde, Kirsten Dunst, ...</td>\n",
       "      <td>Joe Johnston</td>\n",
       "    </tr>\n",
       "    <tr>\n",
       "      <th>2</th>\n",
       "      <td>15602</td>\n",
       "      <td>Walter Matthau, Jack Lemmon, Ann-Margret, Soph...</td>\n",
       "      <td>Howard Deutch</td>\n",
       "    </tr>\n",
       "    <tr>\n",
       "      <th>3</th>\n",
       "      <td>31357</td>\n",
       "      <td>Whitney Houston, Angela Bassett, Loretta Devin...</td>\n",
       "      <td>Forest Whitaker</td>\n",
       "    </tr>\n",
       "    <tr>\n",
       "      <th>4</th>\n",
       "      <td>11862</td>\n",
       "      <td>Steve Martin, Diane Keaton, Martin Short, Kimb...</td>\n",
       "      <td>Charles Shyer</td>\n",
       "    </tr>\n",
       "  </tbody>\n",
       "</table>\n",
       "</div>"
      ],
      "text/plain": [
       "      id                                             Actors       Directores\n",
       "0    862  Tom Hanks, Tim Allen, Don Rickles, Jim Varney,...    John Lasseter\n",
       "1   8844  Robin Williams, Jonathan Hyde, Kirsten Dunst, ...     Joe Johnston\n",
       "2  15602  Walter Matthau, Jack Lemmon, Ann-Margret, Soph...    Howard Deutch\n",
       "3  31357  Whitney Houston, Angela Bassett, Loretta Devin...  Forest Whitaker\n",
       "4  11862  Steve Martin, Diane Keaton, Martin Short, Kimb...    Charles Shyer"
      ]
     },
     "execution_count": 106,
     "metadata": {},
     "output_type": "execute_result"
    }
   ],
   "source": [
    "df_credits.drop(labels=['cast', 'crew'], axis=1, inplace=True)\n",
    "df_credits.head()"
   ]
  },
  {
   "cell_type": "markdown",
   "metadata": {},
   "source": [
    "Eliminamos los valores duplicados que pudiera existir en el dataset df_credits"
   ]
  },
  {
   "cell_type": "code",
   "execution_count": 107,
   "metadata": {},
   "outputs": [],
   "source": [
    "df_credits.drop_duplicates(inplace=True)"
   ]
  },
  {
   "cell_type": "code",
   "execution_count": 108,
   "metadata": {},
   "outputs": [
    {
     "data": {
      "text/plain": [
       "(5000, 14)"
      ]
     },
     "execution_count": 108,
     "metadata": {},
     "output_type": "execute_result"
    }
   ],
   "source": [
    "df_movies.shape #dimensiones del dataset"
   ]
  },
  {
   "cell_type": "markdown",
   "metadata": {},
   "source": [
    "hacemos un merge o union entre los dataset resultantes de df_movies y df_credits usando la columna en comun para ambos de 'id' y tomaremos solo los valores de id que pertenezcan a ambos y al dataset resultante mantendra el nombre de df_movies"
   ]
  },
  {
   "cell_type": "code",
   "execution_count": 109,
   "metadata": {},
   "outputs": [
    {
     "data": {
      "text/html": [
       "<div>\n",
       "<style scoped>\n",
       "    .dataframe tbody tr th:only-of-type {\n",
       "        vertical-align: middle;\n",
       "    }\n",
       "\n",
       "    .dataframe tbody tr th {\n",
       "        vertical-align: top;\n",
       "    }\n",
       "\n",
       "    .dataframe thead th {\n",
       "        text-align: right;\n",
       "    }\n",
       "</style>\n",
       "<table border=\"1\" class=\"dataframe\">\n",
       "  <thead>\n",
       "    <tr style=\"text-align: right;\">\n",
       "      <th></th>\n",
       "      <th>belongs_to_collection</th>\n",
       "      <th>budget</th>\n",
       "      <th>genres</th>\n",
       "      <th>id</th>\n",
       "      <th>original_language</th>\n",
       "      <th>overview</th>\n",
       "      <th>popularity</th>\n",
       "      <th>release_date</th>\n",
       "      <th>revenue</th>\n",
       "      <th>title</th>\n",
       "      <th>vote_average</th>\n",
       "      <th>vote_count</th>\n",
       "      <th>return</th>\n",
       "      <th>release_year</th>\n",
       "      <th>Actors</th>\n",
       "      <th>Directores</th>\n",
       "    </tr>\n",
       "  </thead>\n",
       "  <tbody>\n",
       "    <tr>\n",
       "      <th>0</th>\n",
       "      <td>The Grudge Collection</td>\n",
       "      <td>20000000.0</td>\n",
       "      <td>Horror Thriller</td>\n",
       "      <td>1975.0</td>\n",
       "      <td>en</td>\n",
       "      <td>In Tokyo, a young woman is exposed to the same...</td>\n",
       "      <td>6.768804</td>\n",
       "      <td>2006-10-13</td>\n",
       "      <td>39143839.0</td>\n",
       "      <td>The Grudge 2</td>\n",
       "      <td>5.3</td>\n",
       "      <td>288.0</td>\n",
       "      <td>1.957192</td>\n",
       "      <td>2006</td>\n",
       "      <td>Sarah Michelle Gellar, Amber Tamblyn, Edison C...</td>\n",
       "      <td>Takashi Shimizu</td>\n",
       "    </tr>\n",
       "    <tr>\n",
       "      <th>1</th>\n",
       "      <td>standar</td>\n",
       "      <td>6000000.0</td>\n",
       "      <td>History Drama Western Crime</td>\n",
       "      <td>642.0</td>\n",
       "      <td>en</td>\n",
       "      <td>In late 1890s Wyoming, Butch Cassidy is the af...</td>\n",
       "      <td>6.714577</td>\n",
       "      <td>1969-09-23</td>\n",
       "      <td>102308889.0</td>\n",
       "      <td>Butch Cassidy and the Sundance Kid</td>\n",
       "      <td>7.4</td>\n",
       "      <td>659.0</td>\n",
       "      <td>17.051482</td>\n",
       "      <td>1969</td>\n",
       "      <td>Paul Newman, Robert Redford, Katharine Ross, S...</td>\n",
       "      <td>George Roy Hill</td>\n",
       "    </tr>\n",
       "    <tr>\n",
       "      <th>2</th>\n",
       "      <td>standar</td>\n",
       "      <td>20000000.0</td>\n",
       "      <td>Horror Science Fiction</td>\n",
       "      <td>9102.0</td>\n",
       "      <td>en</td>\n",
       "      <td>(SIRIUS 6B, Year 2078) On a distant mining pla...</td>\n",
       "      <td>12.758848</td>\n",
       "      <td>1995-09-08</td>\n",
       "      <td>5781885.0</td>\n",
       "      <td>Screamers</td>\n",
       "      <td>6.1</td>\n",
       "      <td>154.0</td>\n",
       "      <td>0.289094</td>\n",
       "      <td>1995</td>\n",
       "      <td>Peter Weller, Roy Dupuis, Jennifer Rubin, Andr...</td>\n",
       "      <td>Christian Duguay</td>\n",
       "    </tr>\n",
       "    <tr>\n",
       "      <th>3</th>\n",
       "      <td>Korengal Valley Documentaries</td>\n",
       "      <td>0.0</td>\n",
       "      <td>Documentary War</td>\n",
       "      <td>39312.0</td>\n",
       "      <td>en</td>\n",
       "      <td>Winner of the 2010 Sundance Film Festival Gran...</td>\n",
       "      <td>4.577881</td>\n",
       "      <td>2010-06-25</td>\n",
       "      <td>1422910.0</td>\n",
       "      <td>Restrepo</td>\n",
       "      <td>7.3</td>\n",
       "      <td>117.0</td>\n",
       "      <td>0.000000</td>\n",
       "      <td>2010</td>\n",
       "      <td>Juan \"Doc\" Restrepo, Dan Kearney, LaMonta Cald...</td>\n",
       "      <td>Sebastian Junger, Tim Hetherington</td>\n",
       "    </tr>\n",
       "    <tr>\n",
       "      <th>4</th>\n",
       "      <td>The Little Mermaid Collection</td>\n",
       "      <td>0.0</td>\n",
       "      <td>Family Animation</td>\n",
       "      <td>13676.0</td>\n",
       "      <td>en</td>\n",
       "      <td>Follow Ariel's adventures before she gave up h...</td>\n",
       "      <td>0.415606</td>\n",
       "      <td>2008-08-26</td>\n",
       "      <td>0.0</td>\n",
       "      <td>The Little Mermaid: Ariel's Beginning</td>\n",
       "      <td>6.3</td>\n",
       "      <td>187.0</td>\n",
       "      <td>0.000000</td>\n",
       "      <td>2008</td>\n",
       "      <td>Jodi Benson, Samuel E. Wright, Sally Field, Ji...</td>\n",
       "      <td>Peggy Holmes</td>\n",
       "    </tr>\n",
       "  </tbody>\n",
       "</table>\n",
       "</div>"
      ],
      "text/plain": [
       "           belongs_to_collection      budget                       genres  \\\n",
       "0          The Grudge Collection  20000000.0              Horror Thriller   \n",
       "1                        standar   6000000.0  History Drama Western Crime   \n",
       "2                        standar  20000000.0       Horror Science Fiction   \n",
       "3  Korengal Valley Documentaries         0.0              Documentary War   \n",
       "4  The Little Mermaid Collection         0.0             Family Animation   \n",
       "\n",
       "        id original_language  \\\n",
       "0   1975.0                en   \n",
       "1    642.0                en   \n",
       "2   9102.0                en   \n",
       "3  39312.0                en   \n",
       "4  13676.0                en   \n",
       "\n",
       "                                            overview  popularity release_date  \\\n",
       "0  In Tokyo, a young woman is exposed to the same...    6.768804   2006-10-13   \n",
       "1  In late 1890s Wyoming, Butch Cassidy is the af...    6.714577   1969-09-23   \n",
       "2  (SIRIUS 6B, Year 2078) On a distant mining pla...   12.758848   1995-09-08   \n",
       "3  Winner of the 2010 Sundance Film Festival Gran...    4.577881   2010-06-25   \n",
       "4  Follow Ariel's adventures before she gave up h...    0.415606   2008-08-26   \n",
       "\n",
       "       revenue                                  title  vote_average  \\\n",
       "0   39143839.0                           The Grudge 2           5.3   \n",
       "1  102308889.0     Butch Cassidy and the Sundance Kid           7.4   \n",
       "2    5781885.0                              Screamers           6.1   \n",
       "3    1422910.0                               Restrepo           7.3   \n",
       "4          0.0  The Little Mermaid: Ariel's Beginning           6.3   \n",
       "\n",
       "   vote_count     return  release_year  \\\n",
       "0       288.0   1.957192          2006   \n",
       "1       659.0  17.051482          1969   \n",
       "2       154.0   0.289094          1995   \n",
       "3       117.0   0.000000          2010   \n",
       "4       187.0   0.000000          2008   \n",
       "\n",
       "                                              Actors  \\\n",
       "0  Sarah Michelle Gellar, Amber Tamblyn, Edison C...   \n",
       "1  Paul Newman, Robert Redford, Katharine Ross, S...   \n",
       "2  Peter Weller, Roy Dupuis, Jennifer Rubin, Andr...   \n",
       "3  Juan \"Doc\" Restrepo, Dan Kearney, LaMonta Cald...   \n",
       "4  Jodi Benson, Samuel E. Wright, Sally Field, Ji...   \n",
       "\n",
       "                           Directores  \n",
       "0                     Takashi Shimizu  \n",
       "1                     George Roy Hill  \n",
       "2                    Christian Duguay  \n",
       "3  Sebastian Junger, Tim Hetherington  \n",
       "4                        Peggy Holmes  "
      ]
     },
     "execution_count": 109,
     "metadata": {},
     "output_type": "execute_result"
    }
   ],
   "source": [
    "df_movies = pd.merge(df_movies, df_credits, on='id', how='inner')\n",
    "df_movies.head()"
   ]
  },
  {
   "cell_type": "code",
   "execution_count": 110,
   "metadata": {},
   "outputs": [
    {
     "data": {
      "text/plain": [
       "(5000, 16)"
      ]
     },
     "execution_count": 110,
     "metadata": {},
     "output_type": "execute_result"
    }
   ],
   "source": [
    "df_movies.shape #dimensiones del dataset"
   ]
  },
  {
   "cell_type": "code",
   "execution_count": 111,
   "metadata": {},
   "outputs": [
    {
     "data": {
      "text/plain": [
       "belongs_to_collection    0\n",
       "budget                   0\n",
       "genres                   0\n",
       "id                       0\n",
       "original_language        0\n",
       "overview                 0\n",
       "popularity               0\n",
       "release_date             0\n",
       "revenue                  0\n",
       "title                    0\n",
       "vote_average             0\n",
       "vote_count               0\n",
       "return                   0\n",
       "release_year             0\n",
       "Actors                   0\n",
       "Directores               0\n",
       "dtype: int64"
      ]
     },
     "execution_count": 111,
     "metadata": {},
     "output_type": "execute_result"
    }
   ],
   "source": [
    "df_movies.isnull().sum() # verificamos si existen valores faltantes"
   ]
  },
  {
   "cell_type": "code",
   "execution_count": 112,
   "metadata": {},
   "outputs": [
    {
     "data": {
      "text/plain": [
       "belongs_to_collection     object\n",
       "budget                   float64\n",
       "genres                    object\n",
       "id                       float64\n",
       "original_language         object\n",
       "overview                  object\n",
       "popularity               float64\n",
       "release_date              object\n",
       "revenue                  float64\n",
       "title                     object\n",
       "vote_average             float64\n",
       "vote_count               float64\n",
       "return                   float64\n",
       "release_year               int32\n",
       "Actors                    object\n",
       "Directores                object\n",
       "dtype: object"
      ]
     },
     "execution_count": 112,
     "metadata": {},
     "output_type": "execute_result"
    }
   ],
   "source": [
    "df_movies.dtypes # observamos los tipos de datos de cada columna"
   ]
  },
  {
   "cell_type": "markdown",
   "metadata": {},
   "source": [
    "EXPORTAMOS EL DATASET df_movies"
   ]
  },
  {
   "cell_type": "code",
   "execution_count": 113,
   "metadata": {},
   "outputs": [],
   "source": [
    "df_movies.to_csv('df_movies.csv', index = False)"
   ]
  },
  {
   "cell_type": "markdown",
   "metadata": {},
   "source": [
    "## ELAVORANDO EL ALGORITMO DE RECOMENDACION"
   ]
  },
  {
   "cell_type": "markdown",
   "metadata": {},
   "source": [
    "Importamos las librerias TfidfVectorizer (para vectorizar las palabras) y cosine_similarity (calcular similitud entre el coseno de 2 vectores)"
   ]
  },
  {
   "cell_type": "code",
   "execution_count": 114,
   "metadata": {},
   "outputs": [],
   "source": [
    "from sklearn.feature_extraction.text import TfidfVectorizer \n",
    "from sklearn.metrics.pairwise import cosine_similarity"
   ]
  },
  {
   "cell_type": "code",
   "execution_count": 115,
   "metadata": {},
   "outputs": [
    {
     "name": "stdout",
     "output_type": "stream",
     "text": [
      "Requirement already satisfied: nltk in c:\\users\\jhnnc\\appdata\\local\\packages\\pythonsoftwarefoundation.python.3.10_qbz5n2kfra8p0\\localcache\\local-packages\\python310\\site-packages (3.9.1)\n",
      "Requirement already satisfied: click in c:\\users\\jhnnc\\appdata\\local\\packages\\pythonsoftwarefoundation.python.3.10_qbz5n2kfra8p0\\localcache\\local-packages\\python310\\site-packages (from nltk) (8.1.3)\n",
      "Requirement already satisfied: joblib in c:\\users\\jhnnc\\appdata\\local\\packages\\pythonsoftwarefoundation.python.3.10_qbz5n2kfra8p0\\localcache\\local-packages\\python310\\site-packages (from nltk) (1.2.0)\n",
      "Requirement already satisfied: regex>=2021.8.3 in c:\\users\\jhnnc\\appdata\\local\\packages\\pythonsoftwarefoundation.python.3.10_qbz5n2kfra8p0\\localcache\\local-packages\\python310\\site-packages (from nltk) (2023.12.25)\n",
      "Requirement already satisfied: tqdm in c:\\users\\jhnnc\\appdata\\local\\packages\\pythonsoftwarefoundation.python.3.10_qbz5n2kfra8p0\\localcache\\local-packages\\python310\\site-packages (from nltk) (4.65.0)\n",
      "Requirement already satisfied: colorama in c:\\users\\jhnnc\\appdata\\local\\packages\\pythonsoftwarefoundation.python.3.10_qbz5n2kfra8p0\\localcache\\local-packages\\python310\\site-packages (from click->nltk) (0.4.6)\n"
     ]
    },
    {
     "name": "stderr",
     "output_type": "stream",
     "text": [
      "\n",
      "[notice] A new release of pip is available: 23.1.2 -> 24.3.1\n",
      "[notice] To update, run: C:\\Users\\jhnnc\\AppData\\Local\\Microsoft\\WindowsApps\\PythonSoftwareFoundation.Python.3.10_qbz5n2kfra8p0\\python.exe -m pip install --upgrade pip\n"
     ]
    }
   ],
   "source": [
    "!pip install nltk"
   ]
  },
  {
   "cell_type": "markdown",
   "metadata": {},
   "source": [
    "LIMPIEZA DE TEXTO"
   ]
  },
  {
   "cell_type": "markdown",
   "metadata": {},
   "source": [
    "Haremos una limpieza de texto de las columnas overview, genres y belongs_to_collection que son las columnas tienen importancia para el sistema de recomendación, el algoritmo tomara la descripcion general (overview), los generos de cada pelicula (genres) y si la pelicula tiene o no colecciones (belongs_to_collection) para buscar las mejores recomendaciones para una pelicula.\n",
    "\n",
    "\n",
    "El proceso sera el siguiente: Nos quedaremos solo con las palabras de mayor relevancia, estas palabras solo seran letras y seran reducidas a su forma base si no lo estuvieran, posteriormente las convertiremos a minusculas y para finalizar las transformaremos a valores numericos (vectorizacion)"
   ]
  },
  {
   "cell_type": "code",
   "execution_count": 116,
   "metadata": {},
   "outputs": [],
   "source": [
    "# Proceso para la columna overview\n",
    "\n",
    "import re \n",
    "from nltk.stem.porter import PorterStemmer \n",
    "\n",
    "corpus_overview = []\n",
    "for i in range(0, 5000):\n",
    "  review = re.sub('[^a-zA-Z]', ' ', df_movies['overview'][i]) # solo toma todas las palabras que contengan de A a la Z tanto en mayusculas como minuculas\n",
    "  review = review.lower() # transformamos a minusculas\n",
    "  review = review.split() # cada palabra estara separada por comas y seran almacenadas en una lista\n",
    "  ps = PorterStemmer() #para quedarnos solo con las palabras raiz ejemplo loved -> love\n",
    "   \n",
    "  review = [ps.stem(word) for word in review] # guardamos en una lista todas las palabras ya stemizadas(convertidas a su raiz)\n",
    "  review = ' '.join(review) # unimos las palabras de la lista por un espacio en blanco\n",
    "  corpus_overview.append(review)"
   ]
  },
  {
   "cell_type": "code",
   "execution_count": 117,
   "metadata": {},
   "outputs": [],
   "source": [
    "# preparamos la funcion que quitara todas las palabras sin relevancia (stopwords)\n",
    "\n",
    "vectorizer = TfidfVectorizer(stop_words='english')"
   ]
  },
  {
   "cell_type": "code",
   "execution_count": 118,
   "metadata": {},
   "outputs": [],
   "source": [
    "# convertimos nuestra lista de palabras en vectores\n",
    "\n",
    "overview_matrix = vectorizer.fit_transform(corpus_overview)"
   ]
  },
  {
   "cell_type": "code",
   "execution_count": 119,
   "metadata": {},
   "outputs": [
    {
     "name": "stdout",
     "output_type": "stream",
     "text": [
      "['aam' 'aang' 'aaron' ... 'zula' 'zulu' 'zune']\n"
     ]
    }
   ],
   "source": [
    "# podemos observar la lista de palabras\n",
    "\n",
    "terminos_overview = vectorizer.get_feature_names_out()\n",
    "print(terminos_overview)"
   ]
  },
  {
   "cell_type": "code",
   "execution_count": 120,
   "metadata": {},
   "outputs": [],
   "source": [
    "# Proceso para la columna genres\n",
    "\n",
    "corpus_genres = []\n",
    "for i in range(0, 5000):\n",
    "  review = re.sub('[^a-zA-Z]', ' ', df_movies['genres'][i]) # solo toma todas las palabras que contengan de A a la Z tanto en mayusculas como minuculas\n",
    "  review = review.lower() # transformamos a minusculas\n",
    "  review = review.split() # cada palabra estara separada por comas y seran almacenadas en una lista\n",
    "  #ps = PorterStemmer() No stemizamos porque no haria ninguna diferencia para este caso\n",
    "\n",
    "  review = [word for word in review] # guardamos en una lista todas las palabras que no sean stopwords\n",
    "  review = ' '.join(review) # unimos las palabras de la lista por un espacio en blanco\n",
    "  corpus_genres.append(review)"
   ]
  },
  {
   "cell_type": "code",
   "execution_count": 121,
   "metadata": {},
   "outputs": [],
   "source": [
    "# convertimos nuestra lista de palabras en vectores\n",
    "\n",
    "genres_matrix = vectorizer.fit_transform(corpus_genres)"
   ]
  },
  {
   "cell_type": "code",
   "execution_count": 122,
   "metadata": {},
   "outputs": [
    {
     "name": "stdout",
     "output_type": "stream",
     "text": [
      "['action' 'adventure' 'animation' 'comedy' 'crime' 'documentary' 'drama'\n",
      " 'family' 'fantasy' 'fiction' 'history' 'horror' 'movie' 'music' 'mystery'\n",
      " 'romance' 'science' 'thriller' 'tv' 'war' 'western']\n"
     ]
    }
   ],
   "source": [
    "# podemos observar la lista de palabras\n",
    "\n",
    "terminos_genres = vectorizer.get_feature_names_out()\n",
    "print(terminos_genres)"
   ]
  },
  {
   "cell_type": "code",
   "execution_count": 123,
   "metadata": {},
   "outputs": [],
   "source": [
    "corpus_collection = []\n",
    "for i in range(0, df_movies.shape[0]): # iteramos las 5000 filas de la columna belongs_to_collection\n",
    "    review = re.sub('[^a-zA-Z]', ' ', df_movies['belongs_to_collection'][i]) #solo toma los valores de A a la Z tanto en mayusculas como minuculas\n",
    "    review = review.lower() # transformamos a minusculas\n",
    "    review = review.split() # cada palabra estara separada por comas y seran almacenadas en una lista\n",
    "    #ps = PorterStemmer() No stemizamos porque no haria ninguna diferencia para este caso\n",
    "    review = [word for word in review] # guardamos en una lista todas las palabras que no sean stopwords\n",
    "    review = ' '.join(review) # unimos las palabras de la lista por un espacio en blanco\n",
    "    corpus_collection.append(review)"
   ]
  },
  {
   "cell_type": "code",
   "execution_count": 124,
   "metadata": {},
   "outputs": [],
   "source": [
    "# convertimos nuestra lista de palabras en vectores\n",
    "collection_matrix = vectorizer.fit_transform(corpus_collection)"
   ]
  },
  {
   "cell_type": "code",
   "execution_count": 125,
   "metadata": {},
   "outputs": [
    {
     "name": "stdout",
     "output_type": "stream",
     "text": [
      "['academy' 'ace' 'act' 'action' 'activity' 'addams' 'age' 'agent'\n",
      " 'airplane' 'aladdin' 'alex' 'alice' 'alien' 'almighty' 'alpha'\n",
      " 'alternate' 'alvin' 'amazing' 'america' 'american' 'amityville'\n",
      " 'anaconda' 'analyze' 'anchorman' 'anglo' 'animated' 'animation'\n",
      " 'animator' 'annabelle' 'ant' 'anthology' 'apes' 'arrival' 'art' 'arthur'\n",
      " 'ass' 'atlantis' 'austin' 'avatar' 'avengers' 'avp' 'babe' 'bachelor'\n",
      " 'bad' 'balto' 'bambi' 'bandit' 'banks' 'barbarian' 'barbershop' 'basic'\n",
      " 'batman' 'battlestar' 'beach' 'bean' 'bear' 'beast' 'beasts' 'beauty'\n",
      " 'beethoven' 'bell' 'best' 'beverly' 'big' 'bigalow' 'biohazard' 'black'\n",
      " 'blade' 'blair' 'blonde' 'bloodrayne' 'bloodsport' 'blue' 'blues' 'bond'\n",
      " 'boogeyman' 'book' 'boondock' 'bosses' 'bourne' 'boys' 'bride' 'bridget'\n",
      " 'bring' 'brooklyn' 'brother' 'brothers' 'butterfly' 'cabin' 'caddyshack'\n",
      " 'camp' 'candyman' 'cannonball' 'captain' 'caribbean' 'carrie' 'cars'\n",
      " 'cats' 'cell' 'centipede' 'chainsaw' 'chance' 'che' 'cheaper' 'cheech'\n",
      " 'chihuahua' 'child' 'children' 'chili' 'chipmunks' 'chong' 'christmas'\n",
      " 'chronicles' 'cigar' 'cinderella' 'circuit' 'city' 'clash' 'clause'\n",
      " 'clerks' 'cloudy' 'clyde' 'cocoon' 'cody' 'collection' 'collector'\n",
      " 'conan' 'congeniality' 'conjuring' 'connecticut' 'connection' 'cop'\n",
      " 'corn' 'corpses' 'couple' 'crank' 'crazy' 'creature' 'creek' 'creepers'\n",
      " 'creepshow' 'critters' 'crocodile' 'cross' 'crouching' 'crow' 'cruel'\n",
      " 'cube' 'cyborg' 'daddy' 'dalmatians' 'dame' 'dancing' 'dark' 'darkman'\n",
      " 'darko' 'dawn' 'day' 'days' 'dc' 'dead' 'deadpool' 'death' 'descent'\n",
      " 'despicable' 'destination' 'deuce' 'diaries' 'diary' 'did' 'die' 'dirt'\n",
      " 'dirty' 'divergent' 'documentaries' 'dogs' 'dolittle' 'dolphin' 'doo'\n",
      " 'dozen' 'dr' 'dracula' 'dragon' 'dragonheart' 'dragons' 'ducks' 'dukes'\n",
      " 'dumb' 'dumber' 'dundee' 'dungeons' 'dusk' 'effect' 'elizabeth' 'elm'\n",
      " 'encounters' 'enemy' 'english' 'escape' 'evil' 'exorcism' 'exorcist'\n",
      " 'exotic' 'expendables' 'eye' 'eyes' 'fairy' 'fallen' 'family' 'fang'\n",
      " 'fantasia' 'fantastic' 'fantasy' 'fast' 'fat' 'father' 'feet' 'ferngully'\n",
      " 'fever' 'fighter' 'files' 'final' 'finding' 'firestarter' 'fists'\n",
      " 'fletch' 'flintstones' 'fly' 'fox' 'frankenstein' 'free' 'french'\n",
      " 'friday' 'fright' 'frozen' 'fu' 'fugitive' 'furious' 'futurama' 'future'\n",
      " 'gadget' 'galactica' 'galaxy' 'games' 'garden' 'garfield' 'generation'\n",
      " 'ghost' 'ghostbusters' 'ginger' 'girls' 'gittes' 'goal' 'godfather'\n",
      " 'gods' 'gold' 'goofy' 'graffiti' 'grave' 'grease' 'greek' 'green'\n",
      " 'gremlins' 'grindhouse' 'gromit' 'grown' 'grudge' 'grumpy' 'guardians'\n",
      " 'gun' 'guns' 'guy' 'halloween' 'hammer' 'hangover' 'hannibal' 'happy'\n",
      " 'hard' 'harold' 'harry' 'hatchet' 'haunted' 'haunting' 'hazzard' 'heart'\n",
      " 'heaven' 'heavy' 'hellboy' 'hellraiser' 'helsing' 'herbie' 'hidden'\n",
      " 'high' 'highlander' 'hill' 'hills' 'hitcher' 'hitman' 'hobbit' 'hollow'\n",
      " 'holmes' 'home' 'honey' 'hoodwinked' 'hooligans' 'horrible' 'horror'\n",
      " 'hostel' 'hot' 'hotel' 'hound' 'hour' 'house' 'howling' 'hrs' 'human'\n",
      " 'hunchback' 'hunger' 'huntsman' 'ice' 'impossible' 'inbetweeners'\n",
      " 'incredibles' 'independence' 'indiana' 'insidious' 'inspector' 'instinct'\n",
      " 'intentions' 'invisible' 'invisibles' 'iron' 'jack' 'jackass' 'jackson'\n",
      " 'jake' 'james' 'jarhead' 'jaws' 'jeepers' 'jingle' 'joe' 'john' 'johnny'\n",
      " 'jones' 'journey' 'joy' 'jump' 'jungle' 'jurassic' 'justice' 'karate'\n",
      " 'kick' 'kid' 'kids' 'kill' 'kindergarten' 'king' 'kings' 'kingsman'\n",
      " 'knight' 'know' 'kolekce' 'kombat' 'korengal' 'kumar' 'kung' 'lady'\n",
      " 'lagoon' 'lampoon' 'land' 'langdon' 'later' 'lawnmower' 'league' 'lecter'\n",
      " 'legally' 'legend' 'lego' 'leprechaun' 'lethal' 'librarian' 'like' 'lilo'\n",
      " 'lines' 'lion' 'little' 'live' 'living' 'lord' 'lost' 'machete' 'machine'\n",
      " 'mad' 'madagascar' 'magic' 'magnificent' 'major' 'mall' 'man' 'mannequin'\n",
      " 'marigold' 'marine' 'marley' 'marshals' 'martin' 'mask' 'massacre'\n",
      " 'matrix' 'max' 'maze' 'mcphee' 'meatballs' 'mechanic' 'meet' 'men'\n",
      " 'mermaid' 'messengers' 'metal' 'mexico' 'mighty' 'mike' 'mimic' 'mirrors'\n",
      " 'miss' 'missed' 'mission' 'mm' 'monsters' 'mortal' 'mothers' 'movie' 'mr'\n",
      " 'mulan' 'mummy' 'muppet' 'museum' 'musical' 'mutant' 'naked' 'nanny'\n",
      " 'narnia' 'national' 'navarone' 'neighbors' 'nemo' 'neverending' 'night'\n",
      " 'nightmare' 'nimh' 'ninja' 'noise' 'noon' 'nosed' 'notre' 'nutty' 'odd'\n",
      " 'odyssey' 'old' 'omega' 'omen' 'open' 'original' 'ouija' 'pacific' 'pact'\n",
      " 'paddle' 'palmer' 'pan' 'panda' 'panther' 'pants' 'paranormal' 'parents'\n",
      " 'park' 'party' 'percy' 'perfect' 'pet' 'peter' 'phantasm' 'philo' 'pie'\n",
      " 'pink' 'piranha' 'pirates' 'pitch' 'planes' 'planet' 'pocahontas'\n",
      " 'police' 'poltergeist' 'potter' 'power' 'powers' 'predator' 'presents'\n",
      " 'princess' 'problem' 'professor' 'prometheus' 'psycho' 'pulse' 'pumping'\n",
      " 'purge' 'qatsi' 'quarantine' 'race' 'raider' 'ralph' 'rambo' 'rangers'\n",
      " 'reacher' 'reality' 'reboot' 'rec' 'red' 'reindeer' 'remake' 'rescuers'\n",
      " 'resident' 'return' 'returns' 'riddick' 'ride' 'rider' 'rim' 'ring'\n",
      " 'rings' 'rio' 'rising' 'road' 'rob' 'robert' 'robocop' 'rock' 'rocky'\n",
      " 'romancing' 'rounds' 'rudolph' 'rugrats' 'run' 'runner' 'rush' 'ryan'\n",
      " 'saints' 'santa' 'saw' 'scary' 'school' 'scooby' 'scream' 'season'\n",
      " 'secret' 'sematary' 'series' 'seven' 'sex' 'sg' 'shades' 'shadow' 'shaft'\n",
      " 'shanghai' 'sharknado' 'sherlock' 'short' 'shots' 'showgirls' 'shrek'\n",
      " 'shrunk' 'siege' 'silent' 'sin' 'sinister' 'sister' 'sisterhood'\n",
      " 'slickers' 'smokey' 'smurfs' 'snaps' 'soldier' 'son' 'space' 'species'\n",
      " 'speed' 'spider' 'spin' 'spit' 'splash' 'spongebob' 'spy' 'stake'\n",
      " 'standar' 'star' 'stargate' 'starship' 'steel' 'step' 'steps' 'steve'\n",
      " 'stitch' 'stone' 'store' 'story' 'street' 'streetdance' 'stuart' 'suck'\n",
      " 'summer' 'super' 'superman' 'swan' 'taken' 'tale' 'tall' 'tangled'\n",
      " 'target' 'tarzan' 'ted' 'teen' 'teenage' 'tekken' 'terminator' 'texas'\n",
      " 'th' 'theatrical' 'thing' 'things' 'think' 'thor' 'tiger' 'till' 'time'\n",
      " 'timecop' 'tinker' 'titans' 'tomb' 'tooth' 'toy' 'train' 'trainspotting'\n",
      " 'tramp' 'transformers' 'transporter' 'transylvania' 'traveling'\n",
      " 'treasure' 'trek' 'tremors' 'trilogy' 'trip' 'tron' 'troopers' 'tub'\n",
      " 'turn' 'turtles' 'twilight' 'underworld' 'undisputed' 'universal'\n",
      " 'universe' 'ups' 'urban' 'vacancy' 'valley' 'vampire' 'vampires' 'van'\n",
      " 'ventura' 'visitors' 'walking' 'wall' 'wallace' 'war' 'wargames' 'wars'\n",
      " 'water' 'way' 'weapon' 'wedding' 'weeks' 'westworld' 'white' 'wick'\n",
      " 'wild' 'wilder' 'willy' 'wimpy' 'wish' 'wishmaster' 'witch' 'wolf'\n",
      " 'wolverine' 'woman' 'wonder' 'wonderland' 'wreck' 'wrong' 'xxx'\n",
      " 'yamakasi' 'yards' 'young' 'zombie' 'zoolander' 'zorro' 'zulu']\n"
     ]
    }
   ],
   "source": [
    "# podemos observar la lista de palabras\n",
    "terminos_collection = vectorizer.get_feature_names_out()\n",
    "print(terminos_collection)"
   ]
  },
  {
   "cell_type": "markdown",
   "metadata": {},
   "source": [
    "convertimos los vectores generados a arrays y las unimos con column_stack"
   ]
  },
  {
   "cell_type": "code",
   "execution_count": 126,
   "metadata": {},
   "outputs": [],
   "source": [
    "features = np.column_stack([collection_matrix.toarray(), genres_matrix.toarray(), overview_matrix.toarray()])"
   ]
  },
  {
   "cell_type": "code",
   "execution_count": 127,
   "metadata": {},
   "outputs": [],
   "source": [
    "# Ahora, calculamos la matriz de similitud de coseno\n",
    "similarity_matrix = cosine_similarity(features)"
   ]
  },
  {
   "cell_type": "code",
   "execution_count": 128,
   "metadata": {},
   "outputs": [],
   "source": [
    "def recomendacion(titulo: str):\n",
    "\n",
    "    \n",
    "    movie = df_movies[df_movies['title'].str.lower() == titulo.lower()]\n",
    "\n",
    "    if not movie.empty:\n",
    "        movie_index = movie.index[0] #obtenemos el indice\n",
    "        movie_similarities = similarity_matrix[movie_index] # obtenemos la fila que contiene los valores de similitud entre todas las peliculas y la pelicula especificada \n",
    "        most_similar_movie_indices = np.argsort(-movie_similarities) # ordenamos los indices de forma descendente\n",
    "        most_similar_movie = df_movies.loc[most_similar_movie_indices, 'title'] # buscamos todas las peliculas similares con respecto a los indices de las peliculas en el dataset original\n",
    "        print(\"Las peliculas más similares al titulo\", titulo, \"son:\\n\")\n",
    "        print(most_similar_movie[:10])\n",
    "    else:\n",
    "        print(\"Pelicula no encontrado\")"
   ]
  },
  {
   "cell_type": "code",
   "execution_count": 129,
   "metadata": {},
   "outputs": [
    {
     "name": "stdout",
     "output_type": "stream",
     "text": [
      "Las peliculas más similares al titulo Star Wars son:\n",
      "\n",
      "3794                                       Star Wars\n",
      "442                          The Empire Strikes Back\n",
      "2099                              Return of the Jedi\n",
      "2630                    Star Wars: The Force Awakens\n",
      "2474    Star Wars: Episode III - Revenge of the Sith\n",
      "332        Star Wars: Episode I - The Phantom Menace\n",
      "2387    Star Wars: Episode II - Attack of the Clones\n",
      "753                     Rogue One: A Star Wars Story\n",
      "3915                         Star Trek Into Darkness\n",
      "2998                              Star Trek: Nemesis\n",
      "Name: title, dtype: object\n"
     ]
    }
   ],
   "source": [
    "recomendacion('Star Wars')"
   ]
  }
 ],
 "metadata": {
  "kernelspec": {
   "display_name": "Python 3",
   "language": "python",
   "name": "python3"
  },
  "language_info": {
   "codemirror_mode": {
    "name": "ipython",
    "version": 3
   },
   "file_extension": ".py",
   "mimetype": "text/x-python",
   "name": "python",
   "nbconvert_exporter": "python",
   "pygments_lexer": "ipython3",
   "version": "3.10.11"
  }
 },
 "nbformat": 4,
 "nbformat_minor": 2
}
